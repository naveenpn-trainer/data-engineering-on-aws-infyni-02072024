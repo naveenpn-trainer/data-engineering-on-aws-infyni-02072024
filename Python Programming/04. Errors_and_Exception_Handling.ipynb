{
  "cells": [
    {
      "cell_type": "code",
      "execution_count": null,
      "metadata": {
        "id": "mkLOUiIkM3Xa"
      },
      "outputs": [],
      "source": []
    },
    {
      "cell_type": "markdown",
      "metadata": {
        "id": "pXkUhYQiM-Uq"
      },
      "source": [
        "# What are Exceptions\n",
        "\n",
        "Exceptions are errors that occurs during the execution of a program"
      ]
    },
    {
      "cell_type": "code",
      "execution_count": null,
      "metadata": {
        "id": "hyewvFu0NFBm"
      },
      "outputs": [],
      "source": []
    },
    {
      "cell_type": "markdown",
      "metadata": {
        "id": "dTJbst9VNu9J"
      },
      "source": [
        "# Built-in Exceptions\n",
        "\n",
        "* IndentationError\n",
        "* ArithmeticError\n",
        "* KeyError\n",
        "* IndexError\n"
      ]
    },
    {
      "cell_type": "code",
      "execution_count": null,
      "metadata": {
        "colab": {
          "background_save": true
        },
        "id": "mLhyhGpeP0SL",
        "outputId": "22bc176f-863a-43db-df3b-a436c4d89925"
      },
      "outputs": [
        {
          "name": "stdout",
          "output_type": "stream",
          "text": [
            "ArithmeticError\n",
            "AssertionError\n",
            "AttributeError\n",
            "BaseException\n",
            "BlockingIOError\n",
            "BrokenPipeError\n",
            "BufferError\n",
            "BytesWarning\n",
            "ChildProcessError\n",
            "ConnectionAbortedError\n",
            "ConnectionError\n",
            "ConnectionRefusedError\n",
            "ConnectionResetError\n",
            "DeprecationWarning\n",
            "EOFError\n",
            "Ellipsis\n",
            "EncodingWarning\n",
            "EnvironmentError\n",
            "Exception\n",
            "False\n",
            "FileExistsError\n",
            "FileNotFoundError\n",
            "FloatingPointError\n",
            "FutureWarning\n",
            "GeneratorExit\n",
            "IOError\n",
            "ImportError\n",
            "ImportWarning\n",
            "IndentationError\n",
            "IndexError\n",
            "InterruptedError\n",
            "IsADirectoryError\n",
            "KeyError\n",
            "KeyboardInterrupt\n",
            "LookupError\n",
            "MemoryError\n",
            "ModuleNotFoundError\n",
            "NameError\n",
            "None\n",
            "NotADirectoryError\n",
            "NotImplemented\n",
            "NotImplementedError\n",
            "OSError\n",
            "OverflowError\n",
            "PendingDeprecationWarning\n",
            "PermissionError\n",
            "ProcessLookupError\n",
            "RecursionError\n",
            "ReferenceError\n",
            "ResourceWarning\n",
            "RuntimeError\n",
            "RuntimeWarning\n",
            "StopAsyncIteration\n",
            "StopIteration\n",
            "SyntaxError\n",
            "SyntaxWarning\n",
            "SystemError\n",
            "SystemExit\n",
            "TabError\n",
            "TimeoutError\n",
            "True\n",
            "TypeError\n",
            "UnboundLocalError\n",
            "UnicodeDecodeError\n",
            "UnicodeEncodeError\n",
            "UnicodeError\n",
            "UnicodeTranslateError\n",
            "UnicodeWarning\n",
            "UserWarning\n",
            "ValueError\n",
            "Warning\n",
            "ZeroDivisionError\n",
            "__IPYTHON__\n",
            "__build_class__\n",
            "__debug__\n",
            "__doc__\n",
            "__import__\n",
            "__loader__\n",
            "__name__\n",
            "__package__\n",
            "__spec__\n",
            "abs\n",
            "aiter\n",
            "all\n",
            "anext\n",
            "any\n",
            "ascii\n",
            "bin\n",
            "bool\n",
            "breakpoint\n",
            "bytearray\n",
            "bytes\n",
            "callable\n",
            "chr\n",
            "classmethod\n",
            "compile\n",
            "complex\n",
            "copyright\n",
            "credits\n",
            "delattr\n",
            "dict\n",
            "dir\n",
            "display\n",
            "divmod\n",
            "enumerate\n",
            "eval\n",
            "exec\n",
            "execfile\n",
            "filter\n",
            "float\n",
            "format\n",
            "frozenset\n",
            "get_ipython\n",
            "getattr\n",
            "globals\n",
            "hasattr\n",
            "hash\n",
            "help\n",
            "hex\n",
            "id\n",
            "input\n",
            "int\n",
            "isinstance\n",
            "issubclass\n",
            "iter\n",
            "len\n",
            "license\n",
            "list\n",
            "locals\n",
            "map\n",
            "max\n",
            "memoryview\n",
            "min\n",
            "next\n",
            "object\n",
            "oct\n",
            "open\n",
            "ord\n",
            "pow\n",
            "print\n",
            "property\n",
            "range\n",
            "repr\n",
            "reversed\n",
            "round\n",
            "runfile\n",
            "set\n",
            "setattr\n",
            "slice\n",
            "sorted\n",
            "staticmethod\n",
            "str\n",
            "sum\n",
            "super\n",
            "tuple\n",
            "type\n",
            "vars\n",
            "zip\n"
          ]
        }
      ],
      "source": [
        "for e in dir(locals()['__builtins__']):\n",
        "  print(e)"
      ]
    },
    {
      "cell_type": "markdown",
      "metadata": {
        "id": "r61ovI6rPMJp"
      },
      "source": [
        "## Indentation Error\n",
        "\n",
        "An Indentation error is a compile-time error that occurs when tabs or spaces in a code do not follow expected patterns. This is typically a syntax error."
      ]
    },
    {
      "cell_type": "code",
      "source": [
        "for i in range(3):\n",
        "print(i)"
      ],
      "metadata": {
        "id": "4m3lulPGSzlt",
        "colab": {
          "base_uri": "https://localhost:8080/",
          "height": 109
        },
        "outputId": "ef0ff491-b005-4fb3-db62-93a1664f811a"
      },
      "execution_count": null,
      "outputs": [
        {
          "output_type": "error",
          "ename": "IndentationError",
          "evalue": "expected an indented block after 'for' statement on line 1 (<ipython-input-3-78291925d94f>, line 2)",
          "traceback": [
            "\u001b[0;36m  File \u001b[0;32m\"<ipython-input-3-78291925d94f>\"\u001b[0;36m, line \u001b[0;32m2\u001b[0m\n\u001b[0;31m    print(i)\u001b[0m\n\u001b[0m    ^\u001b[0m\n\u001b[0;31mIndentationError\u001b[0m\u001b[0;31m:\u001b[0m expected an indented block after 'for' statement on line 1\n"
          ]
        }
      ]
    },
    {
      "cell_type": "code",
      "execution_count": null,
      "metadata": {
        "colab": {
          "base_uri": "https://localhost:8080/",
          "height": 109
        },
        "id": "T6iA3FkZPRXj",
        "outputId": "c4016f14-321a-4109-96d8-2b791c6b4505"
      },
      "outputs": [
        {
          "output_type": "error",
          "ename": "IndentationError",
          "evalue": "expected an indented block after function definition on line 1 (<ipython-input-4-6942123b011f>, line 2)",
          "traceback": [
            "\u001b[0;36m  File \u001b[0;32m\"<ipython-input-4-6942123b011f>\"\u001b[0;36m, line \u001b[0;32m2\u001b[0m\n\u001b[0;31m    if a > 2:\u001b[0m\n\u001b[0m    ^\u001b[0m\n\u001b[0;31mIndentationError\u001b[0m\u001b[0;31m:\u001b[0m expected an indented block after function definition on line 1\n"
          ]
        }
      ],
      "source": [
        "def check_number(a):\n",
        "if a > 2:\n",
        "if a < 7:\n",
        "return \"Number is between 2 and 7\"\n",
        "return \"Number is greater than 2\"\n",
        "return \"Number is out of the range of 2 and 7\""
      ]
    },
    {
      "cell_type": "code",
      "execution_count": null,
      "metadata": {
        "id": "ed74sTGMPUcO"
      },
      "outputs": [],
      "source": [
        "def check_number(a):\n",
        "    if a > 2:\n",
        "        if a < 7:\n",
        "            return \"Number is between 2 and 7\"\n",
        "        return \"Number is greater than 2\"\n",
        "    return \"Number is out of the range of 2 and 7\"\n",
        "\n",
        "a = 5\n",
        "result = check_number(a)\n",
        "print(result)"
      ]
    },
    {
      "cell_type": "markdown",
      "metadata": {
        "id": "69ZaXxQzOFCX"
      },
      "source": [
        "## Arithmetic Error\n",
        "\n",
        "The ArithmeticError Exception is the base class for all errors associated with arithmetic operation.\n",
        "\n",
        "ArithmeticError types in Python include:\n",
        "\n",
        "1. OverFlowError\n",
        "2. ZeroDivisionError\n",
        "3. FloatingPointError\n",
        "\n"
      ]
    },
    {
      "cell_type": "markdown",
      "metadata": {
        "id": "wQY7R1jWOTqu"
      },
      "source": [
        "### Zero Division Error"
      ]
    },
    {
      "cell_type": "code",
      "execution_count": null,
      "metadata": {
        "id": "f31OBhHzNySd",
        "colab": {
          "base_uri": "https://localhost:8080/",
          "height": 164
        },
        "outputId": "3c910ec8-72cd-4d17-9dad-869cbf9b77fc"
      },
      "outputs": [
        {
          "output_type": "error",
          "ename": "ZeroDivisionError",
          "evalue": "division by zero",
          "traceback": [
            "\u001b[0;31m---------------------------------------------------------------------------\u001b[0m",
            "\u001b[0;31mZeroDivisionError\u001b[0m                         Traceback (most recent call last)",
            "\u001b[0;32m<ipython-input-5-39ef592c7ba2>\u001b[0m in \u001b[0;36m<cell line: 1>\u001b[0;34m()\u001b[0m\n\u001b[0;32m----> 1\u001b[0;31m \u001b[0mresult\u001b[0m \u001b[0;34m=\u001b[0m \u001b[0;36m5\u001b[0m\u001b[0;34m/\u001b[0m\u001b[0;36m0\u001b[0m\u001b[0;34m\u001b[0m\u001b[0;34m\u001b[0m\u001b[0m\n\u001b[0m\u001b[1;32m      2\u001b[0m \u001b[0mprint\u001b[0m\u001b[0;34m(\u001b[0m\u001b[0mresult\u001b[0m\u001b[0;34m)\u001b[0m\u001b[0;34m\u001b[0m\u001b[0;34m\u001b[0m\u001b[0m\n",
            "\u001b[0;31mZeroDivisionError\u001b[0m: division by zero"
          ]
        }
      ],
      "source": [
        "result = 5/0\n",
        "print(result)"
      ]
    },
    {
      "cell_type": "markdown",
      "metadata": {
        "id": "a9XnE5tQOc7Y"
      },
      "source": [
        "### Overflow Error"
      ]
    },
    {
      "cell_type": "code",
      "execution_count": null,
      "metadata": {
        "colab": {
          "base_uri": "https://localhost:8080/",
          "height": 182
        },
        "id": "H7rW4oWpOiPR",
        "outputId": "dedf3101-c42f-4a67-be2f-4be72c70d589"
      },
      "outputs": [
        {
          "output_type": "error",
          "ename": "OverflowError",
          "evalue": "(34, 'Numerical result out of range')",
          "traceback": [
            "\u001b[0;31m---------------------------------------------------------------------------\u001b[0m",
            "\u001b[0;31mOverflowError\u001b[0m                             Traceback (most recent call last)",
            "\u001b[0;32m<ipython-input-6-3c2c0faab841>\u001b[0m in \u001b[0;36m<cell line: 2>\u001b[0;34m()\u001b[0m\n\u001b[1;32m      1\u001b[0m \u001b[0mj\u001b[0m \u001b[0;34m=\u001b[0m \u001b[0;36m5.0\u001b[0m\u001b[0;34m\u001b[0m\u001b[0;34m\u001b[0m\u001b[0m\n\u001b[1;32m      2\u001b[0m \u001b[0;32mfor\u001b[0m \u001b[0mi\u001b[0m \u001b[0;32min\u001b[0m \u001b[0mrange\u001b[0m\u001b[0;34m(\u001b[0m\u001b[0;36m1\u001b[0m\u001b[0;34m,\u001b[0m \u001b[0;36m1000\u001b[0m\u001b[0;34m)\u001b[0m\u001b[0;34m:\u001b[0m\u001b[0;34m\u001b[0m\u001b[0;34m\u001b[0m\u001b[0m\n\u001b[0;32m----> 3\u001b[0;31m   \u001b[0mj\u001b[0m \u001b[0;34m=\u001b[0m \u001b[0mj\u001b[0m\u001b[0;34m**\u001b[0m\u001b[0mi\u001b[0m\u001b[0;34m\u001b[0m\u001b[0;34m\u001b[0m\u001b[0m\n\u001b[0m",
            "\u001b[0;31mOverflowError\u001b[0m: (34, 'Numerical result out of range')"
          ]
        }
      ],
      "source": [
        "j = 5.0\n",
        "for i in range(1, 1000):\n",
        "  j = j**i"
      ]
    },
    {
      "cell_type": "code",
      "execution_count": null,
      "metadata": {
        "id": "tSuG4KsYOk3X"
      },
      "outputs": [],
      "source": [
        "j = 5.0\n",
        "\n",
        "try:\n",
        "    for i in range(1, 1000):\n",
        "        j = j**i\n",
        "except ArithmeticError as e:\n",
        "    print(f\"{e}, {e.__class__}\")"
      ]
    },
    {
      "cell_type": "markdown",
      "source": [
        "## Index Error\n",
        "\n",
        "Raised when an index doesn't exist in an iterable:"
      ],
      "metadata": {
        "id": "QupDRk2EQfNC"
      }
    },
    {
      "cell_type": "code",
      "source": [
        "even_numbers = [2,4,6,8]\n",
        "print(even_numbers[5])"
      ],
      "metadata": {
        "id": "RQ1B8-uDQfvC",
        "colab": {
          "base_uri": "https://localhost:8080/",
          "height": 164
        },
        "outputId": "5c48d6b9-0a22-4740-88e5-06ba031cad3f"
      },
      "execution_count": null,
      "outputs": [
        {
          "output_type": "error",
          "ename": "IndexError",
          "evalue": "list index out of range",
          "traceback": [
            "\u001b[0;31m---------------------------------------------------------------------------\u001b[0m",
            "\u001b[0;31mIndexError\u001b[0m                                Traceback (most recent call last)",
            "\u001b[0;32m<ipython-input-7-a133bac4c951>\u001b[0m in \u001b[0;36m<cell line: 2>\u001b[0;34m()\u001b[0m\n\u001b[1;32m      1\u001b[0m \u001b[0meven_numbers\u001b[0m \u001b[0;34m=\u001b[0m \u001b[0;34m[\u001b[0m\u001b[0;36m2\u001b[0m\u001b[0;34m,\u001b[0m\u001b[0;36m4\u001b[0m\u001b[0;34m,\u001b[0m\u001b[0;36m6\u001b[0m\u001b[0;34m,\u001b[0m\u001b[0;36m8\u001b[0m\u001b[0;34m]\u001b[0m\u001b[0;34m\u001b[0m\u001b[0;34m\u001b[0m\u001b[0m\n\u001b[0;32m----> 2\u001b[0;31m \u001b[0mprint\u001b[0m\u001b[0;34m(\u001b[0m\u001b[0meven_numbers\u001b[0m\u001b[0;34m[\u001b[0m\u001b[0;36m5\u001b[0m\u001b[0;34m]\u001b[0m\u001b[0;34m)\u001b[0m\u001b[0;34m\u001b[0m\u001b[0;34m\u001b[0m\u001b[0m\n\u001b[0m",
            "\u001b[0;31mIndexError\u001b[0m: list index out of range"
          ]
        }
      ]
    },
    {
      "cell_type": "markdown",
      "source": [
        "## KeyError"
      ],
      "metadata": {
        "id": "Uk41HGTRRHeM"
      }
    },
    {
      "cell_type": "code",
      "source": [
        "employees = {1: \"John\", 2: \"Darren\", 3: \"Paul\"}\n",
        "print(employees[4])"
      ],
      "metadata": {
        "colab": {
          "base_uri": "https://localhost:8080/",
          "height": 164
        },
        "id": "qsdvbZClRJbv",
        "outputId": "39a2b351-20a1-4277-c835-6caf771d0a6d"
      },
      "execution_count": null,
      "outputs": [
        {
          "output_type": "error",
          "ename": "KeyError",
          "evalue": "4",
          "traceback": [
            "\u001b[0;31m---------------------------------------------------------------------------\u001b[0m",
            "\u001b[0;31mKeyError\u001b[0m                                  Traceback (most recent call last)",
            "\u001b[0;32m<ipython-input-8-55f4486f5c3d>\u001b[0m in \u001b[0;36m<cell line: 2>\u001b[0;34m()\u001b[0m\n\u001b[1;32m      1\u001b[0m \u001b[0memployees\u001b[0m \u001b[0;34m=\u001b[0m \u001b[0;34m{\u001b[0m\u001b[0;36m1\u001b[0m\u001b[0;34m:\u001b[0m \u001b[0;34m\"John\"\u001b[0m\u001b[0;34m,\u001b[0m \u001b[0;36m2\u001b[0m\u001b[0;34m:\u001b[0m \u001b[0;34m\"Darren\"\u001b[0m\u001b[0;34m,\u001b[0m \u001b[0;36m3\u001b[0m\u001b[0;34m:\u001b[0m \u001b[0;34m\"Paul\"\u001b[0m\u001b[0;34m}\u001b[0m\u001b[0;34m\u001b[0m\u001b[0;34m\u001b[0m\u001b[0m\n\u001b[0;32m----> 2\u001b[0;31m \u001b[0mprint\u001b[0m\u001b[0;34m(\u001b[0m\u001b[0memployees\u001b[0m\u001b[0;34m[\u001b[0m\u001b[0;36m4\u001b[0m\u001b[0;34m]\u001b[0m\u001b[0;34m)\u001b[0m\u001b[0;34m\u001b[0m\u001b[0;34m\u001b[0m\u001b[0m\n\u001b[0m",
            "\u001b[0;31mKeyError\u001b[0m: 4"
          ]
        }
      ]
    },
    {
      "cell_type": "markdown",
      "source": [
        "## Value Error\n",
        "\n",
        "Raised when an operation or function takes in an invalid value of an argument:"
      ],
      "metadata": {
        "id": "XY1-Hka8SP65"
      }
    },
    {
      "cell_type": "code",
      "source": [
        "print(int('a'))"
      ],
      "metadata": {
        "id": "-C4CTCgMSSB4",
        "colab": {
          "base_uri": "https://localhost:8080/",
          "height": 145
        },
        "outputId": "b894b4aa-f059-456f-f59f-968f0abc4076"
      },
      "execution_count": null,
      "outputs": [
        {
          "output_type": "error",
          "ename": "ValueError",
          "evalue": "invalid literal for int() with base 10: 'a'",
          "traceback": [
            "\u001b[0;31m---------------------------------------------------------------------------\u001b[0m",
            "\u001b[0;31mValueError\u001b[0m                                Traceback (most recent call last)",
            "\u001b[0;32m<ipython-input-11-d70df95cd2cc>\u001b[0m in \u001b[0;36m<cell line: 1>\u001b[0;34m()\u001b[0m\n\u001b[0;32m----> 1\u001b[0;31m \u001b[0mprint\u001b[0m\u001b[0;34m(\u001b[0m\u001b[0mint\u001b[0m\u001b[0;34m(\u001b[0m\u001b[0;34m'a'\u001b[0m\u001b[0;34m)\u001b[0m\u001b[0;34m)\u001b[0m\u001b[0;34m\u001b[0m\u001b[0;34m\u001b[0m\u001b[0m\n\u001b[0m",
            "\u001b[0;31mValueError\u001b[0m: invalid literal for int() with base 10: 'a'"
          ]
        }
      ]
    },
    {
      "cell_type": "markdown",
      "source": [
        "## ImportError\n",
        "\n",
        "Raised when an import statement is incorrect:"
      ],
      "metadata": {
        "id": "PBHAVE_MS53Z"
      }
    },
    {
      "cell_type": "code",
      "source": [
        "from numpy import pandas"
      ],
      "metadata": {
        "id": "Y6xOjonHS9i3",
        "colab": {
          "base_uri": "https://localhost:8080/",
          "height": 324
        },
        "outputId": "3b66cf57-155c-46b4-c7dc-afc2aea08be6"
      },
      "execution_count": null,
      "outputs": [
        {
          "output_type": "error",
          "ename": "ImportError",
          "evalue": "cannot import name 'pandas' from 'numpy' (/usr/local/lib/python3.10/dist-packages/numpy/__init__.py)",
          "traceback": [
            "\u001b[0;31m---------------------------------------------------------------------------\u001b[0m",
            "\u001b[0;31mImportError\u001b[0m                               Traceback (most recent call last)",
            "\u001b[0;32m<ipython-input-12-ccfb45869655>\u001b[0m in \u001b[0;36m<cell line: 1>\u001b[0;34m()\u001b[0m\n\u001b[0;32m----> 1\u001b[0;31m \u001b[0;32mfrom\u001b[0m \u001b[0mnumpy\u001b[0m \u001b[0;32mimport\u001b[0m \u001b[0mpandas\u001b[0m\u001b[0;34m\u001b[0m\u001b[0;34m\u001b[0m\u001b[0m\n\u001b[0m",
            "\u001b[0;31mImportError\u001b[0m: cannot import name 'pandas' from 'numpy' (/usr/local/lib/python3.10/dist-packages/numpy/__init__.py)",
            "",
            "\u001b[0;31m---------------------------------------------------------------------------\u001b[0;32m\nNOTE: If your import is failing due to a missing package, you can\nmanually install dependencies using either !pip or !apt.\n\nTo view examples of installing some common dependencies, click the\n\"Open Examples\" button below.\n\u001b[0;31m---------------------------------------------------------------------------\u001b[0m\n"
          ],
          "errorDetails": {
            "actions": [
              {
                "action": "open_url",
                "actionText": "Open Examples",
                "url": "/notebooks/snippets/importing_libraries.ipynb"
              }
            ]
          }
        }
      ]
    },
    {
      "cell_type": "markdown",
      "source": [
        "## AttributeError\n",
        "\n",
        "Raised at attempt to assign or refer an attribute inapplicable for a given Python object:"
      ],
      "metadata": {
        "id": "Z0k8pekSTBbq"
      }
    },
    {
      "cell_type": "code",
      "source": [
        "print('a'.capitalize())\n",
        "print('a'.sum())"
      ],
      "metadata": {
        "id": "azf10-73TFSh",
        "colab": {
          "base_uri": "https://localhost:8080/",
          "height": 182
        },
        "outputId": "d0b1cf8a-f846-44e4-eca9-98cba2145fb2"
      },
      "execution_count": null,
      "outputs": [
        {
          "output_type": "stream",
          "name": "stdout",
          "text": [
            "A\n"
          ]
        },
        {
          "output_type": "error",
          "ename": "AttributeError",
          "evalue": "'str' object has no attribute 'sum'",
          "traceback": [
            "\u001b[0;31m---------------------------------------------------------------------------\u001b[0m",
            "\u001b[0;31mAttributeError\u001b[0m                            Traceback (most recent call last)",
            "\u001b[0;32m<ipython-input-14-d03e3728ac98>\u001b[0m in \u001b[0;36m<cell line: 2>\u001b[0;34m()\u001b[0m\n\u001b[1;32m      1\u001b[0m \u001b[0mprint\u001b[0m\u001b[0;34m(\u001b[0m\u001b[0;34m'a'\u001b[0m\u001b[0;34m.\u001b[0m\u001b[0mcapitalize\u001b[0m\u001b[0;34m(\u001b[0m\u001b[0;34m)\u001b[0m\u001b[0;34m)\u001b[0m\u001b[0;34m\u001b[0m\u001b[0;34m\u001b[0m\u001b[0m\n\u001b[0;32m----> 2\u001b[0;31m \u001b[0mprint\u001b[0m\u001b[0;34m(\u001b[0m\u001b[0;34m'a'\u001b[0m\u001b[0;34m.\u001b[0m\u001b[0msum\u001b[0m\u001b[0;34m(\u001b[0m\u001b[0;34m)\u001b[0m\u001b[0;34m)\u001b[0m\u001b[0;34m\u001b[0m\u001b[0;34m\u001b[0m\u001b[0m\n\u001b[0m",
            "\u001b[0;31mAttributeError\u001b[0m: 'str' object has no attribute 'sum'"
          ]
        }
      ]
    },
    {
      "cell_type": "markdown",
      "source": [
        "## IsADirectoryError\n",
        "\n",
        "> Occurs when we try to interact with a directory as if it were a file."
      ],
      "metadata": {
        "id": "xUSt3EG_ZlMt"
      }
    },
    {
      "cell_type": "code",
      "source": [
        "import os\n",
        "\n",
        "# 👇️ path to a directory\n",
        "directory_name = r'testdir'\n",
        "\n",
        "print(os.path.isfile(directory_name))  # 👉️ False\n",
        "\n",
        "\n",
        "with open(directory_name, 'r', encoding='utf-8') as f:\n",
        "    lines = f.readlines()\n",
        "\n",
        "    print(lines)"
      ],
      "metadata": {
        "colab": {
          "base_uri": "https://localhost:8080/",
          "height": 236
        },
        "id": "H4qugfaJZn2s",
        "outputId": "3ec0e72f-5522-444e-e897-1b9a71785adb"
      },
      "execution_count": null,
      "outputs": [
        {
          "output_type": "stream",
          "name": "stdout",
          "text": [
            "False\n"
          ]
        },
        {
          "output_type": "error",
          "ename": "IsADirectoryError",
          "evalue": "[Errno 21] Is a directory: 'testdir'",
          "traceback": [
            "\u001b[0;31m---------------------------------------------------------------------------\u001b[0m",
            "\u001b[0;31mIsADirectoryError\u001b[0m                         Traceback (most recent call last)",
            "\u001b[0;32m<ipython-input-15-4015b1e63073>\u001b[0m in \u001b[0;36m<cell line: 9>\u001b[0;34m()\u001b[0m\n\u001b[1;32m      7\u001b[0m \u001b[0;34m\u001b[0m\u001b[0m\n\u001b[1;32m      8\u001b[0m \u001b[0;34m\u001b[0m\u001b[0m\n\u001b[0;32m----> 9\u001b[0;31m \u001b[0;32mwith\u001b[0m \u001b[0mopen\u001b[0m\u001b[0;34m(\u001b[0m\u001b[0mdirectory_name\u001b[0m\u001b[0;34m,\u001b[0m \u001b[0;34m'r'\u001b[0m\u001b[0;34m,\u001b[0m \u001b[0mencoding\u001b[0m\u001b[0;34m=\u001b[0m\u001b[0;34m'utf-8'\u001b[0m\u001b[0;34m)\u001b[0m \u001b[0;32mas\u001b[0m \u001b[0mf\u001b[0m\u001b[0;34m:\u001b[0m\u001b[0;34m\u001b[0m\u001b[0;34m\u001b[0m\u001b[0m\n\u001b[0m\u001b[1;32m     10\u001b[0m     \u001b[0mlines\u001b[0m \u001b[0;34m=\u001b[0m \u001b[0mf\u001b[0m\u001b[0;34m.\u001b[0m\u001b[0mreadlines\u001b[0m\u001b[0;34m(\u001b[0m\u001b[0;34m)\u001b[0m\u001b[0;34m\u001b[0m\u001b[0;34m\u001b[0m\u001b[0m\n\u001b[1;32m     11\u001b[0m \u001b[0;34m\u001b[0m\u001b[0m\n",
            "\u001b[0;31mIsADirectoryError\u001b[0m: [Errno 21] Is a directory: 'testdir'"
          ]
        }
      ]
    },
    {
      "cell_type": "markdown",
      "source": [
        "## NotADirectoryError\n",
        "\n",
        "> It means that you are passing a file where a directory was expected."
      ],
      "metadata": {
        "id": "ukdgIfyVaY7s"
      }
    },
    {
      "cell_type": "code",
      "source": [
        "import os\n",
        "\n",
        "print(os.getcwd())\n",
        "\n",
        "print(os.listdir())\n",
        "os.chdir('employee.txt')"
      ],
      "metadata": {
        "colab": {
          "base_uri": "https://localhost:8080/",
          "height": 218
        },
        "id": "-s8Cr7iwaGHN",
        "outputId": "2c85a0af-2d21-469a-d544-00d74290bc48"
      },
      "execution_count": null,
      "outputs": [
        {
          "output_type": "stream",
          "name": "stdout",
          "text": [
            "/content\n",
            "['.config', '.ipynb_checkpoints', 'testdir', 'employee.txt', 'sample_data']\n"
          ]
        },
        {
          "output_type": "error",
          "ename": "NotADirectoryError",
          "evalue": "[Errno 20] Not a directory: 'employee.txt'",
          "traceback": [
            "\u001b[0;31m---------------------------------------------------------------------------\u001b[0m",
            "\u001b[0;31mNotADirectoryError\u001b[0m                        Traceback (most recent call last)",
            "\u001b[0;32m<ipython-input-16-6c4ce0392c9e>\u001b[0m in \u001b[0;36m<cell line: 6>\u001b[0;34m()\u001b[0m\n\u001b[1;32m      4\u001b[0m \u001b[0;34m\u001b[0m\u001b[0m\n\u001b[1;32m      5\u001b[0m \u001b[0mprint\u001b[0m\u001b[0;34m(\u001b[0m\u001b[0mos\u001b[0m\u001b[0;34m.\u001b[0m\u001b[0mlistdir\u001b[0m\u001b[0;34m(\u001b[0m\u001b[0;34m)\u001b[0m\u001b[0;34m)\u001b[0m\u001b[0;34m\u001b[0m\u001b[0;34m\u001b[0m\u001b[0m\n\u001b[0;32m----> 6\u001b[0;31m \u001b[0mos\u001b[0m\u001b[0;34m.\u001b[0m\u001b[0mchdir\u001b[0m\u001b[0;34m(\u001b[0m\u001b[0;34m'employee.txt'\u001b[0m\u001b[0;34m)\u001b[0m\u001b[0;34m\u001b[0m\u001b[0;34m\u001b[0m\u001b[0m\n\u001b[0m",
            "\u001b[0;31mNotADirectoryError\u001b[0m: [Errno 20] Not a directory: 'employee.txt'"
          ]
        }
      ]
    },
    {
      "cell_type": "markdown",
      "source": [
        "## NameError\n",
        "\n",
        "If you try to use an object that has not been defined\n"
      ],
      "metadata": {
        "id": "XbiBUT4QapAq"
      }
    },
    {
      "cell_type": "code",
      "source": [
        "obj = A()"
      ],
      "metadata": {
        "colab": {
          "base_uri": "https://localhost:8080/",
          "height": 176
        },
        "id": "ugOL4BHlatNN",
        "outputId": "98c47a41-f32b-4382-a5f2-e6af15e3b1f5"
      },
      "execution_count": null,
      "outputs": [
        {
          "output_type": "error",
          "ename": "NameError",
          "evalue": "ignored",
          "traceback": [
            "\u001b[0;31m---------------------------------------------------------------------------\u001b[0m",
            "\u001b[0;31mNameError\u001b[0m                                 Traceback (most recent call last)",
            "\u001b[0;32m<ipython-input-15-25848751d604>\u001b[0m in \u001b[0;36m<cell line: 1>\u001b[0;34m()\u001b[0m\n\u001b[0;32m----> 1\u001b[0;31m \u001b[0mobj\u001b[0m \u001b[0;34m=\u001b[0m \u001b[0mA\u001b[0m\u001b[0;34m(\u001b[0m\u001b[0;34m)\u001b[0m\u001b[0;34m\u001b[0m\u001b[0;34m\u001b[0m\u001b[0m\n\u001b[0m",
            "\u001b[0;31mNameError\u001b[0m: name 'A' is not defined"
          ]
        }
      ]
    },
    {
      "cell_type": "markdown",
      "source": [
        "## TypeError\n",
        "\n",
        "A type error occurs when you try to perform an operation on an object of the wrong type. Here’s an example:"
      ],
      "metadata": {
        "id": "7JkUarsWa5KW"
      }
    },
    {
      "cell_type": "code",
      "source": [
        "x = \"5\"\n",
        "y = 2\n",
        "z = x+y\n",
        "print(\"hello\")"
      ],
      "metadata": {
        "colab": {
          "base_uri": "https://localhost:8080/",
          "height": 200
        },
        "id": "iANrV1_Za_GC",
        "outputId": "c9de4917-acf5-40ba-9ea1-bb9efb504602"
      },
      "execution_count": null,
      "outputs": [
        {
          "output_type": "error",
          "ename": "TypeError",
          "evalue": "can only concatenate str (not \"int\") to str",
          "traceback": [
            "\u001b[0;31m---------------------------------------------------------------------------\u001b[0m",
            "\u001b[0;31mTypeError\u001b[0m                                 Traceback (most recent call last)",
            "\u001b[0;32m<ipython-input-18-e57a3752c6de>\u001b[0m in \u001b[0;36m<cell line: 3>\u001b[0;34m()\u001b[0m\n\u001b[1;32m      1\u001b[0m \u001b[0mx\u001b[0m \u001b[0;34m=\u001b[0m \u001b[0;34m\"5\"\u001b[0m\u001b[0;34m\u001b[0m\u001b[0;34m\u001b[0m\u001b[0m\n\u001b[1;32m      2\u001b[0m \u001b[0my\u001b[0m \u001b[0;34m=\u001b[0m \u001b[0;36m2\u001b[0m\u001b[0;34m\u001b[0m\u001b[0;34m\u001b[0m\u001b[0m\n\u001b[0;32m----> 3\u001b[0;31m \u001b[0mz\u001b[0m \u001b[0;34m=\u001b[0m \u001b[0mx\u001b[0m\u001b[0;34m+\u001b[0m\u001b[0my\u001b[0m\u001b[0;34m\u001b[0m\u001b[0;34m\u001b[0m\u001b[0m\n\u001b[0m\u001b[1;32m      4\u001b[0m \u001b[0mprint\u001b[0m\u001b[0;34m(\u001b[0m\u001b[0;34m\"hello\"\u001b[0m\u001b[0;34m)\u001b[0m\u001b[0;34m\u001b[0m\u001b[0;34m\u001b[0m\u001b[0m\n",
            "\u001b[0;31mTypeError\u001b[0m: can only concatenate str (not \"int\") to str"
          ]
        }
      ]
    },
    {
      "cell_type": "markdown",
      "source": [
        "# Exception Handling\n",
        "\n",
        "Since raising an exception results in an interruption of the program execution, we have to handle this exception in advance to avoid such undesirable cases."
      ],
      "metadata": {
        "id": "rG5gtsvdQr1v"
      }
    },
    {
      "cell_type": "markdown",
      "source": [
        "## try and except"
      ],
      "metadata": {
        "id": "5XpZ4VoERl4A"
      }
    },
    {
      "cell_type": "code",
      "source": [
        "first = float(input(\"What is your first number? \"))\n",
        "second = float(input(\"What is your second number? \"))\n",
        "print(f\"{first} divided by {second} is {first / second}\")"
      ],
      "metadata": {
        "colab": {
          "base_uri": "https://localhost:8080/",
          "height": 211
        },
        "id": "pWDJ8q6PAJ6I",
        "outputId": "37d8a2f2-4299-4d61-d42a-a37e1a289af0"
      },
      "execution_count": 2,
      "outputs": [
        {
          "name": "stdout",
          "output_type": "stream",
          "text": [
            "What is your first number? 10\n",
            "What is your second number? 0\n"
          ]
        },
        {
          "output_type": "error",
          "ename": "ZeroDivisionError",
          "evalue": "float division by zero",
          "traceback": [
            "\u001b[0;31m---------------------------------------------------------------------------\u001b[0m",
            "\u001b[0;31mZeroDivisionError\u001b[0m                         Traceback (most recent call last)",
            "\u001b[0;32m<ipython-input-2-a8f132dc346d>\u001b[0m in \u001b[0;36m<cell line: 3>\u001b[0;34m()\u001b[0m\n\u001b[1;32m      1\u001b[0m \u001b[0mfirst\u001b[0m \u001b[0;34m=\u001b[0m \u001b[0mfloat\u001b[0m\u001b[0;34m(\u001b[0m\u001b[0minput\u001b[0m\u001b[0;34m(\u001b[0m\u001b[0;34m\"What is your first number? \"\u001b[0m\u001b[0;34m)\u001b[0m\u001b[0;34m)\u001b[0m\u001b[0;34m\u001b[0m\u001b[0;34m\u001b[0m\u001b[0m\n\u001b[1;32m      2\u001b[0m \u001b[0msecond\u001b[0m \u001b[0;34m=\u001b[0m \u001b[0mfloat\u001b[0m\u001b[0;34m(\u001b[0m\u001b[0minput\u001b[0m\u001b[0;34m(\u001b[0m\u001b[0;34m\"What is your second number? \"\u001b[0m\u001b[0;34m)\u001b[0m\u001b[0;34m)\u001b[0m\u001b[0;34m\u001b[0m\u001b[0;34m\u001b[0m\u001b[0m\n\u001b[0;32m----> 3\u001b[0;31m \u001b[0mprint\u001b[0m\u001b[0;34m(\u001b[0m\u001b[0;34mf\"{first} divided by {second} is {first / second}\"\u001b[0m\u001b[0;34m)\u001b[0m\u001b[0;34m\u001b[0m\u001b[0;34m\u001b[0m\u001b[0m\n\u001b[0m",
            "\u001b[0;31mZeroDivisionError\u001b[0m: float division by zero"
          ]
        }
      ]
    },
    {
      "cell_type": "code",
      "source": [
        "try:\n",
        "    first = float(input(\"What is your first number? \"))\n",
        "    second = float(input(\"What is your second number? \"))\n",
        "    print(f\"{first} divided by {second} is {first / second}\")\n",
        "except ValueError:\n",
        "    print(\"You must enter a number\")\n",
        "except ZeroDivisionError:\n",
        "    print(\"You can't divide by zero\")\n",
        "except Exception:\n",
        "    print(\"Global Exception\")"
      ],
      "metadata": {
        "id": "k1RUCLckRhm5",
        "colab": {
          "base_uri": "https://localhost:8080/"
        },
        "outputId": "745d9720-2a2a-4ad4-d95d-8850485ede45"
      },
      "execution_count": 7,
      "outputs": [
        {
          "output_type": "stream",
          "name": "stdout",
          "text": [
            "What is your first number? abc\n",
            "You must enter a number\n"
          ]
        }
      ]
    },
    {
      "cell_type": "markdown",
      "source": [
        "### Handling Multiple Exception"
      ],
      "metadata": {
        "id": "lqzESzj9RvnD"
      }
    },
    {
      "cell_type": "code",
      "source": [
        "try:\n",
        "    first = float(input(\"What is your first number? \"))\n",
        "    second = float(input(\"What is your second number? \"))\n",
        "    print(f\"{first} divided by {second} is {first / second}\")\n",
        "except (ValueError, ZeroDivisionError):\n",
        "    print(\"Please follow user guide\")"
      ],
      "metadata": {
        "colab": {
          "base_uri": "https://localhost:8080/",
          "height": 403
        },
        "id": "uUFCwv5fRyMW",
        "outputId": "743a8466-d051-4883-a120-f13b4254cee5"
      },
      "execution_count": null,
      "outputs": [
        {
          "output_type": "error",
          "ename": "KeyboardInterrupt",
          "evalue": "ignored",
          "traceback": [
            "\u001b[0;31m---------------------------------------------------------------------------\u001b[0m",
            "\u001b[0;31mKeyboardInterrupt\u001b[0m                         Traceback (most recent call last)",
            "\u001b[0;32m<ipython-input-9-e6fb92f917c4>\u001b[0m in \u001b[0;36m<cell line: 1>\u001b[0;34m()\u001b[0m\n\u001b[1;32m      1\u001b[0m \u001b[0;32mtry\u001b[0m\u001b[0;34m:\u001b[0m\u001b[0;34m\u001b[0m\u001b[0;34m\u001b[0m\u001b[0m\n\u001b[0;32m----> 2\u001b[0;31m     \u001b[0mfirst\u001b[0m \u001b[0;34m=\u001b[0m \u001b[0mfloat\u001b[0m\u001b[0;34m(\u001b[0m\u001b[0minput\u001b[0m\u001b[0;34m(\u001b[0m\u001b[0;34m\"What is your first number? \"\u001b[0m\u001b[0;34m)\u001b[0m\u001b[0;34m)\u001b[0m\u001b[0;34m\u001b[0m\u001b[0;34m\u001b[0m\u001b[0m\n\u001b[0m\u001b[1;32m      3\u001b[0m     \u001b[0msecond\u001b[0m \u001b[0;34m=\u001b[0m \u001b[0mfloat\u001b[0m\u001b[0;34m(\u001b[0m\u001b[0minput\u001b[0m\u001b[0;34m(\u001b[0m\u001b[0;34m\"What is your second number? \"\u001b[0m\u001b[0;34m)\u001b[0m\u001b[0;34m)\u001b[0m\u001b[0;34m\u001b[0m\u001b[0;34m\u001b[0m\u001b[0m\n\u001b[1;32m      4\u001b[0m     \u001b[0mprint\u001b[0m\u001b[0;34m(\u001b[0m\u001b[0;34mf\"{first} divided by {second} is {first / second}\"\u001b[0m\u001b[0;34m)\u001b[0m\u001b[0;34m\u001b[0m\u001b[0;34m\u001b[0m\u001b[0m\n\u001b[1;32m      5\u001b[0m \u001b[0;32mexcept\u001b[0m \u001b[0;34m(\u001b[0m\u001b[0mValueError\u001b[0m\u001b[0;34m,\u001b[0m \u001b[0mZeroDivisionError\u001b[0m\u001b[0;34m)\u001b[0m\u001b[0;34m:\u001b[0m\u001b[0;34m\u001b[0m\u001b[0;34m\u001b[0m\u001b[0m\n",
            "\u001b[0;32m/usr/local/lib/python3.10/dist-packages/ipykernel/kernelbase.py\u001b[0m in \u001b[0;36mraw_input\u001b[0;34m(self, prompt)\u001b[0m\n\u001b[1;32m    849\u001b[0m                 \u001b[0;34m\"raw_input was called, but this frontend does not support input requests.\"\u001b[0m\u001b[0;34m\u001b[0m\u001b[0;34m\u001b[0m\u001b[0m\n\u001b[1;32m    850\u001b[0m             )\n\u001b[0;32m--> 851\u001b[0;31m         return self._input_request(str(prompt),\n\u001b[0m\u001b[1;32m    852\u001b[0m             \u001b[0mself\u001b[0m\u001b[0;34m.\u001b[0m\u001b[0m_parent_ident\u001b[0m\u001b[0;34m,\u001b[0m\u001b[0;34m\u001b[0m\u001b[0;34m\u001b[0m\u001b[0m\n\u001b[1;32m    853\u001b[0m             \u001b[0mself\u001b[0m\u001b[0;34m.\u001b[0m\u001b[0m_parent_header\u001b[0m\u001b[0;34m,\u001b[0m\u001b[0;34m\u001b[0m\u001b[0;34m\u001b[0m\u001b[0m\n",
            "\u001b[0;32m/usr/local/lib/python3.10/dist-packages/ipykernel/kernelbase.py\u001b[0m in \u001b[0;36m_input_request\u001b[0;34m(self, prompt, ident, parent, password)\u001b[0m\n\u001b[1;32m    893\u001b[0m             \u001b[0;32mexcept\u001b[0m \u001b[0mKeyboardInterrupt\u001b[0m\u001b[0;34m:\u001b[0m\u001b[0;34m\u001b[0m\u001b[0;34m\u001b[0m\u001b[0m\n\u001b[1;32m    894\u001b[0m                 \u001b[0;31m# re-raise KeyboardInterrupt, to truncate traceback\u001b[0m\u001b[0;34m\u001b[0m\u001b[0;34m\u001b[0m\u001b[0m\n\u001b[0;32m--> 895\u001b[0;31m                 \u001b[0;32mraise\u001b[0m \u001b[0mKeyboardInterrupt\u001b[0m\u001b[0;34m(\u001b[0m\u001b[0;34m\"Interrupted by user\"\u001b[0m\u001b[0;34m)\u001b[0m \u001b[0;32mfrom\u001b[0m \u001b[0;32mNone\u001b[0m\u001b[0;34m\u001b[0m\u001b[0;34m\u001b[0m\u001b[0m\n\u001b[0m\u001b[1;32m    896\u001b[0m             \u001b[0;32mexcept\u001b[0m \u001b[0mException\u001b[0m \u001b[0;32mas\u001b[0m \u001b[0me\u001b[0m\u001b[0;34m:\u001b[0m\u001b[0;34m\u001b[0m\u001b[0;34m\u001b[0m\u001b[0m\n\u001b[1;32m    897\u001b[0m                 \u001b[0mself\u001b[0m\u001b[0;34m.\u001b[0m\u001b[0mlog\u001b[0m\u001b[0;34m.\u001b[0m\u001b[0mwarning\u001b[0m\u001b[0;34m(\u001b[0m\u001b[0;34m\"Invalid Message:\"\u001b[0m\u001b[0;34m,\u001b[0m \u001b[0mexc_info\u001b[0m\u001b[0;34m=\u001b[0m\u001b[0;32mTrue\u001b[0m\u001b[0;34m)\u001b[0m\u001b[0;34m\u001b[0m\u001b[0;34m\u001b[0m\u001b[0m\n",
            "\u001b[0;31mKeyboardInterrupt\u001b[0m: Interrupted by user"
          ]
        }
      ]
    },
    {
      "cell_type": "markdown",
      "source": [
        "## The else Statement\n",
        "\n",
        "> Executed only if no exceptions occurred in the try clause."
      ],
      "metadata": {
        "id": "73E_JWHzTeHf"
      }
    },
    {
      "cell_type": "code",
      "source": [
        "try:\n",
        "    print(3/3)\n",
        "except ZeroDivisionError:\n",
        "    print('You cannot divide by zero')\n",
        "else:\n",
        "    print('Transaction is successful')"
      ],
      "metadata": {
        "id": "-sqzHJaNTnsH",
        "colab": {
          "base_uri": "https://localhost:8080/"
        },
        "outputId": "567fea50-5b2b-481d-a0ae-45d03a033157"
      },
      "execution_count": null,
      "outputs": [
        {
          "output_type": "stream",
          "name": "stdout",
          "text": [
            "1.0\n",
            "The division is successfully performed\n"
          ]
        }
      ]
    },
    {
      "cell_type": "markdown",
      "source": [
        "## The finally Statement\n",
        "\n",
        "> The finally block always executes, regardless of whether an exception was raised or not.\n",
        "\n",
        "\n",
        "Another optional statement is finally, if provided, it must be placed after all the clauses including else (if present)\n",
        "and executed in any case, whether or not an exception was raised in the try clause."
      ],
      "metadata": {
        "id": "GgbWlZvOTqYa"
      }
    },
    {
      "cell_type": "code",
      "source": [
        "try:\n",
        "    print(\"DB Connection successful\")\n",
        "    print(\"Insert into table\")\n",
        "except ZeroDivisionError:\n",
        "    print('ERROR! You cannot divide by zero')\n",
        "else:\n",
        "    print('No Error! The division is successfully performed')\n",
        "finally:\n",
        "    print('DB Connection closed')"
      ],
      "metadata": {
        "id": "8fwdNSQoTsmn",
        "colab": {
          "base_uri": "https://localhost:8080/"
        },
        "outputId": "534ba1b5-5104-4293-a7ba-a7d1cc2ce3c0"
      },
      "execution_count": null,
      "outputs": [
        {
          "output_type": "stream",
          "name": "stdout",
          "text": [
            "DB Connection successful\n",
            "Insert into table\n",
            "No Error! The division is successfully performed\n",
            "DB Connection closed\n"
          ]
        }
      ]
    },
    {
      "cell_type": "markdown",
      "source": [
        "## Raising an Exception\n",
        "\n",
        "Sometimes, we may need to deliberately raise an exception and stop the program if a certain condition occurs. For this purpose, we need the raise keyword and the following syntax:\n",
        "\n",
        "raise ExceptionClass(exception_value)"
      ],
      "metadata": {
        "id": "HaHqR4XmTy4r"
      }
    },
    {
      "cell_type": "code",
      "source": [
        "x = 'blue'\n",
        "if x not in ['red', 'yellow', 'green']:\n",
        "    raise ValueError"
      ],
      "metadata": {
        "id": "CxEnsJUbT7iy"
      },
      "execution_count": null,
      "outputs": []
    },
    {
      "cell_type": "markdown",
      "source": [
        "# Custom Exceptions"
      ],
      "metadata": {
        "id": "kCQiqSq_Qmws"
      }
    },
    {
      "cell_type": "code",
      "source": [
        "class InvalidAgeException(Exception):\n",
        "    \"Raised when the input value is less than 18\"\n",
        "    pass\n",
        "\n",
        "# you need to guess this number\n",
        "number = 18\n",
        "\n",
        "try:\n",
        "    input_num = int(input(\"Enter a number: \"))\n",
        "    if input_num < number:\n",
        "        raise InvalidAgeException\n",
        "    else:\n",
        "        print(\"Eligible to Vote\")\n",
        "\n",
        "except InvalidAgeException:\n",
        "    print(\"Exception occurred: Invalid Age\")\n"
      ],
      "metadata": {
        "id": "mhPKwFzCQnno"
      },
      "execution_count": null,
      "outputs": []
    },
    {
      "cell_type": "code",
      "source": [
        "class SalaryNotInRangeError(Exception):\n",
        "    \"\"\"Exception raised for errors in the input salary.\n",
        "\n",
        "    Attributes:\n",
        "        salary -- input salary which caused the error\n",
        "        message -- explanation of the error\n",
        "    \"\"\"\n",
        "\n",
        "    def __init__(self, salary, message=\"Salary is not in (5000, 15000) range\"):\n",
        "        self.salary = salary\n",
        "        self.message = message\n",
        "        super().__init__(self.message)\n",
        "\n",
        "\n",
        "salary = int(input(\"Enter salary amount: \"))\n",
        "if not 5000 < salary < 15000:\n",
        "    raise SalaryNotInRangeError(salary)"
      ],
      "metadata": {
        "id": "R9FawjGbQ5-B"
      },
      "execution_count": null,
      "outputs": []
    },
    {
      "cell_type": "markdown",
      "source": [],
      "metadata": {
        "id": "6f40S3S-Q5k-"
      }
    }
  ],
  "metadata": {
    "colab": {
      "toc_visible": true,
      "provenance": [],
      "collapsed_sections": [
        "69ZaXxQzOFCX",
        "a9XnE5tQOc7Y"
      ]
    },
    "kernelspec": {
      "display_name": "Python 3",
      "name": "python3"
    },
    "language_info": {
      "name": "python"
    }
  },
  "nbformat": 4,
  "nbformat_minor": 0
}