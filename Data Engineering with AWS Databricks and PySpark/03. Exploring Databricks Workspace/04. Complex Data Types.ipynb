{
 "cells": [
  {
   "cell_type": "code",
   "execution_count": 0,
   "metadata": {
    "application/vnd.databricks.v1+cell": {
     "cellMetadata": {
      "byteLimit": 2048000,
      "rowLimit": 10000
     },
     "inputWidgets": {},
     "nuid": "6623429f-1b31-42be-8930-dedd774a26db",
     "showTitle": false,
     "title": ""
    }
   },
   "outputs": [
    {
     "output_type": "stream",
     "name": "stdout",
     "output_type": "stream",
     "text": [
      "root\n |-- col_id: integer (nullable = true)\n |-- col_name: string (nullable = true)\n |-- col_exp: integer (nullable = true)\n |-- col_gen: string (nullable = true)\n |-- col_dob: date (nullable = true)\n |-- col_company: string (nullable = true)\n |-- col_desig: string (nullable = true)\n |-- col_doj: date (nullable = true)\n |-- col_skills: string (nullable = true)\n |-- col_offered_salary: integer (nullable = true)\n |-- col_previous_expected_salary: string (nullable = true)\n\n"
     ]
    },
    {
     "output_type": "display_data",
     "data": {
      "text/html": [
       "<style scoped>\n",
       "  .table-result-container {\n",
       "    max-height: 300px;\n",
       "    overflow: auto;\n",
       "  }\n",
       "  table, th, td {\n",
       "    border: 1px solid black;\n",
       "    border-collapse: collapse;\n",
       "  }\n",
       "  th, td {\n",
       "    padding: 5px;\n",
       "  }\n",
       "  th {\n",
       "    text-align: left;\n",
       "  }\n",
       "</style><div class='table-result-container'><table class='table-result'><thead style='background-color: white'><tr><th>col_id</th><th>col_name</th><th>col_exp</th><th>col_gen</th><th>col_dob</th><th>col_company</th><th>col_desig</th><th>col_doj</th><th>col_skills</th><th>col_offered_salary</th><th>col_previous_expected_salary</th></tr></thead><tbody><tr><td>101</td><td>Agastya</td><td>1</td><td>M</td><td>1987-01-22</td><td>Infosys</td><td>Developer</td><td>2015-01-21</td><td>Hadoop,PySpark,Azure</td><td>1500000</td><td>1050000,1100000</td></tr><tr><td>102</td><td>Acyuta</td><td>2</td><td>F</td><td>1987-03-29</td><td>TCS</td><td>Team Lead</td><td>2016-01-21</td><td>C,C++,Java</td><td>1600000</td><td>1050000,1100000</td></tr><tr><td>103</td><td>Anuvrata</td><td>1</td><td>M</td><td>1987-01-22</td><td>Infosys</td><td>Developer</td><td>2017-01-21</td><td>Java,Python,Hadoop</td><td>1600000</td><td>1050000,1100000</td></tr><tr><td>null</td><td>Bhavika</td><td>6</td><td>F</td><td>1987-01-22</td><td>Infosys</td><td>Team lead</td><td>2015-01-21</td><td>Hadoop,PySpark,Kafka</td><td>1700000</td><td>null</td></tr><tr><td>105</td><td>Chitragandha</td><td>null</td><td>M</td><td>1987-01-22</td><td>CTS</td><td>Developer</td><td>null</td><td>C,C++,Java</td><td>1200000</td><td>1050000,1100000</td></tr><tr><td>106</td><td>Hritika</td><td>9</td><td>F</td><td>1987-01-22</td><td>Cisco</td><td>Developer</td><td>2016-01-21</td><td>C,C++,Java</td><td>1900000</td><td>1050000,1100000</td></tr><tr><td>107</td><td>Jigyasa</td><td>12</td><td>M</td><td>1987-01-22</td><td>Infosys</td><td>Team Lead</td><td>2005-01-21</td><td>Hadoop,PySpark,Kafka</td><td>1700000</td><td>1050000,1100000</td></tr><tr><td>108</td><td>Kaveri</td><td>4</td><td>F</td><td>1987-01-22</td><td>cisco</td><td>R&D Engineer</td><td>2015-01-21</td><td>C,PySpark,Azure,AWS</td><td>1600000</td><td>1050000,1100000</td></tr><tr><td>109</td><td>null</td><td>8</td><td>M</td><td>1987-01-22</td><td>null</td><td>Developer</td><td>2008-01-21</td><td>C,C++,Java</td><td>2000000</td><td>1050000,1100000</td></tr><tr><td>110</td><td>Vin</td><td>null</td><td>T</td><td>1987-01-22</td><td>CTS</td><td>Team Lead</td><td>2020-01-21</td><td>Hadoop,PySpark,Kafka,Kafka</td><td>2200000</td><td>1050000,1100000</td></tr></tbody></table></div>"
      ]
     },
     "metadata": {
      "application/vnd.databricks.v1+output": {
       "addedWidgets": {},
       "aggData": [],
       "aggError": "",
       "aggOverflow": false,
       "aggSchema": [],
       "aggSeriesLimitReached": false,
       "aggType": "",
       "arguments": {},
       "columnCustomDisplayInfos": {},
       "data": [
        [
         101,
         "Agastya",
         1,
         "M",
         "1987-01-22",
         "Infosys",
         "Developer",
         "2015-01-21",
         "Hadoop,PySpark,Azure",
         1500000,
         "1050000,1100000"
        ],
        [
         102,
         "Acyuta",
         2,
         "F",
         "1987-03-29",
         "TCS",
         "Team Lead",
         "2016-01-21",
         "C,C++,Java",
         1600000,
         "1050000,1100000"
        ],
        [
         103,
         "Anuvrata",
         1,
         "M",
         "1987-01-22",
         "Infosys",
         "Developer",
         "2017-01-21",
         "Java,Python,Hadoop",
         1600000,
         "1050000,1100000"
        ],
        [
         null,
         "Bhavika",
         6,
         "F",
         "1987-01-22",
         "Infosys",
         "Team lead",
         "2015-01-21",
         "Hadoop,PySpark,Kafka",
         1700000,
         null
        ],
        [
         105,
         "Chitragandha",
         null,
         "M",
         "1987-01-22",
         "CTS",
         "Developer",
         null,
         "C,C++,Java",
         1200000,
         "1050000,1100000"
        ],
        [
         106,
         "Hritika",
         9,
         "F",
         "1987-01-22",
         "Cisco",
         "Developer",
         "2016-01-21",
         "C,C++,Java",
         1900000,
         "1050000,1100000"
        ],
        [
         107,
         "Jigyasa",
         12,
         "M",
         "1987-01-22",
         "Infosys",
         "Team Lead",
         "2005-01-21",
         "Hadoop,PySpark,Kafka",
         1700000,
         "1050000,1100000"
        ],
        [
         108,
         "Kaveri",
         4,
         "F",
         "1987-01-22",
         "cisco",
         "R&D Engineer",
         "2015-01-21",
         "C,PySpark,Azure,AWS",
         1600000,
         "1050000,1100000"
        ],
        [
         109,
         null,
         8,
         "M",
         "1987-01-22",
         null,
         "Developer",
         "2008-01-21",
         "C,C++,Java",
         2000000,
         "1050000,1100000"
        ],
        [
         110,
         "Vin",
         null,
         "T",
         "1987-01-22",
         "CTS",
         "Team Lead",
         "2020-01-21",
         "Hadoop,PySpark,Kafka,Kafka",
         2200000,
         "1050000,1100000"
        ]
       ],
       "datasetInfos": [],
       "dbfsResultPath": null,
       "isJsonSchema": true,
       "metadata": {},
       "overflow": false,
       "plotOptions": {
        "customPlotOptions": {},
        "displayType": "table",
        "pivotAggregation": null,
        "pivotColumns": null,
        "xColumns": null,
        "yColumns": null
       },
       "removedWidgets": [],
       "schema": [
        {
         "metadata": "{}",
         "name": "col_id",
         "type": "\"integer\""
        },
        {
         "metadata": "{}",
         "name": "col_name",
         "type": "\"string\""
        },
        {
         "metadata": "{}",
         "name": "col_exp",
         "type": "\"integer\""
        },
        {
         "metadata": "{}",
         "name": "col_gen",
         "type": "\"string\""
        },
        {
         "metadata": "{\"__detected_date_formats\":\"yyyy-M-d\"}",
         "name": "col_dob",
         "type": "\"date\""
        },
        {
         "metadata": "{}",
         "name": "col_company",
         "type": "\"string\""
        },
        {
         "metadata": "{}",
         "name": "col_desig",
         "type": "\"string\""
        },
        {
         "metadata": "{\"__detected_date_formats\":\"d-M-yyyy\"}",
         "name": "col_doj",
         "type": "\"date\""
        },
        {
         "metadata": "{}",
         "name": "col_skills",
         "type": "\"string\""
        },
        {
         "metadata": "{}",
         "name": "col_offered_salary",
         "type": "\"integer\""
        },
        {
         "metadata": "{}",
         "name": "col_previous_expected_salary",
         "type": "\"string\""
        }
       ],
       "type": "table"
      }
     },
     "output_type": "display_data"
    }
   ],
   "source": [
    "employee_df = spark.read.csv(path=\"/FileStore/tables/employee.csv\",\n",
    "                             inferSchema=True,\n",
    "                             sep=\"|\",\n",
    "                             header=True,\n",
    "                             quote=\"'\")\n",
    "employee_df.printSchema()                             \n",
    "employee_df.display()                             "
   ]
  },
  {
   "cell_type": "code",
   "execution_count": 0,
   "metadata": {
    "application/vnd.databricks.v1+cell": {
     "cellMetadata": {
      "byteLimit": 2048000,
      "rowLimit": 10000
     },
     "inputWidgets": {},
     "nuid": "0f308790-fc19-4889-9c30-cdaa0166a199",
     "showTitle": false,
     "title": ""
    }
   },
   "outputs": [
    {
     "output_type": "stream",
     "name": "stdout",
     "output_type": "stream",
     "text": [
      "root\n |-- col_id: integer (nullable = true)\n |-- col_name: string (nullable = true)\n |-- col_exp: integer (nullable = true)\n |-- col_gen: string (nullable = true)\n |-- col_dob: date (nullable = true)\n |-- col_company: string (nullable = true)\n |-- col_desig: string (nullable = true)\n |-- col_doj: date (nullable = true)\n |-- col_offered_salary: integer (nullable = true)\n |-- col_skills: array (nullable = true)\n |    |-- element: string (containsNull = false)\n |-- col_previous_expected_salary: array (nullable = true)\n |    |-- element: integer (containsNull = true)\n\n"
     ]
    },
    {
     "output_type": "display_data",
     "data": {
      "text/html": [
       "<style scoped>\n",
       "  .table-result-container {\n",
       "    max-height: 300px;\n",
       "    overflow: auto;\n",
       "  }\n",
       "  table, th, td {\n",
       "    border: 1px solid black;\n",
       "    border-collapse: collapse;\n",
       "  }\n",
       "  th, td {\n",
       "    padding: 5px;\n",
       "  }\n",
       "  th {\n",
       "    text-align: left;\n",
       "  }\n",
       "</style><div class='table-result-container'><table class='table-result'><thead style='background-color: white'><tr><th>col_id</th><th>col_name</th><th>col_exp</th><th>col_gen</th><th>col_dob</th><th>col_company</th><th>col_desig</th><th>col_doj</th><th>col_offered_salary</th><th>col_skills</th><th>col_previous_expected_salary</th></tr></thead><tbody><tr><td>101</td><td>Agastya</td><td>1</td><td>M</td><td>1987-01-22</td><td>Infosys</td><td>Developer</td><td>2015-01-21</td><td>1500000</td><td>List(Hadoop, PySpark, Azure)</td><td>List(1050000, 1100000)</td></tr><tr><td>102</td><td>Acyuta</td><td>2</td><td>F</td><td>1987-03-29</td><td>TCS</td><td>Team Lead</td><td>2016-01-21</td><td>1600000</td><td>List(C, C++, Java)</td><td>List(1050000, 1100000)</td></tr><tr><td>103</td><td>Anuvrata</td><td>1</td><td>M</td><td>1987-01-22</td><td>Infosys</td><td>Developer</td><td>2017-01-21</td><td>1600000</td><td>List(Java, Python, Hadoop)</td><td>List(1050000, 1100000)</td></tr><tr><td>null</td><td>Bhavika</td><td>6</td><td>F</td><td>1987-01-22</td><td>Infosys</td><td>Team lead</td><td>2015-01-21</td><td>1700000</td><td>List(Hadoop, PySpark, Kafka)</td><td>null</td></tr><tr><td>105</td><td>Chitragandha</td><td>null</td><td>M</td><td>1987-01-22</td><td>CTS</td><td>Developer</td><td>null</td><td>1200000</td><td>List(C, C++, Java)</td><td>List(1050000, 1100000)</td></tr><tr><td>106</td><td>Hritika</td><td>9</td><td>F</td><td>1987-01-22</td><td>Cisco</td><td>Developer</td><td>2016-01-21</td><td>1900000</td><td>List(C, C++, Java)</td><td>List(1050000, 1100000)</td></tr><tr><td>107</td><td>Jigyasa</td><td>12</td><td>M</td><td>1987-01-22</td><td>Infosys</td><td>Team Lead</td><td>2005-01-21</td><td>1700000</td><td>List(Hadoop, PySpark, Kafka)</td><td>List(1050000, 1100000)</td></tr><tr><td>108</td><td>Kaveri</td><td>4</td><td>F</td><td>1987-01-22</td><td>cisco</td><td>R&D Engineer</td><td>2015-01-21</td><td>1600000</td><td>List(C, PySpark, Azure, AWS)</td><td>List(1050000, 1100000)</td></tr><tr><td>109</td><td>null</td><td>8</td><td>M</td><td>1987-01-22</td><td>null</td><td>Developer</td><td>2008-01-21</td><td>2000000</td><td>List(C, C++, Java)</td><td>List(1050000, 1100000)</td></tr><tr><td>110</td><td>Vin</td><td>null</td><td>T</td><td>1987-01-22</td><td>CTS</td><td>Team Lead</td><td>2020-01-21</td><td>2200000</td><td>List(Hadoop, PySpark, Kafka, Kafka)</td><td>List(1050000, 1100000)</td></tr></tbody></table></div>"
      ]
     },
     "metadata": {
      "application/vnd.databricks.v1+output": {
       "addedWidgets": {},
       "aggData": [],
       "aggError": "",
       "aggOverflow": false,
       "aggSchema": [],
       "aggSeriesLimitReached": false,
       "aggType": "",
       "arguments": {},
       "columnCustomDisplayInfos": {},
       "data": [
        [
         101,
         "Agastya",
         1,
         "M",
         "1987-01-22",
         "Infosys",
         "Developer",
         "2015-01-21",
         1500000,
         [
          "Hadoop",
          "PySpark",
          "Azure"
         ],
         [
          1050000,
          1100000
         ]
        ],
        [
         102,
         "Acyuta",
         2,
         "F",
         "1987-03-29",
         "TCS",
         "Team Lead",
         "2016-01-21",
         1600000,
         [
          "C",
          "C++",
          "Java"
         ],
         [
          1050000,
          1100000
         ]
        ],
        [
         103,
         "Anuvrata",
         1,
         "M",
         "1987-01-22",
         "Infosys",
         "Developer",
         "2017-01-21",
         1600000,
         [
          "Java",
          "Python",
          "Hadoop"
         ],
         [
          1050000,
          1100000
         ]
        ],
        [
         null,
         "Bhavika",
         6,
         "F",
         "1987-01-22",
         "Infosys",
         "Team lead",
         "2015-01-21",
         1700000,
         [
          "Hadoop",
          "PySpark",
          "Kafka"
         ],
         null
        ],
        [
         105,
         "Chitragandha",
         null,
         "M",
         "1987-01-22",
         "CTS",
         "Developer",
         null,
         1200000,
         [
          "C",
          "C++",
          "Java"
         ],
         [
          1050000,
          1100000
         ]
        ],
        [
         106,
         "Hritika",
         9,
         "F",
         "1987-01-22",
         "Cisco",
         "Developer",
         "2016-01-21",
         1900000,
         [
          "C",
          "C++",
          "Java"
         ],
         [
          1050000,
          1100000
         ]
        ],
        [
         107,
         "Jigyasa",
         12,
         "M",
         "1987-01-22",
         "Infosys",
         "Team Lead",
         "2005-01-21",
         1700000,
         [
          "Hadoop",
          "PySpark",
          "Kafka"
         ],
         [
          1050000,
          1100000
         ]
        ],
        [
         108,
         "Kaveri",
         4,
         "F",
         "1987-01-22",
         "cisco",
         "R&D Engineer",
         "2015-01-21",
         1600000,
         [
          "C",
          "PySpark",
          "Azure",
          "AWS"
         ],
         [
          1050000,
          1100000
         ]
        ],
        [
         109,
         null,
         8,
         "M",
         "1987-01-22",
         null,
         "Developer",
         "2008-01-21",
         2000000,
         [
          "C",
          "C++",
          "Java"
         ],
         [
          1050000,
          1100000
         ]
        ],
        [
         110,
         "Vin",
         null,
         "T",
         "1987-01-22",
         "CTS",
         "Team Lead",
         "2020-01-21",
         2200000,
         [
          "Hadoop",
          "PySpark",
          "Kafka",
          "Kafka"
         ],
         [
          1050000,
          1100000
         ]
        ]
       ],
       "datasetInfos": [],
       "dbfsResultPath": null,
       "isJsonSchema": true,
       "metadata": {},
       "overflow": false,
       "plotOptions": {
        "customPlotOptions": {},
        "displayType": "table",
        "pivotAggregation": null,
        "pivotColumns": null,
        "xColumns": null,
        "yColumns": null
       },
       "removedWidgets": [],
       "schema": [
        {
         "metadata": "{}",
         "name": "col_id",
         "type": "\"integer\""
        },
        {
         "metadata": "{}",
         "name": "col_name",
         "type": "\"string\""
        },
        {
         "metadata": "{}",
         "name": "col_exp",
         "type": "\"integer\""
        },
        {
         "metadata": "{}",
         "name": "col_gen",
         "type": "\"string\""
        },
        {
         "metadata": "{\"__detected_date_formats\":\"yyyy-M-d\"}",
         "name": "col_dob",
         "type": "\"date\""
        },
        {
         "metadata": "{}",
         "name": "col_company",
         "type": "\"string\""
        },
        {
         "metadata": "{}",
         "name": "col_desig",
         "type": "\"string\""
        },
        {
         "metadata": "{\"__detected_date_formats\":\"d-M-yyyy\"}",
         "name": "col_doj",
         "type": "\"date\""
        },
        {
         "metadata": "{}",
         "name": "col_offered_salary",
         "type": "\"integer\""
        },
        {
         "metadata": "{}",
         "name": "col_skills",
         "type": "{\"type\":\"array\",\"elementType\":\"string\",\"containsNull\":false}"
        },
        {
         "metadata": "{}",
         "name": "col_previous_expected_salary",
         "type": "{\"type\":\"array\",\"elementType\":\"integer\",\"containsNull\":true}"
        }
       ],
       "type": "table"
      }
     },
     "output_type": "display_data"
    }
   ],
   "source": [
    "from pyspark.sql.functions import split, col\n",
    "\n",
    "result_df = (\n",
    "    employee_df.withColumn(\"col_skills_array\", split(\"col_skills\", \",\"))\n",
    "    .drop(\"col_skills\")\n",
    "    .withColumnRenamed(\"col_skills_array\", \"col_skills\")\n",
    "    .withColumn(\"col_previous_expected_salary_array\", split(\"col_previous_expected_salary\",\",\").cast(\"array<int>\"))\n",
    "    .drop(\"col_previous_expected_salary\")\n",
    "    .withColumnRenamed(\"col_previous_expected_salary_array\",\"col_previous_expected_salary\")\n",
    ")\n",
    "result_df.printSchema()\n",
    "result_df.display()"
   ]
  },
  {
   "cell_type": "code",
   "execution_count": 0,
   "metadata": {
    "application/vnd.databricks.v1+cell": {
     "cellMetadata": {
      "byteLimit": 2048000,
      "rowLimit": 10000
     },
     "inputWidgets": {},
     "nuid": "6ffd995c-2f42-48f0-bfe4-3c21e8005347",
     "showTitle": false,
     "title": ""
    }
   },
   "outputs": [
    {
     "output_type": "display_data",
     "data": {
      "text/html": [
       "<style scoped>\n",
       "  .table-result-container {\n",
       "    max-height: 300px;\n",
       "    overflow: auto;\n",
       "  }\n",
       "  table, th, td {\n",
       "    border: 1px solid black;\n",
       "    border-collapse: collapse;\n",
       "  }\n",
       "  th, td {\n",
       "    padding: 5px;\n",
       "  }\n",
       "  th {\n",
       "    text-align: left;\n",
       "  }\n",
       "</style><div class='table-result-container'><table class='table-result'><thead style='background-color: white'><tr><th>col_id</th><th>col_name</th><th>col_exp</th><th>col_gen</th><th>col_dob</th><th>col_company</th><th>col_desig</th><th>col_doj</th><th>col_offered_salary</th><th>col_skills</th><th>col_previous_expected_salary</th><th>previous_salary</th><th>expected_salary</th></tr></thead><tbody><tr><td>101</td><td>Agastya</td><td>1</td><td>M</td><td>1987-01-22</td><td>Infosys</td><td>Developer</td><td>2015-01-21</td><td>1500000</td><td>List(Hadoop, PySpark, Azure)</td><td>List(1050000, 1100000)</td><td>1050000</td><td>1100000</td></tr><tr><td>102</td><td>Acyuta</td><td>2</td><td>F</td><td>1987-03-29</td><td>TCS</td><td>Team Lead</td><td>2016-01-21</td><td>1600000</td><td>List(C, C++, Java)</td><td>List(1050000, 1100000)</td><td>1050000</td><td>1100000</td></tr><tr><td>103</td><td>Anuvrata</td><td>1</td><td>M</td><td>1987-01-22</td><td>Infosys</td><td>Developer</td><td>2017-01-21</td><td>1600000</td><td>List(Java, Python, Hadoop)</td><td>List(1050000, 1100000)</td><td>1050000</td><td>1100000</td></tr><tr><td>null</td><td>Bhavika</td><td>6</td><td>F</td><td>1987-01-22</td><td>Infosys</td><td>Team lead</td><td>2015-01-21</td><td>1700000</td><td>List(Hadoop, PySpark, Kafka)</td><td>null</td><td>null</td><td>null</td></tr><tr><td>105</td><td>Chitragandha</td><td>null</td><td>M</td><td>1987-01-22</td><td>CTS</td><td>Developer</td><td>null</td><td>1200000</td><td>List(C, C++, Java)</td><td>List(1050000, 1100000)</td><td>1050000</td><td>1100000</td></tr><tr><td>106</td><td>Hritika</td><td>9</td><td>F</td><td>1987-01-22</td><td>Cisco</td><td>Developer</td><td>2016-01-21</td><td>1900000</td><td>List(C, C++, Java)</td><td>List(1050000, 1100000)</td><td>1050000</td><td>1100000</td></tr><tr><td>107</td><td>Jigyasa</td><td>12</td><td>M</td><td>1987-01-22</td><td>Infosys</td><td>Team Lead</td><td>2005-01-21</td><td>1700000</td><td>List(Hadoop, PySpark, Kafka)</td><td>List(1050000, 1100000)</td><td>1050000</td><td>1100000</td></tr><tr><td>108</td><td>Kaveri</td><td>4</td><td>F</td><td>1987-01-22</td><td>cisco</td><td>R&D Engineer</td><td>2015-01-21</td><td>1600000</td><td>List(C, PySpark, Azure, AWS)</td><td>List(1050000, 1100000)</td><td>1050000</td><td>1100000</td></tr><tr><td>109</td><td>null</td><td>8</td><td>M</td><td>1987-01-22</td><td>null</td><td>Developer</td><td>2008-01-21</td><td>2000000</td><td>List(C, C++, Java)</td><td>List(1050000, 1100000)</td><td>1050000</td><td>1100000</td></tr><tr><td>110</td><td>Vin</td><td>null</td><td>T</td><td>1987-01-22</td><td>CTS</td><td>Team Lead</td><td>2020-01-21</td><td>2200000</td><td>List(Hadoop, PySpark, Kafka, Kafka)</td><td>List(1050000, 1100000)</td><td>1050000</td><td>1100000</td></tr></tbody></table></div>"
      ]
     },
     "metadata": {
      "application/vnd.databricks.v1+output": {
       "addedWidgets": {},
       "aggData": [],
       "aggError": "",
       "aggOverflow": false,
       "aggSchema": [],
       "aggSeriesLimitReached": false,
       "aggType": "",
       "arguments": {},
       "columnCustomDisplayInfos": {},
       "data": [
        [
         101,
         "Agastya",
         1,
         "M",
         "1987-01-22",
         "Infosys",
         "Developer",
         "2015-01-21",
         1500000,
         [
          "Hadoop",
          "PySpark",
          "Azure"
         ],
         [
          1050000,
          1100000
         ],
         1050000,
         1100000
        ],
        [
         102,
         "Acyuta",
         2,
         "F",
         "1987-03-29",
         "TCS",
         "Team Lead",
         "2016-01-21",
         1600000,
         [
          "C",
          "C++",
          "Java"
         ],
         [
          1050000,
          1100000
         ],
         1050000,
         1100000
        ],
        [
         103,
         "Anuvrata",
         1,
         "M",
         "1987-01-22",
         "Infosys",
         "Developer",
         "2017-01-21",
         1600000,
         [
          "Java",
          "Python",
          "Hadoop"
         ],
         [
          1050000,
          1100000
         ],
         1050000,
         1100000
        ],
        [
         null,
         "Bhavika",
         6,
         "F",
         "1987-01-22",
         "Infosys",
         "Team lead",
         "2015-01-21",
         1700000,
         [
          "Hadoop",
          "PySpark",
          "Kafka"
         ],
         null,
         null,
         null
        ],
        [
         105,
         "Chitragandha",
         null,
         "M",
         "1987-01-22",
         "CTS",
         "Developer",
         null,
         1200000,
         [
          "C",
          "C++",
          "Java"
         ],
         [
          1050000,
          1100000
         ],
         1050000,
         1100000
        ],
        [
         106,
         "Hritika",
         9,
         "F",
         "1987-01-22",
         "Cisco",
         "Developer",
         "2016-01-21",
         1900000,
         [
          "C",
          "C++",
          "Java"
         ],
         [
          1050000,
          1100000
         ],
         1050000,
         1100000
        ],
        [
         107,
         "Jigyasa",
         12,
         "M",
         "1987-01-22",
         "Infosys",
         "Team Lead",
         "2005-01-21",
         1700000,
         [
          "Hadoop",
          "PySpark",
          "Kafka"
         ],
         [
          1050000,
          1100000
         ],
         1050000,
         1100000
        ],
        [
         108,
         "Kaveri",
         4,
         "F",
         "1987-01-22",
         "cisco",
         "R&D Engineer",
         "2015-01-21",
         1600000,
         [
          "C",
          "PySpark",
          "Azure",
          "AWS"
         ],
         [
          1050000,
          1100000
         ],
         1050000,
         1100000
        ],
        [
         109,
         null,
         8,
         "M",
         "1987-01-22",
         null,
         "Developer",
         "2008-01-21",
         2000000,
         [
          "C",
          "C++",
          "Java"
         ],
         [
          1050000,
          1100000
         ],
         1050000,
         1100000
        ],
        [
         110,
         "Vin",
         null,
         "T",
         "1987-01-22",
         "CTS",
         "Team Lead",
         "2020-01-21",
         2200000,
         [
          "Hadoop",
          "PySpark",
          "Kafka",
          "Kafka"
         ],
         [
          1050000,
          1100000
         ],
         1050000,
         1100000
        ]
       ],
       "datasetInfos": [],
       "dbfsResultPath": null,
       "isJsonSchema": true,
       "metadata": {},
       "overflow": false,
       "plotOptions": {
        "customPlotOptions": {},
        "displayType": "table",
        "pivotAggregation": null,
        "pivotColumns": null,
        "xColumns": null,
        "yColumns": null
       },
       "removedWidgets": [],
       "schema": [
        {
         "metadata": "{}",
         "name": "col_id",
         "type": "\"integer\""
        },
        {
         "metadata": "{}",
         "name": "col_name",
         "type": "\"string\""
        },
        {
         "metadata": "{}",
         "name": "col_exp",
         "type": "\"integer\""
        },
        {
         "metadata": "{}",
         "name": "col_gen",
         "type": "\"string\""
        },
        {
         "metadata": "{\"__detected_date_formats\":\"yyyy-M-d\"}",
         "name": "col_dob",
         "type": "\"date\""
        },
        {
         "metadata": "{}",
         "name": "col_company",
         "type": "\"string\""
        },
        {
         "metadata": "{}",
         "name": "col_desig",
         "type": "\"string\""
        },
        {
         "metadata": "{\"__detected_date_formats\":\"d-M-yyyy\"}",
         "name": "col_doj",
         "type": "\"date\""
        },
        {
         "metadata": "{}",
         "name": "col_offered_salary",
         "type": "\"integer\""
        },
        {
         "metadata": "{}",
         "name": "col_skills",
         "type": "{\"type\":\"array\",\"elementType\":\"string\",\"containsNull\":false}"
        },
        {
         "metadata": "{}",
         "name": "col_previous_expected_salary",
         "type": "{\"type\":\"array\",\"elementType\":\"integer\",\"containsNull\":true}"
        },
        {
         "metadata": "{}",
         "name": "previous_salary",
         "type": "\"integer\""
        },
        {
         "metadata": "{}",
         "name": "expected_salary",
         "type": "\"integer\""
        }
       ],
       "type": "table"
      }
     },
     "output_type": "display_data"
    }
   ],
   "source": [
    "df_01 = result_df.withColumn(\n",
    "    \"previous_salary\", col(\"col_previous_expected_salary\").getItem(0)\n",
    ").withColumn(\"expected_salary\", col(\"col_previous_expected_salary\").getItem(1))\n",
    "df_01.display()"
   ]
  },
  {
   "cell_type": "code",
   "execution_count": 0,
   "metadata": {
    "application/vnd.databricks.v1+cell": {
     "cellMetadata": {
      "byteLimit": 2048000,
      "rowLimit": 10000
     },
     "inputWidgets": {},
     "nuid": "20ff45ae-5e3d-4d98-b652-78ae01b4e0e9",
     "showTitle": false,
     "title": ""
    }
   },
   "outputs": [
    {
     "output_type": "display_data",
     "data": {
      "text/html": [
       "<style scoped>\n",
       "  .table-result-container {\n",
       "    max-height: 300px;\n",
       "    overflow: auto;\n",
       "  }\n",
       "  table, th, td {\n",
       "    border: 1px solid black;\n",
       "    border-collapse: collapse;\n",
       "  }\n",
       "  th, td {\n",
       "    padding: 5px;\n",
       "  }\n",
       "  th {\n",
       "    text-align: left;\n",
       "  }\n",
       "</style><div class='table-result-container'><table class='table-result'><thead style='background-color: white'><tr><th>col_name</th></tr></thead><tbody><tr><td>Agastya</td></tr><tr><td>Bhavika</td></tr><tr><td>Jigyasa</td></tr><tr><td>Kaveri</td></tr><tr><td>Vin</td></tr></tbody></table></div>"
      ]
     },
     "metadata": {
      "application/vnd.databricks.v1+output": {
       "addedWidgets": {},
       "aggData": [],
       "aggError": "",
       "aggOverflow": false,
       "aggSchema": [],
       "aggSeriesLimitReached": false,
       "aggType": "",
       "arguments": {},
       "columnCustomDisplayInfos": {},
       "data": [
        [
         "Agastya"
        ],
        [
         "Bhavika"
        ],
        [
         "Jigyasa"
        ],
        [
         "Kaveri"
        ],
        [
         "Vin"
        ]
       ],
       "datasetInfos": [],
       "dbfsResultPath": null,
       "isJsonSchema": true,
       "metadata": {},
       "overflow": false,
       "plotOptions": {
        "customPlotOptions": {},
        "displayType": "table",
        "pivotAggregation": null,
        "pivotColumns": null,
        "xColumns": null,
        "yColumns": null
       },
       "removedWidgets": [],
       "schema": [
        {
         "metadata": "{}",
         "name": "col_name",
         "type": "\"string\""
        }
       ],
       "type": "table"
      }
     },
     "output_type": "display_data"
    }
   ],
   "source": [
    "from pyspark.sql.functions import array_contains\n",
    "df_01.filter(array_contains(col(\"col_skills\"),\"PySpark\")).select(\"col_name\").display()"
   ]
  },
  {
   "cell_type": "code",
   "execution_count": 0,
   "metadata": {
    "application/vnd.databricks.v1+cell": {
     "cellMetadata": {
      "byteLimit": 2048000,
      "rowLimit": 10000
     },
     "inputWidgets": {},
     "nuid": "b902faac-5e23-403f-98bc-a7c995187d0f",
     "showTitle": false,
     "title": ""
    }
   },
   "outputs": [
    {
     "output_type": "display_data",
     "data": {
      "text/html": [
       "<style scoped>\n",
       "  .table-result-container {\n",
       "    max-height: 300px;\n",
       "    overflow: auto;\n",
       "  }\n",
       "  table, th, td {\n",
       "    border: 1px solid black;\n",
       "    border-collapse: collapse;\n",
       "  }\n",
       "  th, td {\n",
       "    padding: 5px;\n",
       "  }\n",
       "  th {\n",
       "    text-align: left;\n",
       "  }\n",
       "</style><div class='table-result-container'><table class='table-result'><thead style='background-color: white'><tr><th>col_name</th><th>array_distinct(col_skills)</th></tr></thead><tbody><tr><td>Agastya</td><td>List(Hadoop, PySpark, Azure)</td></tr><tr><td>Acyuta</td><td>List(C, C++, Java)</td></tr><tr><td>Anuvrata</td><td>List(Java, Python, Hadoop)</td></tr><tr><td>Bhavika</td><td>List(Hadoop, PySpark, Kafka)</td></tr><tr><td>Chitragandha</td><td>List(C, C++, Java)</td></tr><tr><td>Hritika</td><td>List(C, C++, Java)</td></tr><tr><td>Jigyasa</td><td>List(Hadoop, PySpark, Kafka)</td></tr><tr><td>Kaveri</td><td>List(C, PySpark, Azure, AWS)</td></tr><tr><td>null</td><td>List(C, C++, Java)</td></tr><tr><td>Vin</td><td>List(Hadoop, PySpark, Kafka)</td></tr></tbody></table></div>"
      ]
     },
     "metadata": {
      "application/vnd.databricks.v1+output": {
       "addedWidgets": {},
       "aggData": [],
       "aggError": "",
       "aggOverflow": false,
       "aggSchema": [],
       "aggSeriesLimitReached": false,
       "aggType": "",
       "arguments": {},
       "columnCustomDisplayInfos": {},
       "data": [
        [
         "Agastya",
         [
          "Hadoop",
          "PySpark",
          "Azure"
         ]
        ],
        [
         "Acyuta",
         [
          "C",
          "C++",
          "Java"
         ]
        ],
        [
         "Anuvrata",
         [
          "Java",
          "Python",
          "Hadoop"
         ]
        ],
        [
         "Bhavika",
         [
          "Hadoop",
          "PySpark",
          "Kafka"
         ]
        ],
        [
         "Chitragandha",
         [
          "C",
          "C++",
          "Java"
         ]
        ],
        [
         "Hritika",
         [
          "C",
          "C++",
          "Java"
         ]
        ],
        [
         "Jigyasa",
         [
          "Hadoop",
          "PySpark",
          "Kafka"
         ]
        ],
        [
         "Kaveri",
         [
          "C",
          "PySpark",
          "Azure",
          "AWS"
         ]
        ],
        [
         null,
         [
          "C",
          "C++",
          "Java"
         ]
        ],
        [
         "Vin",
         [
          "Hadoop",
          "PySpark",
          "Kafka"
         ]
        ]
       ],
       "datasetInfos": [],
       "dbfsResultPath": null,
       "isJsonSchema": true,
       "metadata": {},
       "overflow": false,
       "plotOptions": {
        "customPlotOptions": {},
        "displayType": "table",
        "pivotAggregation": null,
        "pivotColumns": null,
        "xColumns": null,
        "yColumns": null
       },
       "removedWidgets": [],
       "schema": [
        {
         "metadata": "{}",
         "name": "col_name",
         "type": "\"string\""
        },
        {
         "metadata": "{}",
         "name": "array_distinct(col_skills)",
         "type": "{\"type\":\"array\",\"elementType\":\"string\",\"containsNull\":false}"
        }
       ],
       "type": "table"
      }
     },
     "output_type": "display_data"
    }
   ],
   "source": [
    "from pyspark.sql.functions import array_distinct\n",
    "df_01.select(\"col_name\",array_distinct(col(\"col_skills\"))).display()"
   ]
  },
  {
   "cell_type": "markdown",
   "metadata": {
    "application/vnd.databricks.v1+cell": {
     "cellMetadata": {},
     "inputWidgets": {},
     "nuid": "fdeaaa94-7b91-43bd-b97a-10f98544a248",
     "showTitle": false,
     "title": ""
    }
   },
   "source": [
    "# Assigments\n",
    "1. Retrive all employee with skills as PySpark and Kafka\n",
    "2. Create a new column which display the total number of skills\n",
    "3. Retrive all employees whose expected salary is lesss then actual salary"
   ]
  },
  {
   "cell_type": "code",
   "execution_count": 0,
   "metadata": {
    "application/vnd.databricks.v1+cell": {
     "cellMetadata": {},
     "inputWidgets": {},
     "nuid": "d63c8ca9-f67c-4c24-9ae0-1814bce1a931",
     "showTitle": false,
     "title": ""
    }
   },
   "outputs": [],
   "source": []
  }
 ],
 "metadata": {
  "application/vnd.databricks.v1+notebook": {
   "dashboards": [],
   "environmentMetadata": null,
   "language": "python",
   "notebookMetadata": {
    "pythonIndentUnit": 4
   },
   "notebookName": "04. Complex Data Types",
   "widgets": {}
  }
 },
 "nbformat": 4,
 "nbformat_minor": 0
}
