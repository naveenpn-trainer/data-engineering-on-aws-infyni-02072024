{
 "cells": [
  {
   "cell_type": "code",
   "execution_count": 0,
   "metadata": {
    "application/vnd.databricks.v1+cell": {
     "cellMetadata": {
      "byteLimit": 2048000,
      "rowLimit": 10000
     },
     "inputWidgets": {},
     "nuid": "e76cbf61-4534-4ce5-9d2a-a5bff8a14f3c",
     "showTitle": false,
     "title": ""
    }
   },
   "outputs": [
    {
     "output_type": "display_data",
     "data": {
      "text/html": [
       "<style scoped>\n",
       "  .table-result-container {\n",
       "    max-height: 300px;\n",
       "    overflow: auto;\n",
       "  }\n",
       "  table, th, td {\n",
       "    border: 1px solid black;\n",
       "    border-collapse: collapse;\n",
       "  }\n",
       "  th, td {\n",
       "    padding: 5px;\n",
       "  }\n",
       "  th {\n",
       "    text-align: left;\n",
       "  }\n",
       "</style><div class='table-result-container'><table class='table-result'><thead style='background-color: white'><tr><th>col_id</th><th>col_name</th><th>col_exp</th><th>col_gen</th><th>col_dob</th><th>col_company</th><th>col_desig</th><th>col_doj</th><th>col_skills</th><th>col_offered_salary</th><th>col_previous_expected_salary</th></tr></thead><tbody><tr><td>101</td><td>'Agastya'</td><td>1</td><td>M</td><td>1987-01-22</td><td>Infosys</td><td>Developer</td><td>2015-01-21</td><td>'Hadoop,PySpark,Azure'</td><td>1500000</td><td>'1050000,1100000'</td></tr><tr><td>102</td><td>'Acyuta'</td><td>2</td><td>F</td><td>1987-03-29</td><td>TCS</td><td>Team Lead</td><td>2016-01-21</td><td>'C,C++,Java'</td><td>1600000</td><td>'1050000,1100000'</td></tr><tr><td>103</td><td>'Anuvrata'</td><td>1</td><td>M</td><td>1987-01-22</td><td>Infosys</td><td>Developer</td><td>2017-01-21</td><td>'Java,Python,Hadoop'</td><td>1600000</td><td>'1050000,1100000'</td></tr><tr><td>null</td><td>'Bhavika'</td><td>6</td><td>F</td><td>1987-01-22</td><td>Infosys</td><td>Team lead</td><td>2015-01-21</td><td>'Hadoop,PySpark,Kafka'</td><td>1700000</td><td>null</td></tr><tr><td>105</td><td>'Chitragandha'</td><td>null</td><td>M</td><td>1987-01-22</td><td>CTS</td><td>Developer</td><td>null</td><td>'C,C++,Java'</td><td>1200000</td><td>'1050000,1100000'</td></tr><tr><td>106</td><td>'Hritika'</td><td>9</td><td>F</td><td>1987-01-22</td><td>Cisco</td><td>Developer</td><td>2016-01-21</td><td>'C,C++,Java'</td><td>1900000</td><td>'1050000,1100000'</td></tr><tr><td>107</td><td>'Jigyasa'</td><td>12</td><td>M</td><td>1987-01-22</td><td>Infosys</td><td>Team Lead</td><td>2005-01-21</td><td>'Hadoop,PySpark,Kafka'</td><td>1700000</td><td>'1050000,1100000'</td></tr><tr><td>108</td><td>'Kaveri'</td><td>4</td><td>F</td><td>1987-01-22</td><td>cisco</td><td>R&D Engineer</td><td>2015-01-21</td><td>'C,PySpark,Azure,AWS'</td><td>1600000</td><td>'1050000,1100000'</td></tr><tr><td>109</td><td>null</td><td>8</td><td>M</td><td>1987-01-22</td><td>null</td><td>Developer</td><td>2008-01-21</td><td>'C,C++,Java'</td><td>2000000</td><td>'1050000,1100000'</td></tr><tr><td>110</td><td>'Vin'</td><td>null</td><td>T</td><td>1987-01-22</td><td>CTS</td><td>Team Lead</td><td>2020-01-21</td><td>'Hadoop,PySpark,Kafka,Kafka'</td><td>2200000</td><td>'1050000,1100000'</td></tr></tbody></table></div>"
      ]
     },
     "metadata": {
      "application/vnd.databricks.v1+output": {
       "addedWidgets": {},
       "aggData": [],
       "aggError": "",
       "aggOverflow": false,
       "aggSchema": [],
       "aggSeriesLimitReached": false,
       "aggType": "",
       "arguments": {},
       "columnCustomDisplayInfos": {},
       "data": [
        [
         101,
         "'Agastya'",
         1,
         "M",
         "1987-01-22",
         "Infosys",
         "Developer",
         "2015-01-21",
         "'Hadoop,PySpark,Azure'",
         1500000,
         "'1050000,1100000'"
        ],
        [
         102,
         "'Acyuta'",
         2,
         "F",
         "1987-03-29",
         "TCS",
         "Team Lead",
         "2016-01-21",
         "'C,C++,Java'",
         1600000,
         "'1050000,1100000'"
        ],
        [
         103,
         "'Anuvrata'",
         1,
         "M",
         "1987-01-22",
         "Infosys",
         "Developer",
         "2017-01-21",
         "'Java,Python,Hadoop'",
         1600000,
         "'1050000,1100000'"
        ],
        [
         null,
         "'Bhavika'",
         6,
         "F",
         "1987-01-22",
         "Infosys",
         "Team lead",
         "2015-01-21",
         "'Hadoop,PySpark,Kafka'",
         1700000,
         null
        ],
        [
         105,
         "'Chitragandha'",
         null,
         "M",
         "1987-01-22",
         "CTS",
         "Developer",
         null,
         "'C,C++,Java'",
         1200000,
         "'1050000,1100000'"
        ],
        [
         106,
         "'Hritika'",
         9,
         "F",
         "1987-01-22",
         "Cisco",
         "Developer",
         "2016-01-21",
         "'C,C++,Java'",
         1900000,
         "'1050000,1100000'"
        ],
        [
         107,
         "'Jigyasa'",
         12,
         "M",
         "1987-01-22",
         "Infosys",
         "Team Lead",
         "2005-01-21",
         "'Hadoop,PySpark,Kafka'",
         1700000,
         "'1050000,1100000'"
        ],
        [
         108,
         "'Kaveri'",
         4,
         "F",
         "1987-01-22",
         "cisco",
         "R&D Engineer",
         "2015-01-21",
         "'C,PySpark,Azure,AWS'",
         1600000,
         "'1050000,1100000'"
        ],
        [
         109,
         null,
         8,
         "M",
         "1987-01-22",
         null,
         "Developer",
         "2008-01-21",
         "'C,C++,Java'",
         2000000,
         "'1050000,1100000'"
        ],
        [
         110,
         "'Vin'",
         null,
         "T",
         "1987-01-22",
         "CTS",
         "Team Lead",
         "2020-01-21",
         "'Hadoop,PySpark,Kafka,Kafka'",
         2200000,
         "'1050000,1100000'"
        ]
       ],
       "datasetInfos": [],
       "dbfsResultPath": null,
       "isJsonSchema": true,
       "metadata": {},
       "overflow": false,
       "plotOptions": {
        "customPlotOptions": {},
        "displayType": "table",
        "pivotAggregation": null,
        "pivotColumns": null,
        "xColumns": null,
        "yColumns": null
       },
       "removedWidgets": [],
       "schema": [
        {
         "metadata": "{}",
         "name": "col_id",
         "type": "\"integer\""
        },
        {
         "metadata": "{}",
         "name": "col_name",
         "type": "\"string\""
        },
        {
         "metadata": "{}",
         "name": "col_exp",
         "type": "\"integer\""
        },
        {
         "metadata": "{}",
         "name": "col_gen",
         "type": "\"string\""
        },
        {
         "metadata": "{\"__detected_date_formats\":\"yyyy-M-d\"}",
         "name": "col_dob",
         "type": "\"date\""
        },
        {
         "metadata": "{}",
         "name": "col_company",
         "type": "\"string\""
        },
        {
         "metadata": "{}",
         "name": "col_desig",
         "type": "\"string\""
        },
        {
         "metadata": "{\"__detected_date_formats\":\"d-M-yyyy\"}",
         "name": "col_doj",
         "type": "\"date\""
        },
        {
         "metadata": "{}",
         "name": "col_skills",
         "type": "\"string\""
        },
        {
         "metadata": "{}",
         "name": "col_offered_salary",
         "type": "\"integer\""
        },
        {
         "metadata": "{}",
         "name": "col_previous_expected_salary",
         "type": "\"string\""
        }
       ],
       "type": "table"
      }
     },
     "output_type": "display_data"
    }
   ],
   "source": [
    "employee_df = spark.read.csv(\n",
    "    path=\"/FileStore/tables/employee.csv\", header=True, inferSchema=True, sep=\"|\"\n",
    ")\n",
    "employee_df.display()"
   ]
  },
  {
   "cell_type": "code",
   "execution_count": 0,
   "metadata": {
    "application/vnd.databricks.v1+cell": {
     "cellMetadata": {
      "byteLimit": 2048000,
      "rowLimit": 10000
     },
     "inputWidgets": {},
     "nuid": "2b3b6fb0-c551-47d1-bf28-1f00b6808092",
     "showTitle": false,
     "title": ""
    }
   },
   "outputs": [
    {
     "output_type": "display_data",
     "data": {
      "text/html": [
       "<style scoped>\n",
       "  .table-result-container {\n",
       "    max-height: 300px;\n",
       "    overflow: auto;\n",
       "  }\n",
       "  table, th, td {\n",
       "    border: 1px solid black;\n",
       "    border-collapse: collapse;\n",
       "  }\n",
       "  th, td {\n",
       "    padding: 5px;\n",
       "  }\n",
       "  th {\n",
       "    text-align: left;\n",
       "  }\n",
       "</style><div class='table-result-container'><table class='table-result'><thead style='background-color: white'><tr><th>col_gen</th><th>count</th></tr></thead><tbody><tr><td>F</td><td>4</td></tr><tr><td>T</td><td>1</td></tr><tr><td>M</td><td>5</td></tr></tbody></table></div>"
      ]
     },
     "metadata": {
      "application/vnd.databricks.v1+output": {
       "addedWidgets": {},
       "aggData": [],
       "aggError": "",
       "aggOverflow": false,
       "aggSchema": [],
       "aggSeriesLimitReached": false,
       "aggType": "",
       "arguments": {},
       "columnCustomDisplayInfos": {},
       "data": [
        [
         "F",
         4
        ],
        [
         "T",
         1
        ],
        [
         "M",
         5
        ]
       ],
       "datasetInfos": [],
       "dbfsResultPath": null,
       "isJsonSchema": true,
       "metadata": {},
       "overflow": false,
       "plotOptions": {
        "customPlotOptions": {},
        "displayType": "table",
        "pivotAggregation": null,
        "pivotColumns": null,
        "xColumns": null,
        "yColumns": null
       },
       "removedWidgets": [],
       "schema": [
        {
         "metadata": "{}",
         "name": "col_gen",
         "type": "\"string\""
        },
        {
         "metadata": "{}",
         "name": "count",
         "type": "\"long\""
        }
       ],
       "type": "table"
      }
     },
     "output_type": "display_data"
    }
   ],
   "source": [
    "employee_df.groupBy(\"col_gen\").count().display()"
   ]
  },
  {
   "cell_type": "markdown",
   "metadata": {
    "application/vnd.databricks.v1+cell": {
     "cellMetadata": {},
     "inputWidgets": {},
     "nuid": "e8022157-d733-482b-b008-74dbd37896d5",
     "showTitle": false,
     "title": ""
    }
   },
   "source": [
    "# Temporary View"
   ]
  },
  {
   "cell_type": "code",
   "execution_count": 0,
   "metadata": {
    "application/vnd.databricks.v1+cell": {
     "cellMetadata": {
      "byteLimit": 2048000,
      "rowLimit": 10000
     },
     "inputWidgets": {},
     "nuid": "7fbc2b99-25e5-4b62-926b-15fb8da6de49",
     "showTitle": false,
     "title": ""
    }
   },
   "outputs": [],
   "source": [
    "employee_df.createOrReplaceTempView(\"emp_tmp_vw\")"
   ]
  },
  {
   "cell_type": "code",
   "execution_count": 0,
   "metadata": {
    "application/vnd.databricks.v1+cell": {
     "cellMetadata": {
      "byteLimit": 2048000,
      "rowLimit": 10000
     },
     "inputWidgets": {},
     "nuid": "103e2df3-0b67-453d-a097-5de6d53c276c",
     "showTitle": false,
     "title": ""
    }
   },
   "outputs": [
    {
     "output_type": "display_data",
     "data": {
      "text/html": [
       "<style scoped>\n",
       "  .table-result-container {\n",
       "    max-height: 300px;\n",
       "    overflow: auto;\n",
       "  }\n",
       "  table, th, td {\n",
       "    border: 1px solid black;\n",
       "    border-collapse: collapse;\n",
       "  }\n",
       "  th, td {\n",
       "    padding: 5px;\n",
       "  }\n",
       "  th {\n",
       "    text-align: left;\n",
       "  }\n",
       "</style><div class='table-result-container'><table class='table-result'><thead style='background-color: white'><tr><th>col_gen</th><th>count(1)</th></tr></thead><tbody><tr><td>F</td><td>4</td></tr><tr><td>T</td><td>1</td></tr><tr><td>M</td><td>5</td></tr></tbody></table></div>"
      ]
     },
     "metadata": {
      "application/vnd.databricks.v1+output": {
       "addedWidgets": {},
       "aggData": [],
       "aggError": "",
       "aggOverflow": false,
       "aggSchema": [],
       "aggSeriesLimitReached": false,
       "aggType": "",
       "arguments": {},
       "columnCustomDisplayInfos": {},
       "data": [
        [
         "F",
         4
        ],
        [
         "T",
         1
        ],
        [
         "M",
         5
        ]
       ],
       "datasetInfos": [],
       "dbfsResultPath": null,
       "isJsonSchema": true,
       "metadata": {},
       "overflow": false,
       "plotOptions": {
        "customPlotOptions": {},
        "displayType": "table",
        "pivotAggregation": null,
        "pivotColumns": null,
        "xColumns": null,
        "yColumns": null
       },
       "removedWidgets": [],
       "schema": [
        {
         "metadata": "{}",
         "name": "col_gen",
         "type": "\"string\""
        },
        {
         "metadata": "{\"__autoGeneratedAlias\":\"true\"}",
         "name": "count(1)",
         "type": "\"long\""
        }
       ],
       "type": "table"
      }
     },
     "output_type": "display_data"
    }
   ],
   "source": [
    "spark.sql(\"SELECT col_gen, count(*) from emp_tmp_vw group by col_gen\").display()"
   ]
  },
  {
   "cell_type": "code",
   "execution_count": 0,
   "metadata": {
    "application/vnd.databricks.v1+cell": {
     "cellMetadata": {
      "byteLimit": 2048000,
      "implicitDf": true,
      "rowLimit": 10000
     },
     "inputWidgets": {},
     "nuid": "b748beac-63b5-4368-88fa-22540ab184d8",
     "showTitle": false,
     "title": ""
    }
   },
   "outputs": [
    {
     "output_type": "display_data",
     "data": {
      "text/html": [
       "<style scoped>\n",
       "  .table-result-container {\n",
       "    max-height: 300px;\n",
       "    overflow: auto;\n",
       "  }\n",
       "  table, th, td {\n",
       "    border: 1px solid black;\n",
       "    border-collapse: collapse;\n",
       "  }\n",
       "  th, td {\n",
       "    padding: 5px;\n",
       "  }\n",
       "  th {\n",
       "    text-align: left;\n",
       "  }\n",
       "</style><div class='table-result-container'><table class='table-result'><thead style='background-color: white'><tr><th>col_gen</th><th>count(1)</th></tr></thead><tbody><tr><td>F</td><td>4</td></tr><tr><td>T</td><td>1</td></tr><tr><td>M</td><td>5</td></tr></tbody></table></div>"
      ]
     },
     "metadata": {
      "application/vnd.databricks.v1+output": {
       "addedWidgets": {},
       "aggData": [],
       "aggError": "",
       "aggOverflow": false,
       "aggSchema": [],
       "aggSeriesLimitReached": false,
       "aggType": "",
       "arguments": {},
       "columnCustomDisplayInfos": {},
       "data": [
        [
         "F",
         4
        ],
        [
         "T",
         1
        ],
        [
         "M",
         5
        ]
       ],
       "datasetInfos": [],
       "dbfsResultPath": null,
       "isJsonSchema": true,
       "metadata": {},
       "overflow": false,
       "plotOptions": {
        "customPlotOptions": {},
        "displayType": "table",
        "pivotAggregation": null,
        "pivotColumns": null,
        "xColumns": null,
        "yColumns": null
       },
       "removedWidgets": [],
       "schema": [
        {
         "metadata": "{}",
         "name": "col_gen",
         "type": "\"string\""
        },
        {
         "metadata": "{\"__autoGeneratedAlias\":\"true\"}",
         "name": "count(1)",
         "type": "\"long\""
        }
       ],
       "type": "table"
      }
     },
     "output_type": "display_data"
    }
   ],
   "source": [
    "%sql\n",
    "\n",
    "SELECT col_gen, count(*) from emp_tmp_vw group by col_gen"
   ]
  },
  {
   "cell_type": "code",
   "execution_count": 0,
   "metadata": {
    "application/vnd.databricks.v1+cell": {
     "cellMetadata": {
      "byteLimit": 2048000,
      "implicitDf": true,
      "rowLimit": 10000
     },
     "inputWidgets": {},
     "nuid": "760a64d2-52d8-4f03-8309-3455615fd64b",
     "showTitle": false,
     "title": ""
    }
   },
   "outputs": [
    {
     "output_type": "display_data",
     "data": {
      "text/html": [
       "<style scoped>\n",
       "  .table-result-container {\n",
       "    max-height: 300px;\n",
       "    overflow: auto;\n",
       "  }\n",
       "  table, th, td {\n",
       "    border: 1px solid black;\n",
       "    border-collapse: collapse;\n",
       "  }\n",
       "  th, td {\n",
       "    padding: 5px;\n",
       "  }\n",
       "  th {\n",
       "    text-align: left;\n",
       "  }\n",
       "</style><div class='table-result-container'><table class='table-result'><thead style='background-color: white'><tr><th>namespace</th><th>viewName</th><th>isTemporary</th><th>isMaterialized</th></tr></thead><tbody><tr><td></td><td>emp_tmp_vw</td><td>true</td><td>false</td></tr></tbody></table></div>"
      ]
     },
     "metadata": {
      "application/vnd.databricks.v1+output": {
       "addedWidgets": {},
       "aggData": [],
       "aggError": "",
       "aggOverflow": false,
       "aggSchema": [],
       "aggSeriesLimitReached": false,
       "aggType": "",
       "arguments": {},
       "columnCustomDisplayInfos": {},
       "data": [
        [
         "",
         "emp_tmp_vw",
         true,
         false
        ]
       ],
       "datasetInfos": [],
       "dbfsResultPath": null,
       "isJsonSchema": true,
       "metadata": {},
       "overflow": false,
       "plotOptions": {
        "customPlotOptions": {},
        "displayType": "table",
        "pivotAggregation": null,
        "pivotColumns": null,
        "xColumns": null,
        "yColumns": null
       },
       "removedWidgets": [],
       "schema": [
        {
         "metadata": "{}",
         "name": "namespace",
         "type": "\"string\""
        },
        {
         "metadata": "{}",
         "name": "viewName",
         "type": "\"string\""
        },
        {
         "metadata": "{}",
         "name": "isTemporary",
         "type": "\"boolean\""
        },
        {
         "metadata": "{}",
         "name": "isMaterialized",
         "type": "\"boolean\""
        }
       ],
       "type": "table"
      }
     },
     "output_type": "display_data"
    }
   ],
   "source": [
    "%sql\n",
    "\n",
    "SHOW VIEWS"
   ]
  },
  {
   "cell_type": "code",
   "execution_count": 0,
   "metadata": {
    "application/vnd.databricks.v1+cell": {
     "cellMetadata": {},
     "inputWidgets": {},
     "nuid": "0d2bf582-6637-4241-9f98-97b486bf0b57",
     "showTitle": false,
     "title": ""
    }
   },
   "outputs": [],
   "source": []
  },
  {
   "cell_type": "markdown",
   "metadata": {
    "application/vnd.databricks.v1+cell": {
     "cellMetadata": {},
     "inputWidgets": {},
     "nuid": "465843f5-324a-4c35-8997-67edfe6c1f57",
     "showTitle": false,
     "title": ""
    }
   },
   "source": [
    "# Global View\n"
   ]
  },
  {
   "cell_type": "code",
   "execution_count": 0,
   "metadata": {
    "application/vnd.databricks.v1+cell": {
     "cellMetadata": {
      "byteLimit": 2048000,
      "rowLimit": 10000
     },
     "inputWidgets": {},
     "nuid": "7233474a-2b42-4684-b6b0-f2f5126e20bb",
     "showTitle": false,
     "title": ""
    }
   },
   "outputs": [],
   "source": [
    "employee_df.createOrReplaceGlobalTempView(\"emp_glb_vw\")"
   ]
  },
  {
   "cell_type": "code",
   "execution_count": 0,
   "metadata": {
    "application/vnd.databricks.v1+cell": {
     "cellMetadata": {
      "byteLimit": 2048000,
      "implicitDf": true,
      "rowLimit": 10000
     },
     "inputWidgets": {},
     "nuid": "a3147862-05cb-445e-adb3-f923f5eff9f4",
     "showTitle": false,
     "title": ""
    }
   },
   "outputs": [
    {
     "output_type": "display_data",
     "data": {
      "text/html": [
       "<style scoped>\n",
       "  .table-result-container {\n",
       "    max-height: 300px;\n",
       "    overflow: auto;\n",
       "  }\n",
       "  table, th, td {\n",
       "    border: 1px solid black;\n",
       "    border-collapse: collapse;\n",
       "  }\n",
       "  th, td {\n",
       "    padding: 5px;\n",
       "  }\n",
       "  th {\n",
       "    text-align: left;\n",
       "  }\n",
       "</style><div class='table-result-container'><table class='table-result'><thead style='background-color: white'><tr><th>col_gen</th><th>count(1)</th></tr></thead><tbody><tr><td>F</td><td>4</td></tr><tr><td>T</td><td>1</td></tr><tr><td>M</td><td>5</td></tr></tbody></table></div>"
      ]
     },
     "metadata": {
      "application/vnd.databricks.v1+output": {
       "addedWidgets": {},
       "aggData": [],
       "aggError": "",
       "aggOverflow": false,
       "aggSchema": [],
       "aggSeriesLimitReached": false,
       "aggType": "",
       "arguments": {},
       "columnCustomDisplayInfos": {},
       "data": [
        [
         "F",
         4
        ],
        [
         "T",
         1
        ],
        [
         "M",
         5
        ]
       ],
       "datasetInfos": [],
       "dbfsResultPath": null,
       "isJsonSchema": true,
       "metadata": {},
       "overflow": false,
       "plotOptions": {
        "customPlotOptions": {},
        "displayType": "table",
        "pivotAggregation": null,
        "pivotColumns": null,
        "xColumns": null,
        "yColumns": null
       },
       "removedWidgets": [],
       "schema": [
        {
         "metadata": "{}",
         "name": "col_gen",
         "type": "\"string\""
        },
        {
         "metadata": "{\"__autoGeneratedAlias\":\"true\"}",
         "name": "count(1)",
         "type": "\"long\""
        }
       ],
       "type": "table"
      }
     },
     "output_type": "display_data"
    }
   ],
   "source": [
    "%sql\n",
    "\n",
    "SELECT col_gen, count(*) from global_temp.emp_glb_vw group by col_gen"
   ]
  },
  {
   "cell_type": "code",
   "execution_count": 0,
   "metadata": {
    "application/vnd.databricks.v1+cell": {
     "cellMetadata": {
      "byteLimit": 2048000,
      "implicitDf": true,
      "rowLimit": 10000
     },
     "inputWidgets": {},
     "nuid": "4b37c387-a9c1-4c1e-b247-5f9e6be9b23d",
     "showTitle": false,
     "title": ""
    }
   },
   "outputs": [
    {
     "output_type": "display_data",
     "data": {
      "text/html": [
       "<style scoped>\n",
       "  .table-result-container {\n",
       "    max-height: 300px;\n",
       "    overflow: auto;\n",
       "  }\n",
       "  table, th, td {\n",
       "    border: 1px solid black;\n",
       "    border-collapse: collapse;\n",
       "  }\n",
       "  th, td {\n",
       "    padding: 5px;\n",
       "  }\n",
       "  th {\n",
       "    text-align: left;\n",
       "  }\n",
       "</style><div class='table-result-container'><table class='table-result'><thead style='background-color: white'><tr><th>namespace</th><th>viewName</th><th>isTemporary</th><th>isMaterialized</th></tr></thead><tbody><tr><td>global_temp</td><td>emp_glb_vw</td><td>true</td><td>false</td></tr><tr><td></td><td>emp_tmp_vw</td><td>true</td><td>false</td></tr></tbody></table></div>"
      ]
     },
     "metadata": {
      "application/vnd.databricks.v1+output": {
       "addedWidgets": {},
       "aggData": [],
       "aggError": "",
       "aggOverflow": false,
       "aggSchema": [],
       "aggSeriesLimitReached": false,
       "aggType": "",
       "arguments": {},
       "columnCustomDisplayInfos": {},
       "data": [
        [
         "global_temp",
         "emp_glb_vw",
         true,
         false
        ],
        [
         "",
         "emp_tmp_vw",
         true,
         false
        ]
       ],
       "datasetInfos": [],
       "dbfsResultPath": null,
       "isJsonSchema": true,
       "metadata": {},
       "overflow": false,
       "plotOptions": {
        "customPlotOptions": {},
        "displayType": "table",
        "pivotAggregation": null,
        "pivotColumns": null,
        "xColumns": null,
        "yColumns": null
       },
       "removedWidgets": [],
       "schema": [
        {
         "metadata": "{}",
         "name": "namespace",
         "type": "\"string\""
        },
        {
         "metadata": "{}",
         "name": "viewName",
         "type": "\"string\""
        },
        {
         "metadata": "{}",
         "name": "isTemporary",
         "type": "\"boolean\""
        },
        {
         "metadata": "{}",
         "name": "isMaterialized",
         "type": "\"boolean\""
        }
       ],
       "type": "table"
      }
     },
     "output_type": "display_data"
    }
   ],
   "source": [
    "%sql\n",
    "\n",
    "SHOW VIEWS in global_temp;"
   ]
  },
  {
   "cell_type": "code",
   "execution_count": 0,
   "metadata": {
    "application/vnd.databricks.v1+cell": {
     "cellMetadata": {
      "byteLimit": 2048000,
      "rowLimit": 10000
     },
     "inputWidgets": {},
     "nuid": "7a5a7b72-1bfc-4a28-b336-609909a56477",
     "showTitle": false,
     "title": ""
    }
   },
   "outputs": [
    {
     "output_type": "stream",
     "name": "stdout",
     "output_type": "stream",
     "text": [
      "Table(name='emp_tmp_vw', catalog=None, namespace=[], description=None, tableType='TEMPORARY', isTemporary=True)\n"
     ]
    }
   ],
   "source": [
    "for view in spark.catalog.listTables():\n",
    "    print(view)"
   ]
  },
  {
   "cell_type": "code",
   "execution_count": 0,
   "metadata": {
    "application/vnd.databricks.v1+cell": {
     "cellMetadata": {
      "byteLimit": 2048000,
      "rowLimit": 10000
     },
     "inputWidgets": {},
     "nuid": "afdf1fba-a835-4d42-affb-dd1975a3229b",
     "showTitle": false,
     "title": ""
    }
   },
   "outputs": [
    {
     "output_type": "stream",
     "name": "stdout",
     "output_type": "stream",
     "text": [
      "Table(name='emp_glb_vw', catalog=None, namespace=['global_temp'], description=None, tableType='TEMPORARY', isTemporary=True)\nTable(name='emp_tmp_vw', catalog=None, namespace=[], description=None, tableType='TEMPORARY', isTemporary=True)\n"
     ]
    }
   ],
   "source": [
    "for view in spark.catalog.listTables(\"global_temp\"):\n",
    "    print(view)"
   ]
  },
  {
   "cell_type": "code",
   "execution_count": 0,
   "metadata": {
    "application/vnd.databricks.v1+cell": {
     "cellMetadata": {
      "byteLimit": 2048000,
      "rowLimit": 10000
     },
     "inputWidgets": {},
     "nuid": "03c8ac4a-9f1e-457f-b7a1-397e295f3fbd",
     "showTitle": false,
     "title": ""
    }
   },
   "outputs": [
    {
     "output_type": "stream",
     "name": "stdout",
     "output_type": "stream",
     "text": [
      "Global View: emp_glb_vw\nTemp View: emp_tmp_vw\n"
     ]
    }
   ],
   "source": [
    "for view in spark.catalog.listTables(\"global_temp\"):\n",
    "    if len(view.namespace) == 0:\n",
    "        print(f\"Temp View: {view.name}\")\n",
    "    else:\n",
    "        print(f\"Global View: {view.name}\")"
   ]
  },
  {
   "cell_type": "code",
   "execution_count": 0,
   "metadata": {
    "application/vnd.databricks.v1+cell": {
     "cellMetadata": {
      "byteLimit": 2048000,
      "rowLimit": 10000
     },
     "inputWidgets": {},
     "nuid": "0da78254-22be-4940-9fe2-8463b246f35f",
     "showTitle": false,
     "title": ""
    }
   },
   "outputs": [
    {
     "output_type": "stream",
     "name": "stdout",
     "output_type": "stream",
     "text": [
      "Global View: emp_glb_vw\nTemp View: emp_tmp_vw\n"
     ]
    }
   ],
   "source": [
    "for view in spark.catalog.listTables(\"global_temp\"):\n",
    "    view_type = \"Temp\" if len(view.namespace) == 0 else \"Global\"\n",
    "    print(f\"{view_type} View: {view.name}\")"
   ]
  },
  {
   "cell_type": "code",
   "execution_count": 0,
   "metadata": {
    "application/vnd.databricks.v1+cell": {
     "cellMetadata": {},
     "inputWidgets": {},
     "nuid": "4d224b3c-3d7f-469b-a60a-bcdfd94779fd",
     "showTitle": false,
     "title": ""
    }
   },
   "outputs": [],
   "source": []
  }
 ],
 "metadata": {
  "application/vnd.databricks.v1+notebook": {
   "dashboards": [],
   "environmentMetadata": null,
   "language": "python",
   "notebookMetadata": {
    "mostRecentlyExecutedCommandWithImplicitDF": {
     "commandId": 4081458322285184,
     "dataframes": [
      "_sqldf"
     ]
    },
    "pythonIndentUnit": 4
   },
   "notebookName": "05. SQL Views",
   "widgets": {}
  }
 },
 "nbformat": 4,
 "nbformat_minor": 0
}
