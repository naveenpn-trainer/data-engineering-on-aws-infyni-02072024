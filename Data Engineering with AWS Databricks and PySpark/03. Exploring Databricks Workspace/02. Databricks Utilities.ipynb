{
 "cells": [
  {
   "cell_type": "markdown",
   "metadata": {
    "application/vnd.databricks.v1+cell": {
     "cellMetadata": {},
     "inputWidgets": {},
     "nuid": "dcdc1a6e-0f61-471c-9714-763dbf31fdfa",
     "showTitle": false,
     "title": ""
    }
   },
   "source": [
    "# Introduction to Databricks Utilities\n",
    "\n",
    "> Databricks provides various utilities for users to interact with databricks\n",
    "\n"
   ]
  },
  {
   "cell_type": "markdown",
   "metadata": {
    "application/vnd.databricks.v1+cell": {
     "cellMetadata": {},
     "inputWidgets": {},
     "nuid": "d9f00215-56e5-47ac-b782-d7c5649fc304",
     "showTitle": false,
     "title": ""
    }
   },
   "source": [
    "# Types of Databricks Utilities\n",
    "<br/>\n",
    "<br/>\n",
    "<br/>\n",
    "```\n",
    "dbutils.help()\n",
    "```\n",
    "\n",
    "\n"
   ]
  },
  {
   "cell_type": "code",
   "execution_count": 0,
   "metadata": {
    "application/vnd.databricks.v1+cell": {
     "cellMetadata": {
      "byteLimit": 2048000,
      "rowLimit": 10000
     },
     "inputWidgets": {},
     "nuid": "cd37fa83-f4a4-4bdb-8a42-6f8cc3b11ed1",
     "showTitle": false,
     "title": ""
    }
   },
   "outputs": [
    {
     "output_type": "display_data",
     "data": {
      "text/html": [
       "<div class = \"ansiout\">\n",
       "This module provides various utilities for users to interact with the rest of Databricks.\n",
       "  <h3></h3><b>credentials: DatabricksCredentialUtils</b> -> Utilities for interacting with credentials within notebooks<br /><b>data: DataUtils</b> -> Utilities for understanding and interacting with datasets (EXPERIMENTAL)<br /><b>fs: DbfsUtils</b> -> Manipulates the Databricks filesystem (DBFS) from the console<br /><b>jobs: JobsUtils</b> -> Utilities for leveraging jobs features<br /><b>library: LibraryUtils</b> -> Utilities for session isolated libraries<br /><b>meta: MetaUtils</b> -> Methods to hook into the compiler (EXPERIMENTAL)<br /><b>notebook: NotebookUtils</b> -> Utilities for the control flow of a notebook (EXPERIMENTAL)<br /><b>preview: Preview</b> -> Utilities under preview category<br /><b>secrets: SecretUtils</b> -> Provides utilities for leveraging secrets within notebooks<br /><b>widgets: WidgetsUtils</b> -> Methods to create and get bound value of input widgets inside notebooks<br /><br /></div>"
      ]
     },
     "metadata": {
      "application/vnd.databricks.v1+output": {
       "addedWidgets": {},
       "arguments": {},
       "data": "<div class = \"ansiout\">\nThis module provides various utilities for users to interact with the rest of Databricks.\n  <h3></h3><b>credentials: DatabricksCredentialUtils</b> -> Utilities for interacting with credentials within notebooks<br /><b>data: DataUtils</b> -> Utilities for understanding and interacting with datasets (EXPERIMENTAL)<br /><b>fs: DbfsUtils</b> -> Manipulates the Databricks filesystem (DBFS) from the console<br /><b>jobs: JobsUtils</b> -> Utilities for leveraging jobs features<br /><b>library: LibraryUtils</b> -> Utilities for session isolated libraries<br /><b>meta: MetaUtils</b> -> Methods to hook into the compiler (EXPERIMENTAL)<br /><b>notebook: NotebookUtils</b> -> Utilities for the control flow of a notebook (EXPERIMENTAL)<br /><b>preview: Preview</b> -> Utilities under preview category<br /><b>secrets: SecretUtils</b> -> Provides utilities for leveraging secrets within notebooks<br /><b>widgets: WidgetsUtils</b> -> Methods to create and get bound value of input widgets inside notebooks<br /><br /></div>",
       "datasetInfos": [],
       "metadata": {},
       "removedWidgets": [],
       "textData": null,
       "type": "htmlSandbox"
      }
     },
     "output_type": "display_data"
    }
   ],
   "source": [
    "dbutils.help()"
   ]
  },
  {
   "cell_type": "markdown",
   "metadata": {
    "application/vnd.databricks.v1+cell": {
     "cellMetadata": {},
     "inputWidgets": {},
     "nuid": "73a3eed8-5d93-4c8e-a3de-0987fc45f20a",
     "showTitle": false,
     "title": ""
    }
   },
   "source": [
    "## File System Utilities"
   ]
  },
  {
   "cell_type": "code",
   "execution_count": 0,
   "metadata": {
    "application/vnd.databricks.v1+cell": {
     "cellMetadata": {
      "byteLimit": 2048000,
      "rowLimit": 10000
     },
     "inputWidgets": {},
     "nuid": "42fcf549-a58e-423f-8c5b-54d8e7c06cce",
     "showTitle": false,
     "title": ""
    }
   },
   "outputs": [
    {
     "output_type": "stream",
     "name": "stdout",
     "output_type": "stream",
     "text": [
      "Out[8]: [FileInfo(path='dbfs:/FileStore/tables/users/users_001.csv', name='users_001.csv', size=54091, modificationTime=1721190249000)]"
     ]
    }
   ],
   "source": [
    "dbutils.fs.ls(\"/FileStore/tables/users/\")"
   ]
  },
  {
   "cell_type": "code",
   "execution_count": 0,
   "metadata": {
    "application/vnd.databricks.v1+cell": {
     "cellMetadata": {
      "byteLimit": 2048000,
      "rowLimit": 10000
     },
     "inputWidgets": {},
     "nuid": "7d683bfc-e7d8-4dec-a40c-d6ba061fd29d",
     "showTitle": false,
     "title": ""
    }
   },
   "outputs": [
    {
     "output_type": "stream",
     "name": "stdout",
     "output_type": "stream",
     "text": [
      "Out[6]: True"
     ]
    }
   ],
   "source": [
    "dbutils.fs.mkdirs(\"/test\")"
   ]
  },
  {
   "cell_type": "code",
   "execution_count": 0,
   "metadata": {
    "application/vnd.databricks.v1+cell": {
     "cellMetadata": {
      "byteLimit": 2048000,
      "rowLimit": 10000
     },
     "inputWidgets": {},
     "nuid": "349e6626-86d8-4247-8dc6-78c30464ecdb",
     "showTitle": false,
     "title": ""
    }
   },
   "outputs": [
    {
     "output_type": "stream",
     "name": "stdout",
     "output_type": "stream",
     "text": [
      "Out[9]: True"
     ]
    }
   ],
   "source": [
    "dbutils.fs.cp(\"/FileStore/tables/users/users_001.csv\",\"/test\")"
   ]
  },
  {
   "cell_type": "code",
   "execution_count": 0,
   "metadata": {
    "application/vnd.databricks.v1+cell": {
     "cellMetadata": {
      "byteLimit": 2048000,
      "rowLimit": 10000
     },
     "inputWidgets": {},
     "nuid": "c33f37e9-6c34-47c3-8d46-fdeb019c462e",
     "showTitle": false,
     "title": ""
    }
   },
   "outputs": [
    {
     "output_type": "display_data",
     "data": {
      "text/html": [
       "<style scoped>\n",
       "  .table-result-container {\n",
       "    max-height: 300px;\n",
       "    overflow: auto;\n",
       "  }\n",
       "  table, th, td {\n",
       "    border: 1px solid black;\n",
       "    border-collapse: collapse;\n",
       "  }\n",
       "  th, td {\n",
       "    padding: 5px;\n",
       "  }\n",
       "  th {\n",
       "    text-align: left;\n",
       "  }\n",
       "</style><div class='table-result-container'><table class='table-result'><thead style='background-color: white'><tr><th>path</th><th>name</th><th>size</th><th>modificationTime</th></tr></thead><tbody><tr><td>dbfs:/test/users_001.csv</td><td>users_001.csv</td><td>54091</td><td>1721478059000</td></tr></tbody></table></div>"
      ]
     },
     "metadata": {
      "application/vnd.databricks.v1+output": {
       "addedWidgets": {},
       "aggData": [],
       "aggError": "",
       "aggOverflow": false,
       "aggSchema": [],
       "aggSeriesLimitReached": false,
       "aggType": "",
       "arguments": {},
       "columnCustomDisplayInfos": {},
       "data": [
        [
         "dbfs:/test/users_001.csv",
         "users_001.csv",
         54091,
         1721478059000
        ]
       ],
       "datasetInfos": [],
       "dbfsResultPath": null,
       "isJsonSchema": true,
       "metadata": {},
       "overflow": false,
       "plotOptions": {
        "customPlotOptions": {},
        "displayType": "table",
        "pivotAggregation": null,
        "pivotColumns": null,
        "xColumns": null,
        "yColumns": null
       },
       "removedWidgets": [],
       "schema": [
        {
         "metadata": "{}",
         "name": "path",
         "type": "\"string\""
        },
        {
         "metadata": "{}",
         "name": "name",
         "type": "\"string\""
        },
        {
         "metadata": "{}",
         "name": "size",
         "type": "\"long\""
        },
        {
         "metadata": "{}",
         "name": "modificationTime",
         "type": "\"long\""
        }
       ],
       "type": "table"
      }
     },
     "output_type": "display_data"
    }
   ],
   "source": [
    "display(dbutils.fs.ls(\"/test\"))"
   ]
  },
  {
   "cell_type": "code",
   "execution_count": 0,
   "metadata": {
    "application/vnd.databricks.v1+cell": {
     "cellMetadata": {
      "byteLimit": 2048000,
      "rowLimit": 10000
     },
     "inputWidgets": {},
     "nuid": "2ab2fb1d-1431-4b89-b915-3a065bcf4a9f",
     "showTitle": false,
     "title": ""
    }
   },
   "outputs": [
    {
     "output_type": "stream",
     "name": "stdout",
     "output_type": "stream",
     "text": [
      "'id,name,dob,email,gender,country,region,city,asset,marital_status\\n1,Heather Gibbs,2024-10-31,heathergibbs6243@gmail.com,Female,United States,Virginia,Virginia Beach,734388,Married\\n2,Herrod Petersen,2024-02-19,herrodpetersen@yahoomail.com,Male,United States,Arizona,Phoenix,113506,Single\\n3,Ocean Workman,2024-10-10,oceanworkman2328@ymail.com,Male,United States,Tennessee,Clarksville,139985,Married\\n4,Xaviera Maxwell,2025-03-09,xavieramaxwell@gmail.com,Transgender,United States,Ohio,Cleveland,511409,Married\\n5,Bo Underwood,2024-06-30,bounderwood@ymail.com,Male,India,Tamil Nadu,Madurai,366783,Married\\n6,Graiden Mcleod,2023-11-09,graidenmcleod1069@ymail.com,Male,United States,Oregon,Salem,638977,Divorced\\n7,Chantale Nixon,2023-09-06,chantalenixon404@ymail.com,Female,India,Andaman and Nicobar Islands,Port Blair,717994,Married\\n8,Ashton Willis,2025-02-22,ashtonwillis@gmail.com,Male,India,Dadra and Nagar Haveli,Silvassa,483841,Married\\n9,Mercedes Lawrence,2024-08-15,mercedeslawrence4115@ymail.com,Male,India,Punjab,Gujranwala,598378,Single\\n10,Norman Patton,2024-02-25,normanpatton6042@yahoomail.com,Transgender,India,Chhattisgarh,Durg,412938,Married\\n11,Pamela Farmer,2023-09-13,pamelafarmer7734@gmail.com,Female,India,Pondicherry,Pondicherry,961667,Common Law\\n12,Jana Barr,2024-04-20,janabarr3883@yahoomail.com,Female,United States,Oklahoma,Norman,319257,Married\\n13,Marvin Joseph,2025-02-19,marvinjoseph@ymail.com,Transgender,India,Tamil Nadu,Chennai,458643,Divorced\\n14,Mona Harper,2024-10-16,monaharper@gmail.com,Transgender,United States,Wisconsin,Madison,117202,Common Law\\n15,Teagan Barnes,2024-10-06,teaganbarnes4501@ymail.com,Male,United States,Oregon,Portland,981452,Common Law\\n16,Denton Raymond,2025-01-26,dentonraymond6515@yahoomail.com,Transgender,United States,Florida,Tampa,205420,Divorced\\n17,Dominique Horton,2023-06-11,dominiquehorton@gmail.com,Transgender,India,Bihar,Muzaffarpur,813996,Married\\n18,Tatyana Rosa,2024-04-05,tatyanarosa@ymail.com,Female,United States,Minnesota,Saint Paul,471709,Single\\n19,Len Mooney,2023-04-30,lenmooney@yahoomail.com,Transgender,India,Tamil Nadu,Thanjavur,406887,Single\\n20,Dean Beard,2024-03-28,deanbeard@ymail.com,Female,United States,Utah,Provo,232038,Married\\n21,Doris Joyce,2023-08-31,dorisjoyce@yahoomail.com,Male,United States,Connecticut,New Haven,560988,Married\\n22,Blythe Bryan,2023-11-08,blythebryan@yahoomail.com,Male,India,Jammu and Kashmir,Jammu,283680,Divorced\\n23,Rhona Irwin,2024-12-29,rhonairwin1873@ymail.com,Female,United States,Virginia,Newport News,567229,Common Law\\n24,John Coleman,2024-02-25,johncoleman8249@yahoomail.com,Transgender,India,Maharastra,Kolhapur,889327,Single\\n25,Ray Schroeder,2024-01-29,rayschroeder@ymail.com,Female,United States,Minnesota,Duluth,751145,Married\\n26,Elizabeth Odom,2024-11-11,elizabethodom4270@yahoomail.com,Female,India,Odisha,Raurkela Civil Township,829881,Common Law\\n27,Herrod Stuart,2024-10-21,herrodstuart@gmail.com,Male,India,Rajasthan,Ganganagar,144679,Common Law\\n28,Brent Lyons,2024-07-18,brentlyons6747@gmail.com,Male,United States,Virginia,Norfolk,174897,Common Law\\n29,Caldwell Hendricks,2024-06-04,caldwellhendricks1857@ymail.com,Male,India,Nagaland,Kohima,543041,Single\\n30,Nathan Rosario,2024-11-19,nathanrosario423@yahoomail.com,Transgender,India,Uttarakhand,Haridwar,496076,Married\\n31,Luke Copeland,2024-11-30,lukecopeland4730@yahoomail.com,Male,United States,Massachusetts,Springfield,633030,Divorced\\n32,Jonas Mcintosh,2024-04-23,jonasmcintosh947@yahoomail.com,Female,United States,Iowa,Sioux City,683453,Married\\n33,Rashad Watson,2024-11-24,rashadwatson@gmail.com,Female,India,Uttar Pradesh,Moradabad,747389,Divorced\\n34,Ignatius Bond,2024-09-15,ignatiusbond@gmail.com,Male,India,Jammu and Kashmir,Srinagar,918021,Divorced\\n35,Mohammad Hickman,2025-02-09,mohammadhickman8407@yahoomail.com,Female,India,Rajasthan,Kota,400670,Common Law\\n36,Xandra Robertson,2024-01-30,xandrarobertson697@ymail.com,Transgender,India,Pondicherry,Pondicherry,122915,Common Law\\n37,Norman Tanner,2024-02-13,normantanner@ymail.com,Female,United States,Colorado,Colorado Springs,558816,Single\\n38,Arden Goodwin,2023-04-02,ardengoodwin@gmail.com,Female,India,Bihar,Katihar,605034,Married\\n39,Jamalia Head,2024-06-09,jamaliahead@gmail.com,Transgender,India,Jammu and Kashmir,Srinagar,146174,Divorced\\n40,Jesse Sheppard,2023-12-16,jessesheppard@yahoomail.com,Female,India,Arunachal Pradesh,Itanagar,256391,Single\\n41,Cody Carroll,2023-08-05,codycarroll@yahoomail.com,Transgender,India,West Bengal,North Dum Dum,402821,Divorced\\n42,Glenna Dixon,2024-01-11,glennadixon@yahoomail.com,Female,United States,Nevada,North Las Vegas,101599,Divorced\\n43,Isaiah Cox,2024-02-17,isaiahcox2129@gmail.com,Male,India,Haryana,Hisar,810875,Common Law\\n44,Martina Whitehead,2025-01-19,martinawhitehead9896@yahoomail.com,Female,United States,Nevada,Las Vegas,585677,Common Law\\n45,Victoria Gay,2024-02-02,victoriagay9469@ymail.com,Male,India,Andhra Pradesh,Nandyal,671967,Married\\n46,Melvin Poole,2023-09-07,melvinpoole3595@ymail.com,Male,United States,Nebraska,Omaha,378722,Single\\n47,Lois Munoz,2023-08-12,loismunoz@yahoomail.com,Female,United States,Wyoming,Gillette,124283,Single\\n48,Sasha Vega,2023-04-25,sashavega7638@gmail.com,Transgender,United States,Indiana,Indianapolis,121714,Divorced\\n49,Prescott Dunn,2023-08-04,prescottdunn@ymail.com,Transgender,India,Assam,Guwahati,582532,Single\\n50,Penelope Serrano,2024-01-12,penelopeserrano@ymail.com,Male,United States,Illinois,Chicago,401623,Single\\n51,Denise Ray,2025-02-06,deniseray@ymail.com,Female,United States,Michigan,Lansing,378612,Common Law\\n52,Clark Bell,2023-11-09,clarkbell@yahoomail.com,Female,India,Himachal Pradesh,Shimla,885570,Married\\n53,Dana Velez,2024-12-16,danavelez2132@ymail.com,Male,India,Arunachal Pradesh,Itanagar,875187,Divorced\\n54,Charity Hodges,2023-08-16,charityhodges1857@ymail.com,Male,India,Odisha,Bhubaneswar,655854,Common Law\\n55,Zachary Simmons,2023-06-05,zacharysimmons3001@yahoomail.com,Female,United States,Nevada,Las Vegas,863434,Common Law\\n56,Devin Hester,2024-05-13,devinhester@yahoomail.com,Transgender,United States,Utah,Provo,931921,Married\\n57,Caldwell Haney,2024-04-18,caldwellhaney8991@yahoomail.com,Male,India,Jharkhand,Ranchi,622184,Single\\n58,Coby Stanley,2023-12-16,cobystanley@gmail.com,Female,India,Delhi,Delhi,802863,Married\\n59,Amelia Gallegos,2023-05-04,ameliagallegos9571@ymail.com,Female,India,Punjab,Chiniot,658490,Single\\n60,Kareem Adams,2024-11-16,kareemadams6983@yahoomail.com,Female,India,Pondicherry,Pondicherry,128913,Single\\n61,Scarlett Hardin,2023-03-30,scarletthardin@ymail.com,Male,United States,Maine,South Portland,399436,Single\\n62,Quentin Walter,2025-03-10,quentinwalter@ymail.com,Transgender,United States,Alabama,Huntsville,471549,Single\\n63,Briar Salazar,2024-08-22,briarsalazar5368@ymail.com,Male,India,Goa,Panjim,943596,Divorced\\n64,Graham Chase,2023-09-15,grahamchase@gmail.com,Transgender,United States,Iowa,Iowa City,106875,Married\\n65,Steel Fletcher,2024-01-03,steelfletcher@ymail.com,Male,United States,Maine,Bangor,242458,Married\\n66,Cecilia Henderson,2023-09-09,ceciliahenderson@ymail.com,Female,United States,Oregon,Eugene,690401,Married\\n67,Alan Newman,2024-03-30,alannewman@yahoomail.com,Male,United States,Illinois,Naperville,904401,Common Law\\n68,Roanna Gay,2024-04-25,roannagay7226@yahoomail.com,Female,United States,Oregon,Salem,113796,Common Law\\n69,Brittany Knapp,2023-05-19,brittanyknapp@ymail.com,Male,United States,Michigan,Sterling Heights,507898,Common Law\\n70,Medge Solis,2023-09-03,medgesolis@yahoomail.com,Female,United States,Maryland,Rockville,296467,Divorced\\n71,Clio Osborne,2024-11-19,clioosborne638@ymail.com,Transgender,India,Lakshadweep,Kavaratti,439196,Common Law\\n72,Dante Murray,2024-11-30,dantemurray1031@gmail.com,Female,United States,Pennsylvania,Harrisburg,230028,Divorced\\n73,Joseph Little,2023-11-20,josephlittle9488@gmail.com,Female,United States,Mississippi,Southaven,338961,Divorced\\n74,Darius Castillo,2024-05-10,dariuscastillo@gmail.com,Male,India,Goa,Panjim,339814,Divorced\\n75,Channing Vance,2024-09-02,channingvance@yahoomail.com,Transgender,India,Chhattisgarh,Durg,325882,Divorced\\n76,Alvin Love,2024-09-29,alvinlove@yahoomail.com,Female,India,Mizoram,Aizwal,302772,Single\\n77,Lani Stewart,2023-10-15,lanistewart9691@ymail.com,Female,United States,Arkansas,Springdale,345545,Common Law\\n78,Stacey Fitzpatrick,2023-08-31,staceyfitzpatrick@gmail.com,Transgender,United States,Mississippi,Gulfport,527829,Married\\n79,Jocelyn Rutledge,2024-01-16,jocelynrutledge933@yahoomail.com,Female,United States,Mississippi,Southaven,503370,Common Law\\n80,Belle Gilbert,2024-02-14,bellegilbert9962@ymail.com,Female,United States,Mississippi,Gulfport,634826,Married\\n81,Gannon Mayo,2024-03-22,gannonmayo@yahoomail.com,Male,India,Meghalaya,Shillong,171339,Divorced\\n82,Jarrod Pearson,2023-05-22,jarrodpearson5754@gmail.com,Transgender,United States,Michigan,Detroit,643728,Single\\n83,Russell Little,2025-01-17,russelllittle3614@ymail.com,Transgender,United States,Iowa,Des Moines,624068,Common Law\\n84,Wade Duffy,2024-05-24,wadeduffy360@ymail.com,Male,United States,Minnesota,Bloomington,679668,Common Law\\n85,Jermaine Holmes,2024-03-29,jermaineholmes5458@yahoomail.com,Male,United States,Maryland,Gaithersburg,116184,Single\\n86,William Atkins,2023-08-06,williamatkins6495@ymail.com,Transgender,India,Mizoram,Aizwal,416716,Married\\n87,Asher Knowles,2024-09-25,asherknowles9019@yahoomail.com,Male,India,Goa,Panjim,933698,Common Law\\n88,Barry Grant,2024-07-01,barrygrant2189@ymail.com,Male,India,Gujarat,Veraval,109280,Divorced\\n89,Ralph Navarro,2024-03-11,ralphnavarro1166@ymail.com,Female,India,Chandigarh,Chandigarh,776249,Common Law\\n90,Karen Clarke,2025-03-15,karenclarke@gmail.com,Female,United States,Utah,Sandy,315095,Divorced\\n91,Gwendolyn Hughes,2023-07-29,gwendolynhughes4661@yahoomail.com,Transgender,India,Delhi,Delhi,364479,Divorced\\n92,Leonard White,2024-11-14,leonardwhite@yahoomail.com,Transgender,India,West Bengal,Asansol,105532,Married\\n93,Alec Cherry,2024-04-30,aleccherry@ymail.com,Transgender,India,Andhra Pradesh,Khammam,987383,Single\\n94,Chava Curry,2023-11-22,chavacurry@yahoomail.com,Female,United States,Ohio,Cleveland,828736,Married\\n95,Latifah Fields,2024-04-28,latifahfields@yahoomail.com,Male,United States,Hawaii,Kapolei,173022,Common Law\\n96,Orla Evans,2023-06-14,orlaevans@ymail.com,Male,India,Meghalaya,Shillong,345101,Married\\n97,Aileen Crane,2023-07-20,aileencrane5539@ymail.com,Female,India,Himachal Pradesh,Shimla,665101,Married\\n98,Lesley Cline,2025-01-31,lesleycline1323@yahoomail.com,Female,United States,Delaware,Newark,461056,Married\\n99,Mechelle Gomez,2023-09-01,mechellegomez8109@yahoomail.com,Female,India,Assam,Silchar,554725,Single\\n100,Echo Campbell,2024-02-03,echocampbell@gmail.com,Male,India,Goa,Panjim,560791,Common Law\\n101,Emerson Bryan,2025-01-24,emersonbryan@yahoomail.com,Transgender,India,Kerala,Allappuzha,384468,Single\\n102,Noelani Banks,2023-07-21,noelanibanks@ymail.com,Transgender,United States,Virginia,Chesapeake,819937,Single\\n103,Marcia Frost,2024-05-22,marciafrost183@ymail.com,Transgender,India,West Bengal,Bansberia,935158,Common Law\\n104,Nehru Stephenson,2024-11-04,nehrustephenson3833@yahoomail.com,Female,United States,Indiana,South Bend,723115,Common Law\\n105,Kasper Washington,2023-10-30,kasperwashington@yahoomail.com,Female,India,Andhra Pradesh,Machilipatnam,369857,Divorced\\n106,Whitney Morales,2024-09-10,whitneymorales4338@ymail.com,Female,India,Bihar,Darbhanga,692463,Married\\n107,Noelani Bruce,2024-04-14,noelanibruce3138@gmail.com,Male,United States,Mississippi,Southaven,539453,Common Law\\n108,Zena Warner,2025-01-01,zenawarner4379@ymail.com,Female,United States,Indiana,South Bend,563334,Married\\n109,Melissa Keller,2024-10-08,melissakeller@gmail.com,Male,United States,Washington,Spokane,892243,Common Law\\n110,Brian Mckay,2024-12-10,brianmckay@yahoomail.com,Male,United States,Michigan,Detroit,837840,Divorced\\n111,Barrett Boyd,2023-06-21,barrettboyd7910@gmail.com,Transgender,India,Meghalaya,Shillong,726997,Common Law\\n112,Kaitlin Baker,2025-01-06,kaitlinbaker8228@yahoomail.com,Female,United States,Alabama,Huntsville,671132,Single\\n113,Quynn Hartman,2024-10-23,quynnhartman@gmail.com,Transgender,United States,Florida,Tampa,321216,Single\\n114,Arsenio Hoover,2024-06-27,arseniohoover8275@ymail.com,Male,United States,Vermont,South Burlington,277299,Divorced\\n115,Xander Dawson,2025-03-05,xanderdawson2300@yahoomail.com,Male,India,Tripura,Agartala,537228,Married\\n116,Dante Garcia,2024-03-20,dantegarcia9517@ymail.com,Male,United States,Indiana,Indianapolis,741979,Married\\n117,Ulla Solomon,2023-04-30,ullasolomon@ymail.com,Female,India,Uttarakhand,Haridwar,715220,Divorced\\n118,Penelope Hines,2024-06-17,penelopehines5838@ymail.com,Male,United States,Tennessee,Clarksville,331552,Single\\n119,Maxwell Weber,2023-11-20,maxwellweber1297@gmail.com,Transgender,United States,Ohio,Akron,829269,Married\\n120,Tatum Kent,2024-06-20,tatumkent@yahoomail.com,Female,United States,Oregon,Portland,432508,Divorced\\n121,Jarrod Bartlett,2024-06-01,jarrodbartlett@ymail.com,Female,United States,Washington,Seattle,431551,Single\\n122,Brianna Benson,2024-06-21,briannabenson@yahoomail.com,Female,India,Delhi,Delhi,608758,Married\\n123,Haley Griffin,2023-10-17,haleygriffin@yahoomail.com,Transgender,India,Tripura,Agartala,575296,Single\\n124,Marsden Hines,2023-07-31,marsdenhines@gmail.com,Female,India,Jharkhand,Mango,126280,Common Law\\n125,Caldwell Fowler,2024-12-13,caldwellfowler@ymail.com,Female,United States,Oklahoma,Lawton,437960,Married\\n126,Ebony Schroeder,2024-10-20,ebonyschroeder5299@gmail.com,Female,India,Jharkhand,Bokaro Steel City,703967,Married\\n127,Duncan Beasley,2024-01-02,duncanbeasley9750@yahoomail.com,Female,United States,Arizona,Glendale,964723,Married\\n128,Chancellor Espinoza,2024-10-10,chancellorespinoza463@ymail.com,Transgender,United States,Kentucky,Lexington,454813,Divorced\\n129,Libby Whitehead,2023-04-24,libbywhitehead@yahoomail.com,Male,India,Uttarakhand,Haridwar,384020,Divorced\\n130,Forrest Austin,2024-09-22,forrestaustin863@gmail.com,Female,United States,Colorado,Fort Collins,403238,Married\\n131,Octavia Crosby,2023-12-05,octaviacrosby@gmail.com,Transgender,India,Kerala,Palakkad,225358,Married\\n132,Hiroko Cummings,2023-10-08,hirokocummings@gmail.com,Transgender,United States,Oklahoma,Lawton,426369,Married\\n133,Desirae Jefferson,2023-08-15,desiraejefferson7456@yahoomail.com,Transgender,India,Delhi,Delhi,305028,Common Law\\n134,Wallace Perez,2023-08-28,wallaceperez1573@ymail.com,Male,India,Daman and Diu,Daman,430503,Single\\n135,Donna Mason,2025-02-21,donnamason@yahoomail.com,Female,United States,Indiana,Evansville,701790,Single\\n136,Quinn Hernandez,2024-03-09,quinnhernandez4536@gmail.com,Female,United States,Oklahoma,Norman,616690,Married\\n137,Vance Parrish,2024-05-17,vanceparrish@yahoomail.com,Male,United States,Indiana,Gary,244473,Divorced\\n138,Fallon Ewing,2024-08-02,fallonewing5329@ymail.com,Male,India,Madhya Pradesh,Murwara,132849,Divorced\\n139,Roary Mills,2023-12-14,roarymills@ymail.com,Female,United States,Delaware,Dover,916750,Common Law\\n140,Chase Shepard,2023-05-02,chaseshepard@ymail.com,Transgender,India,Bihar,Munger,160869,Single\\n141,Joshua Dawson,2023-12-11,joshuadawson4875@gmail.com,Male,India,Karnataka,Davangere,403684,Common Law\\n142,William Sandoval,2025-02-23,williamsandoval9419@yahoomail.com,Female,India,Jharkhand,Hazaribag,701264,Common Law\\n143,Steel Olson,2024-03-11,steelolson4212@gmail.com,Male,United States,Oregon,Salem,623648,Married\\n144,Ross Miller,2024-05-06,rossmiller1359@ymail.com,Transgender,India,Himachal Pradesh,Shimla,777754,Married\\n145,Geoffrey Hendricks,2025-02-24,geoffreyhendricks7717@yahoomail.com,Female,India,Sikkim,Gangtok,382364,Single\\n146,Vladimir Pierce,2025-03-04,vladimirpierce@ymail.com,Female,India,Andaman and Nicobar Islands,Port Blair,312067,Married\\n147,Savannah Camacho,2023-03-30,savannahcamacho@yahoomail.com,Female,India,Mizoram,Aizwal,851354,Divorced\\n148,Macey Davidson,2023-08-18,maceydavidson@ymail.com,Male,India,Odisha,Raurkela Civil Township,367171,Single\\n149,Nerea Hancock,2024-09-29,nereahancock7190@yahoomail.com,Female,India,Lakshadweep,Kavaratti,476217,Single\\n150,Gillian Mullen,2024-11-09,gillianmullen619@ymail.com,Transgender,India,Assam,Silchar,354391,Married\\n151,Christian Casey,2023-09-16,christiancasey6002@gmail.com,Female,United States,Georgia,Atlanta,763745,Married\\n152,Myra Berger,2024-04-20,myraberger4099@gmail.com,Male,India,Madhya Pradesh,Indore,757201,Single\\n153,Brendan Cummings,2025-02-19,brendancummings3963@yahoomail.com,Transgender,United States,Florida,Tampa,224543,Divorced\\n154,Amity Hill,2024-01-29,amityhill3730@gmail.com,Transgender,United States,Arkansas,Fayetteville,271949,Common Law\\n155,Brady Key,2025-03-02,bradykey5592@ymail.com,Transgender,India,West Bengal,Halisahar,377963,Divorced\\n156,Miriam Atkinson,2023-12-18,miriamatkinson@ymail.com,Female,India,Gujarat,Vejalpur,460883,Married\\n157,Lael Clark,2024-03-28,laelclark1170@yahoomail.com,Transgender,India,Bihar,Munger,456752,Married\\n158,Wing Henson,2025-01-02,winghenson4522@yahoomail.com,Transgender,United States,Massachusetts,Cambridge,710191,Common Law\\n159,Christian Atkins,2024-01-28,christianatkins5455@yahoomail.com,Female,India,Nagaland,Kohima,440858,Married\\n160,Mannix Ramirez,2023-06-29,mannixramirez@gmail.com,Female,India,Rajasthan,Kota,211656,Divorced\\n161,Ignacia Hendrix,2023-10-26,ignaciahendrix@ymail.com,Transgender,United States,Nevada,Carson City,573416,Divorced\\n162,Benjamin Collier,2024-10-19,benjamincollier3627@ymail.com,Transgender,United States,Missouri,Columbia,933492,Single\\n163,Martina Guerrero,2023-05-13,martinaguerrero410@ymail.com,Transgender,United States,Nebraska,Omaha,272101,Single\\n164,Maryam Black,2023-09-22,maryamblack5170@ymail.com,Male,United States,Colorado,Denver,813352,Single\\n165,Fuller Mcclain,2025-02-10,fullermcclain@ymail.com,Male,United States,Hawaii,Honolulu,112895,Common Law\\n166,Vera Myers,2023-10-06,veramyers@gmail.com,Transgender,India,Madhya Pradesh,Indore,700324,Single\\n167,Cain Petty,2024-06-13,cainpetty@ymail.com,Male,United States,Nevada,North Las Vegas,251294,Common Law\\n168,Martina Chandler,2024-10-21,martinachandler2063@ymail.com,Female,United States,Georgia,Augusta,117240,Single\\n169,Carlos Daniel,2024-10-12,carlosdaniel2221@gmail.com,Male,India,Tripura,Agartala,810935,Divorced\\n170,Travis Chen,2023-12-23,travischen2528@gmail.com,Transgender,United States,Washington,Olympia,672032,Common Law\\n171,Ursa Bird,2025-02-23,ursabird3150@ymail.com,Female,India,Punjab,Vihari,392924,Married\\n172,Jemima Ayers,2024-08-01,jemimaayers5884@yahoomail.com,Male,India,Lakshadweep,Kavaratti,453908,Common Law\\n173,Beverly Sanders,2024-12-20,beverlysanders@yahoomail.com,Transgender,India,Kerala,Kozhikode,218764,Single\\n174,Cain Garcia,2023-10-13,caingarcia9003@yahoomail.com,Female,India,Sikkim,Gangtok,204898,Married\\n175,Adria Cameron,2024-10-06,adriacameron@yahoomail.com,Female,India,Rajasthan,Jodhpur,185026,Married\\n176,Lillith Estes,2024-08-06,lillithestes6467@ymail.com,Transgender,India,Chhattisgarh,Raigarh,534968,Single\\n177,Clayton Marsh,2023-05-03,claytonmarsh@yahoomail.com,Transgender,India,Arunachal Pradesh,Itanagar,819036,Common Law\\n178,Winifred Bennett,2023-07-25,winifredbennett@gmail.com,Transgender,India,Uttar Pradesh,Sambhal,942125,Common Law\\n179,Colby Sosa,2025-01-16,colbysosa2385@yahoomail.com,Female,United States,Texas,Austin,571569,Single\\n180,Madeline Velasquez,2025-01-01,madelinevelasquez@yahoomail.com,Transgender,United States,Louisiana,Lafayette,486999,Common Law\\n181,Baker Sandoval,2023-06-03,bakersandoval8756@yahoomail.com,Transgender,United States,Montana,Helena,641870,Common Law\\n182,Bruno Bernard,2023-08-28,brunobernard@gmail.com,Female,India,Tamil Nadu,Tiruppur,688445,Single\\n183,Kyle Sargent,2024-11-17,kylesargent@yahoomail.com,Transgender,United States,Illinois,Springfield,549023,Common Law\\n184,Giacomo English,2023-06-04,giacomoenglish9179@gmail.com,Female,United States,Texas,Austin,584862,Married\\n185,Amaya Brock,2025-03-02,amayabrock@yahoomail.com,Transgender,United States,Maine,Auburn,136990,Married\\n186,Trevor Dejesus,2024-02-08,trevordejesus@ymail.com,Female,India,Nagaland,Kohima,776682,Married\\n187,Heather Jensen,2024-12-08,heatherjensen6018@yahoomail.com,Male,India,Bihar,Bhagalpur,375888,Married\\n188,Amos Weber,2023-08-08,amosweber@gmail.com,Female,United States,Vermont,Rutland,620554,Common Law\\n189,Abbot Parker,2023-09-08,abbotparker@ymail.com,Female,India,Mizoram,Aizwal,680256,Single\\n190,Mariam Berg,2023-09-22,mariamberg6810@yahoomail.com,Female,United States,Michigan,Sterling Heights,406262,Married\\n191,Jorden Rosario,2023-12-09,jordenrosario@yahoomail.com,Female,India,Goa,Panjim,257614,Single\\n192,Demetrius Richards,2023-11-13,demetriusrichards7399@yahoomail.com,Transgender,India,Arunachal Pradesh,Itanagar,685191,Common Law\\n193,Shannon Reeves,2023-06-03,shannonreeves3369@gmail.com,Male,United States,California,Los Angeles,223350,Common Law\\n194,Ima Holder,2025-02-23,imaholder9135@ymail.com,Transgender,India,Bihar,Bhagalpur,775737,Divorced\\n195,Lucas Reed,2024-07-16,lucasreed@gmail.com,Transgender,India,Mizoram,Aizwal,803231,Married\\n196,Colin Frederick,2024-01-30,colinfrederick@ymail.com,Female,United States,Minnesota,Rochester,885390,Married\\n197,Imogene Oliver,2023-10-19,imogeneoliver@gmail.com,Male,United States,Florida,Tallahassee,204529,Divorced\\n198,Ora Fulton,2023-07-28,orafulton4993@gmail.com,Male,India,Odisha,Puri,754220,Common Law\\n199,Dara Ingram,2024-10-21,daraingram3115@yahoomail.com,Female,United States,Mississippi,Jackson,915193,Common Law\\n200,George Burris,2024-05-25,georgeburris634@yahoomail.com,Male,United States,Maryland,Columbia,925045,Single\\n201,Jelani Mcdowell,2025-01-18,jelanimcdowell5825@ymail.com,Female,United States,Texas,Houston,227926,Single\\n202,Kerry Ruiz,2023-09-29,kerryruiz9936@yahoomail.com,Female,India,Haryana,Rohtak,488374,Divorced\\n203,Amela Bernard,2023-11-23,amelabernard@gmail.com,Male,India,Sikkim,Gangtok,377585,Divorced\\n204,Shelly Boyd,2024-07-25,shellyboyd5859@gmail.com,Transgender,India,Jharkhand,Ranchi,299914,Married\\n205,Mary Newman,2023-04-04,marynewman1683@ymail.com,Transgender,United States,Nebraska,Kearney,304771,Common Law\\n206,Ulysses Mullins,2024-12-02,ulyssesmullins@yahoomail.com,Transgender,India,Haryana,Yamuna Nagar,609983,Married\\n207,Tarik Mcmahon,2023-05-05,tarikmcmahon6174@yahoomail.com,Male,India,Daman and Diu,Daman,988172,Single\\n208,Jonas Decker,2023-05-08,jonasdecker@gmail.com,Male,India,Andaman and Nicobar Islands,Port Blair,967919,Common Law\\n209,Timon Calhoun,2023-04-01,timoncalhoun@gmail.com,Transgender,United States,Montana,Bozeman,163500,Divorced\\n210,Tucker Monroe,2024-07-13,tuckermonroe@yahoomail.com,Male,United States,California,San Diego,417657,Common Law\\n211,Jocelyn Kramer,2024-06-05,jocelynkramer@gmail.com,Female,India,Delhi,Delhi,302855,Married\\n212,Kylynn Ashley,2023-05-19,kylynnashley2398@yahoomail.com,Female,India,Chandigarh,Chandigarh,830823,Single\\n213,Gray Mckenzie,2023-07-28,graymckenzie@gmail.com,Male,United States,Massachusetts,Boston,322655,Single\\n214,Signe Waters,2024-10-11,signewaters8051@ymail.com,Transgender,United States,Alaska,College,119937,Common Law\\n215,Colton Swanson,2023-10-13,coltonswanson@yahoomail.com,Female,India,Himachal Pradesh,Shimla,797286,Single\\n216,Florence Clark,2024-09-23,florenceclark@yahoomail.com,Transgender,India,Nagaland,Kohima,656238,Single\\n217,Preston Combs,2023-04-24,prestoncombs@ymail.com,Transgender,United States,Virginia,Newport News,729274,Common Law\\n218,Claudia Goodman,2024-07-05,claudiagoodman@yahoomail.com,Female,United States,Mississippi,Hattiesburg,629883,Common Law\\n219,Erasmus Kline,2023-09-22,erasmuskline@yahoomail.com,Male,United States,Indiana,Evansville,154799,Divorced\\n220,Christian Walters,2023-04-14,christianwalters@yahoomail.com,Male,India,Uttar Pradesh,Sambhal,376632,Common Law\\n221,Liberty Wiley,2023-06-03,libertywiley@ymail.com,Male,India,Meghalaya,Shillong,695830,Divorced\\n222,Ralph Lester,2023-04-04,ralphlester@yahoomail.com,Transgender,India,Dadra and Nagar Haveli,Silvassa,595981,Common Law\\n223,Brenda Erickson,2024-11-04,brendaerickson@yahoomail.com,Female,India,Jharkhand,Dhanbad,427957,Married\\n224,Tana Whitfield,2025-01-23,tanawhitfield@gmail.com,Transgender,India,Dadra and Nagar Haveli,Silvassa,843333,Common Law\\n225,Jarrod Byrd,2023-07-13,jarrodbyrd@gmail.com,Male,India,Delhi,Delhi,831053,Single\\n226,Melanie Carr,2023-09-11,melaniecarr@gmail.com,Male,United States,Pennsylvania,Reading,264980,Single\\n227,Jescie Carter,2025-03-22,jesciecarter@gmail.com,Male,United States,Utah,West Valley City,792530,Married\\n228,Lana Velez,2023-03-28,lanavelez5326@yahoomail.com,Female,United States,Oklahoma,Broken Arrow,367175,Married\\n229,Aurelia Hughes,2024-01-15,aureliahughes@ymail.com,Transgender,India,Andhra Pradesh,Vijayawada,123131,Married\\n230,Gareth Wei\n\n*** WARNING: max output size exceeded, skipping output. ***\n\ngender,United States,Missouri,Saint Louis,791444,Single\\n273,Hayes Hendrix,2024-01-24,hayeshendrix@ymail.com,Transgender,India,Meghalaya,Shillong,528708,Single\\n274,Keegan Haynes,2023-08-17,keeganhaynes4246@ymail.com,Female,United States,Iowa,Davenport,345181,Divorced\\n275,Thomas Battle,2023-03-31,thomasbattle@ymail.com,Female,United States,Alabama,Montgomery,440154,Common Law\\n276,Karleigh Fischer,2024-03-02,karleighfischer5980@ymail.com,Male,India,West Bengal,Kharagpur,796209,Common Law\\n277,Fitzgerald Carney,2024-03-12,fitzgeraldcarney@gmail.com,Transgender,United States,Ohio,Akron,925691,Common Law\\n278,Miriam Fernandez,2025-03-27,miriamfernandez@gmail.com,Male,India,Tripura,Agartala,178629,Divorced\\n279,Clayton Fernandez,2024-12-23,claytonfernandez@yahoomail.com,Transgender,India,Tamil Nadu,Pallavaram,609328,Single\\n280,Octavia Hammond,2024-11-27,octaviahammond@gmail.com,Male,United States,Georgia,Augusta,239048,Divorced\\n281,Zahir Hahn,2023-09-17,zahirhahn@ymail.com,Female,India,Tripura,Agartala,768465,Divorced\\n282,Mufutau Mccullough,2024-02-29,mufutaumccullough@ymail.com,Female,India,Odisha,Raurkela,801718,Married\\n283,Kamal Dawson,2024-09-25,kamaldawson@yahoomail.com,Female,United States,Utah,West Jordan,414913,Divorced\\n284,Samantha Sullivan,2025-02-02,samanthasullivan@yahoomail.com,Transgender,India,Uttarakhand,Haridwar,233560,Married\\n285,Hayfa Gentry,2024-01-30,hayfagentry@gmail.com,Transgender,United States,Iowa,Iowa City,288444,Divorced\\n286,Eagan Mclean,2025-02-25,eaganmclean@ymail.com,Male,India,Assam,Guwahati,325650,Single\\n287,Lunea Little,2024-12-22,lunealittle@ymail.com,Transgender,United States,Vermont,Burlington,588947,Common Law\\n288,Rhonda Campos,2024-07-17,rhondacampos1990@ymail.com,Male,United States,Indiana,Gary,248809,Divorced\\n289,Addison Carpenter,2023-04-25,addisoncarpenter4107@ymail.com,Female,United States,Missouri,Columbia,774781,Married\\n290,Adam Lyons,2024-01-28,adamlyons667@gmail.com,Male,United States,Hawaii,Kaneohe,106171,Common Law\\n291,Rhona Knowles,2024-09-29,rhonaknowles7720@yahoomail.com,Transgender,India,Odisha,Cuttack,889617,Divorced\\n292,Walter Tran,2024-10-17,waltertran5781@ymail.com,Female,India,Himachal Pradesh,Shimla,890745,Common Law\\n293,Yvette Powers,2024-08-13,yvettepowers7011@yahoomail.com,Female,United States,Kentucky,Covington,103126,Married\\n294,Alden Durham,2024-04-14,aldendurham8520@ymail.com,Male,United States,Arizona,Glendale,136849,Married\\n295,Amaya Floyd,2023-11-02,amayafloyd2754@gmail.com,Male,United States,Colorado,Denver,375859,Common Law\\n296,Cooper Harmon,2023-08-25,cooperharmon@ymail.com,Male,United States,Washington,Bellevue,193274,Common Law\\n297,Hermione Mann,2023-08-02,hermionemann2896@gmail.com,Male,India,Dadra and Nagar Haveli,Silvassa,497856,Divorced\\n298,Chaney Myers,2024-04-25,chaneymyers8659@ymail.com,Female,India,Haryana,Yamuna Nagar,119187,Single\\n299,Kennedy Gordon,2024-12-12,kennedygordon@gmail.com,Male,United States,Maine,Augusta,548817,Single\\n300,Alexander Bailey,2024-12-18,alexanderbailey@ymail.com,Male,United States,Alaska,College,983143,Divorced\\n301,Mechelle Wright,2025-03-11,mechellewright@yahoomail.com,Female,United States,Ohio,Toledo,220356,Common Law\\n302,Yardley Garner,2023-06-18,yardleygarner652@gmail.com,Transgender,India,Uttarakhand,Dehradun,580336,Single\\n303,Angelica Schmidt,2025-02-03,angelicaschmidt@ymail.com,Transgender,United States,Kansas,Topeka,742026,Single\\n304,Russell Yang,2025-02-19,russellyang@gmail.com,Transgender,United States,Louisiana,Lafayette,677724,Married\\n305,Hedda Church,2024-02-24,heddachurch@yahoomail.com,Transgender,India,Madhya Pradesh,Shivapuri,707467,Divorced\\n306,Len Stevenson,2024-06-26,lenstevenson2285@gmail.com,Female,United States,Florida,Miami,475905,Common Law\\n307,Candice Pratt,2024-04-03,candicepratt@yahoomail.com,Transgender,India,Madhya Pradesh,Jabalpur,759873,Divorced\\n308,Whitney Sampson,2024-12-08,whitneysampson@yahoomail.com,Male,India,Jharkhand,Purulia,165515,Single\\n309,Malachi Crane,2023-11-10,malachicrane@gmail.com,Transgender,United States,Oregon,Eugene,636948,Common Law\\n310,Wendy Benton,2024-03-26,wendybenton@gmail.com,Transgender,United States,Montana,Bozeman,286988,Common Law\\n311,Celeste Parrish,2023-08-09,celesteparrish4253@yahoomail.com,Male,India,Odisha,Puri,524026,Married\\n312,Omar Lewis,2024-03-13,omarlewis@yahoomail.com,Transgender,India,West Bengal,Barrackpur,427235,Married\\n313,Dacey Marks,2024-01-18,daceymarks@yahoomail.com,Male,United States,Montana,Helena,248560,Single\\n314,Karen Sanders,2024-05-05,karensanders2856@yahoomail.com,Transgender,United States,Vermont,South Burlington,763098,Common Law\\n315,McKenzie Dudley,2024-06-11,mckenziedudley1296@ymail.com,Male,United States,Idaho,Boise,339369,Divorced\\n316,Lacy Stafford,2023-08-18,lacystafford5472@yahoomail.com,Male,India,Uttarakhand,Haridwar,174052,Married\\n317,Minerva Hicks,2024-04-05,minervahicks@gmail.com,Transgender,India,Arunachal Pradesh,Itanagar,236271,Divorced\\n318,Scott Mooney,2024-12-25,scottmooney@ymail.com,Male,United States,Vermont,Colchester,357481,Common Law\\n319,Anjolie Richardson,2024-07-03,anjolierichardson@gmail.com,Female,India,Odisha,Puri,423584,Married\\n320,Caldwell King,2024-10-06,caldwellking955@yahoomail.com,Transgender,India,Uttarakhand,Dehradun,309911,Divorced\\n321,Justine Schneider,2023-11-09,justineschneider2129@ymail.com,Female,India,Bihar,Darbhanga,470509,Single\\n322,Elaine Duran,2024-11-02,elaineduran@gmail.com,Male,India,Chandigarh,Chandigarh,967866,Divorced\\n323,Inez Baxter,2023-10-26,inezbaxter7771@ymail.com,Transgender,India,Uttarakhand,Haridwar,883494,Single\\n324,Zorita Oliver,2023-08-07,zoritaoliver6755@ymail.com,Male,India,Karnataka,Bidar,422734,Single\\n325,Kareem Woodward,2023-09-19,kareemwoodward6963@ymail.com,Female,United States,Alabama,Tuscaloosa,362771,Married\\n326,Callie Paul,2024-10-06,calliepaul@yahoomail.com,Female,India,Jharkhand,Mango,579060,Divorced\\n327,Debra Cantrell,2023-11-26,debracantrell3480@yahoomail.com,Female,United States,Alabama,Montgomery,715904,Single\\n328,Camilla Poole,2023-11-13,camillapoole4866@yahoomail.com,Male,India,Sikkim,Gangtok,211733,Single\\n329,Wendy Kemp,2024-09-14,wendykemp7428@ymail.com,Female,United States,California,San Francisco,561525,Common Law\\n330,Marshall Pugh,2023-06-21,marshallpugh@yahoomail.com,Male,India,Sikkim,Gangtok,852948,Single\\n331,Tucker Avila,2024-03-16,tuckeravila4562@ymail.com,Transgender,United States,Arizona,Chandler,616960,Divorced\\n332,Chloe Hickman,2023-10-30,chloehickman@yahoomail.com,Male,United States,Florida,St. Petersburg,707176,Divorced\\n333,Gray Bryan,2023-07-26,graybryan2361@yahoomail.com,Female,United States,Georgia,Georgia,336247,Single\\n334,Hedley Giles,2023-07-03,hedleygiles@gmail.com,Female,United States,Washington,Olympia,602568,Single\\n335,Maisie Mcgowan,2023-05-02,maisiemcgowan@yahoomail.com,Transgender,India,Karnataka,Shimoga,406341,Divorced\\n336,Adena Huff,2023-07-22,adenahuff@yahoomail.com,Male,United States,Colorado,Fort Collins,556191,Divorced\\n337,Yuri Barry,2024-06-19,yuribarry@gmail.com,Male,United States,Mississippi,Biloxi,682909,Divorced\\n338,Carl Kelly,2023-08-18,carlkelly5068@gmail.com,Female,United States,Alabama,Tuscaloosa,988477,Common Law\\n339,Joseph James,2023-10-20,josephjames@ymail.com,Male,United States,Arkansas,Little Rock,196818,Single\\n340,Cailin Sloan,2023-12-23,cailinsloan4385@ymail.com,Female,India,Tripura,Agartala,277358,Married\\n341,Deacon Lawrence,2024-10-16,deaconlawrence@ymail.com,Transgender,India,West Bengal,Bansberia,797921,Divorced\\n342,Anastasia Hall,2024-10-14,anastasiahall7829@yahoomail.com,Male,India,Odisha,Cuttack,404855,Divorced\\n343,Jessica Dodson,2023-07-06,jessicadodson4670@yahoomail.com,Transgender,United States,Hawaii,Honolulu,499890,Divorced\\n344,Amery Rosa,2023-04-26,ameryrosa4115@gmail.com,Male,India,Tripura,Agartala,552707,Common Law\\n345,Xantha Reeves,2023-12-19,xanthareeves@ymail.com,Female,United States,California,San Jose,208059,Divorced\\n346,Ivor Mclean,2024-07-29,ivormclean4202@yahoomail.com,Male,United States,Hawaii,Kaneohe,616269,Common Law\\n347,Elaine Mcfadden,2024-06-23,elainemcfadden@ymail.com,Female,United States,Wyoming,Wyoming,102407,Divorced\\n348,Kirby Watkins,2024-07-01,kirbywatkins@yahoomail.com,Male,United States,Wisconsin,Madison,614852,Single\\n349,Derek Morrow,2025-01-06,derekmorrow@yahoomail.com,Male,United States,Wyoming,Cheyenne,281353,Divorced\\n350,Coby Bates,2024-05-03,cobybates5143@yahoomail.com,Female,India,Maharastra,Solapur,132097,Common Law\\n351,Raja Tanner,2024-06-09,rajatanner@yahoomail.com,Male,India,West Bengal,Midnapore,409103,Common Law\\n352,Sandra Gonzales,2023-06-16,sandragonzales2622@yahoomail.com,Female,United States,Louisiana,New Orleans,195945,Single\\n353,Kimberley Winters,2024-07-27,kimberleywinters@yahoomail.com,Transgender,India,Sikkim,Gangtok,393270,Married\\n354,Ainsley Herring,2024-01-14,ainsleyherring7428@gmail.com,Female,India,Jharkhand,Purulia,664596,Married\\n355,Ria Wagner,2023-09-20,riawagner6426@yahoomail.com,Male,India,Tripura,Agartala,209418,Common Law\\n356,Paula Dominguez,2025-03-21,pauladominguez@ymail.com,Female,United States,Pennsylvania,Pittsburgh,997997,Single\\n357,Kitra Guerrero,2024-05-10,kitraguerrero@ymail.com,Transgender,India,Jharkhand,Bokaro Steel City,183182,Married\\n358,Sybil Hopper,2023-11-18,sybilhopper6994@ymail.com,Transgender,United States,Nebraska,Grand Island,362604,Common Law\\n359,Cecilia Bridges,2023-10-07,ceciliabridges772@yahoomail.com,Female,India,Andhra Pradesh,Khammam,337180,Common Law\\n360,Ignatius Espinoza,2024-05-31,ignatiusespinoza4495@yahoomail.com,Male,India,Madhya Pradesh,Damoh,205331,Common Law\\n361,Kasimir Henderson,2025-01-11,kasimirhenderson@yahoomail.com,Male,India,Uttarakhand,Dehradun,398322,Divorced\\n362,Byron Mcclain,2024-06-18,byronmcclain1729@ymail.com,Transgender,India,Odisha,Brahmapur,921139,Divorced\\n363,Cherokee Greer,2024-05-18,cherokeegreer@yahoomail.com,Female,India,Rajasthan,Pali,908110,Common Law\\n364,Allen Cash,2024-02-14,allencash@gmail.com,Female,United States,Kentucky,Owensboro,148263,Married\\n365,Sheila Kaufman,2024-01-30,sheilakaufman6366@yahoomail.com,Male,India,Manipur,Imphal,979536,Divorced\\n366,Evan Ramos,2023-05-10,evanramos4474@yahoomail.com,Transgender,India,Jharkhand,Dhanbad,860922,Single\\n367,Desiree Vinson,2025-01-05,desireevinson@ymail.com,Transgender,United States,Virginia,Newport News,654895,Single\\n368,Xandra Mason,2024-11-25,xandramason@yahoomail.com,Female,India,Uttar Pradesh,Hathras,824030,Single\\n369,Imani Merrill,2024-12-04,imanimerrill@gmail.com,Male,United States,Virginia,Norfolk,858837,Divorced\\n370,Desiree Williams,2023-07-17,desireewilliams@yahoomail.com,Female,India,Uttarakhand,Dehradun,699621,Single\\n371,Sebastian Parrish,2023-07-27,sebastianparrish@gmail.com,Male,United States,Maryland,Annapolis,716898,Divorced\\n372,Mari Clayton,2023-11-20,mariclayton@yahoomail.com,Transgender,India,Assam,Guwahati,114277,Divorced\\n373,Alfreda Garrison,2025-03-21,alfredagarrison9181@ymail.com,Transgender,India,Uttar Pradesh,Bahraich,495246,Married\\n374,Octavius Talley,2024-06-30,octaviustalley3876@yahoomail.com,Transgender,United States,Vermont,Montpelier,616124,Single\\n375,Jasmine Conway,2023-10-09,jasmineconway254@ymail.com,Transgender,United States,Arizona,Tucson,227935,Single\\n376,Oscar Randolph,2024-06-17,oscarrandolph@yahoomail.com,Transgender,United States,Oregon,Eugene,747341,Common Law\\n377,Armando Wood,2025-01-10,armandowood@gmail.com,Transgender,India,Uttar Pradesh,Shahjahanpur,340352,Married\\n378,Lunea Bond,2023-11-19,luneabond@ymail.com,Transgender,India,Andhra Pradesh,Nandyal,832428,Single\\n379,Kirk Eaton,2025-02-11,kirkeaton@yahoomail.com,Male,United States,Maryland,Gaithersburg,714667,Common Law\\n380,Meredith Cash,2025-03-28,meredithcash2365@ymail.com,Female,India,Himachal Pradesh,Shimla,547051,Married\\n381,Haley Santos,2024-09-09,haleysantos8249@yahoomail.com,Male,United States,Georgia,Augusta,850203,Single\\n382,Knox Gibson,2024-01-03,knoxgibson2304@gmail.com,Male,United States,Florida,Jacksonville,423145,Married\\n383,Ignatius Puckett,2024-06-28,ignatiuspuckett@yahoomail.com,Female,United States,Oklahoma,Oklahoma City,219154,Single\\n384,Charles Hampton,2025-03-01,charleshampton4167@yahoomail.com,Transgender,India,Jharkhand,Dhanbad,587639,Single\\n385,Clare Thompson,2024-03-25,clarethompson@ymail.com,Female,India,Daman and Diu,Daman,927069,Divorced\\n386,Celeste Wilder,2024-08-31,celestewilder@gmail.com,Transgender,United States,Florida,Orlando,579999,Divorced\\n387,Flynn Barrera,2024-06-10,flynnbarrera3262@yahoomail.com,Transgender,India,Punjab,Kamoke,133669,Single\\n388,Moses Goodman,2024-03-05,mosesgoodman6270@yahoomail.com,Transgender,United States,Alabama,Birmingham,917929,Common Law\\n389,Anjolie Banks,2024-10-20,anjoliebanks@gmail.com,Female,United States,Vermont,Burlington,574444,Married\\n390,Echo Randolph,2024-02-04,echorandolph5636@yahoomail.com,Male,India,Goa,Panjim,590173,Single\\n391,Michael Lindsay,2023-09-11,michaellindsay@ymail.com,Transgender,India,Bihar,Dehri,831564,Single\\n392,Donna Armstrong,2023-07-19,donnaarmstrong5810@yahoomail.com,Transgender,United States,Iowa,Cedar Rapids,142582,Single\\n393,Henry Riggs,2024-11-19,henryriggs@yahoomail.com,Transgender,United States,Maine,Portland,347124,Divorced\\n394,Justin Forbes,2024-10-17,justinforbes9901@gmail.com,Female,India,Punjab,Dera Ghazi Khan,367581,Single\\n395,Eagan Beck,2024-06-01,eaganbeck@yahoomail.com,Transgender,United States,Alaska,Anchorage,804374,Married\\n396,Quon Lester,2024-07-22,quonlester@gmail.com,Female,India,Delhi,Delhi,404830,Common Law\\n397,Justin Hancock,2024-08-16,justinhancock3400@ymail.com,Transgender,United States,Ohio,Toledo,355054,Divorced\\n398,Tanisha Hancock,2024-12-05,tanishahancock1346@yahoomail.com,Female,United States,Alabama,Tuscaloosa,863123,Single\\n399,Sara Mathews,2024-06-17,saramathews1784@ymail.com,Female,United States,Montana,Helena,102354,Divorced\\n400,Ferris Church,2024-07-04,ferrischurch8215@yahoomail.com,Male,United States,Oregon,Hillsboro,293888,Married\\n401,Drake Rich,2023-04-28,drakerich@gmail.com,Female,United States,Washington,Vancouver,978895,Divorced\\n402,Sebastian Wells,2025-01-18,sebastianwells@gmail.com,Female,India,Lakshadweep,Kavaratti,983698,Divorced\\n403,Astra Roman,2023-08-20,astraroman@yahoomail.com,Transgender,India,Jammu and Kashmir,Srinagar,870478,Married\\n404,MacKensie Wyatt,2024-08-13,mackensiewyatt6110@yahoomail.com,Transgender,United States,Maryland,Columbia,118255,Single\\n405,Leilani Blevins,2023-08-16,leilaniblevins474@ymail.com,Transgender,United States,Kentucky,Lexington,867698,Married\\n406,Fuller Ashley,2024-10-10,fullerashley278@gmail.com,Male,United States,Nevada,Reno,492326,Single\\n407,Elton Gray,2024-09-05,eltongray@ymail.com,Male,United States,Minnesota,Duluth,736867,Divorced\\n408,Jaime Dale,2024-04-28,jaimedale@ymail.com,Transgender,United States,Vermont,Colchester,633262,Common Law\\n409,Quintessa Potts,2023-05-24,quintessapotts3866@gmail.com,Female,United States,Vermont,South Burlington,796141,Common Law\\n410,Victor Bond,2023-12-01,victorbond@gmail.com,Male,United States,Oregon,Salem,234938,Divorced\\n411,Shea Collins,2024-09-30,sheacollins@ymail.com,Female,India,Meghalaya,Shillong,525552,Common Law\\n412,Daphne Camacho,2023-06-12,daphnecamacho6812@yahoomail.com,Female,India,Goa,Panjim,812443,Married\\n413,Charles Byrd,2024-08-16,charlesbyrd@yahoomail.com,Female,India,Mizoram,Aizwal,259345,Common Law\\n414,Burke Luna,2023-04-15,burkeluna@gmail.com,Transgender,United States,Ohio,Akron,163487,Single\\n415,Lucius Love,2025-02-20,luciuslove2596@yahoomail.com,Male,United States,Maine,Lewiston,961070,Married\\n416,Bryar Levy,2024-03-29,bryarlevy9747@ymail.com,Male,India,Haryana,Sonipat,759877,Common Law\\n417,Florence Rasmussen,2024-06-25,florencerasmussen3962@gmail.com,Female,India,West Bengal,Kharagpur,760116,Divorced\\n418,Roth Weiss,2023-08-04,rothweiss@gmail.com,Transgender,United States,Massachusetts,Worcester,189339,Common Law\\n419,Tamara Romero,2024-06-13,tamararomero933@yahoomail.com,Transgender,India,Manipur,Imphal,690424,Married\\n420,Tanek Roach,2025-01-01,tanekroach@yahoomail.com,Female,United States,Iowa,Iowa City,330707,Single\\n421,Emma Dotson,2024-10-06,emmadotson@yahoomail.com,Transgender,India,Tamil Nadu,Kumbakonam,165103,Divorced\\n422,Joel Guthrie,2024-02-07,joelguthrie@yahoomail.com,Transgender,India,Jharkhand,Jamshedpur,162698,Single\\n423,Leo Frazier,2024-07-11,leofrazier8664@gmail.com,Male,United States,Wisconsin,Green Bay,825638,Common Law\\n424,Hector Campbell,2024-01-31,hectorcampbell489@ymail.com,Transgender,India,Andaman and Nicobar Islands,Port Blair,192146,Single\\n425,Gregory Welch,2024-01-17,gregorywelch@gmail.com,Male,United States,Virginia,Virginia Beach,391705,Common Law\\n426,Emerald Donaldson,2024-08-19,emeralddonaldson7906@gmail.com,Transgender,United States,Vermont,Burlington,282502,Married\\n427,Carl Reed,2024-10-29,carlreed@ymail.com,Female,India,Daman and Diu,Daman,173352,Common Law\\n428,Hector Macdonald,2023-12-16,hectormacdonald@gmail.com,Transgender,United States,Oregon,Eugene,316663,Married\\n429,Kelsey Burgess,2024-09-25,kelseyburgess972@yahoomail.com,Male,United States,Minnesota,Saint Paul,818055,Common Law\\n430,Dante Kirk,2023-05-09,dantekirk@yahoomail.com,Transgender,United States,Nebraska,Lincoln,816223,Common Law\\n431,Hashim Hoffman,2023-03-30,hashimhoffman@yahoomail.com,Male,United States,Maine,Portland,564107,Common Law\\n432,Palmer York,2024-07-07,palmeryork7619@yahoomail.com,Male,United States,Idaho,Boise,221518,Single\\n433,Kiara Mcintosh,2024-08-31,kiaramcintosh3318@ymail.com,Male,United States,Washington,Spokane,467999,Common Law\\n434,Hanae Michael,2024-12-18,hanaemichael2945@yahoomail.com,Female,India,Andhra Pradesh,Rajahmundry,879970,Married\\n435,Rudyard Le,2024-10-01,rudyardle2589@ymail.com,Male,India,Nagaland,Kohima,458226,Divorced\\n436,Louis Acosta,2023-06-25,louisacosta@yahoomail.com,Transgender,United States,Hawaii,Kaneohe,327709,Married\\n437,Tobias Hartman,2024-02-04,tobiashartman@gmail.com,Male,United States,Illinois,Aurora,875819,Single\\n438,Steel Mcgowan,2024-03-17,steelmcgowan9141@yahoomail.com,Transgender,India,Uttarakhand,Haridwar,521613,Married\\n439,Darrel Manning,2023-08-01,darrelmanning@ymail.com,Male,India,Dadra and Nagar Haveli,Silvassa,102491,Married\\n440,Denton Grant,2024-09-25,dentongrant@yahoomail.com,Female,India,Meghalaya,Shillong,979148,Single\\n441,Stella Hatfield,2024-07-02,stellahatfield@gmail.com,Transgender,United States,Virginia,Virginia Beach,607086,Divorced\\n442,Carson Moody,2025-03-12,carsonmoody@ymail.com,Male,United States,Connecticut,Bridgeport,302206,Single\\n443,Susan Irwin,2023-09-28,susanirwin1988@ymail.com,Female,United States,Nebraska,Grand Island,709222,Common Law\\n444,Tyrone Santiago,2024-12-21,tyronesantiago@ymail.com,Transgender,United States,Nebraska,Lincoln,680547,Divorced\\n445,Prescott Park,2024-07-24,prescottpark@gmail.com,Transgender,United States,Florida,Tampa,712894,Common Law\\n446,Roth Frank,2023-11-03,rothfrank@gmail.com,Female,India,Punjab,Jhang,327041,Divorced\\n447,Jared Trujillo,2023-11-09,jaredtrujillo580@yahoomail.com,Female,India,Tamil Nadu,Salem,885714,Single\\n448,Aline Mullins,2025-01-26,alinemullins265@yahoomail.com,Female,India,Mizoram,Aizwal,260973,Single\\n449,Fuller Nash,2025-01-10,fullernash@ymail.com,Male,United States,Ohio,Cincinnati,539595,Common Law\\n450,Emerald Dodson,2024-03-11,emeralddodson8910@gmail.com,Female,United States,Virginia,Newport News,207766,Common Law\\n451,Reece Melendez,2025-01-05,reecemelendez496@ymail.com,Transgender,United States,Idaho,Pocatello,417791,Single\\n452,Jaden Sanford,2025-02-03,jadensanford@yahoomail.com,Female,India,Goa,Panjim,444557,Common Law\\n453,Cedric Lyons,2024-04-10,cedriclyons314@gmail.com,Female,United States,California,Los Angeles,783157,Married\\n454,Lucas Bond,2024-01-14,lucasbond@ymail.com,Male,United States,Nebraska,Grand Island,967678,Single\\n455,Macaulay Lamb,2024-01-31,macaulaylamb@ymail.com,Female,India,Haryana,Gurgaon,530722,Divorced\\n456,Thor Ball,2023-09-17,thorball@ymail.com,Transgender,India,Odisha,Bhubaneswar,812883,Married\\n457,George Trujillo,2023-08-08,georgetrujillo8076@yahoomail.com,Transgender,United States,Louisiana,Shreveport,649974,Common Law\\n458,TaShya Padilla,2023-04-01,tashyapadilla@yahoomail.com,Transgender,India,Kerala,Kozhikode,839898,Divorced\\n459,Maisie Moody,2023-12-27,maisiemoody@gmail.com,Transgender,United States,Massachusetts,Lowell,420994,Common Law\\n460,Nasim Valenzuela,2023-07-16,nasimvalenzuela6979@gmail.com,Female,United States,Maryland,Rockville,153402,Common Law\\n461,Xyla Sheppard,2023-09-10,xylasheppard@gmail.com,Female,United States,Alabama,Mobile,432996,Divorced\\n462,Joelle Banks,2025-01-29,joellebanks6110@ymail.com,Male,India,Jammu and Kashmir,Srinagar,257010,Married\\n463,Vera Mcfadden,2024-04-06,veramcfadden@gmail.com,Male,India,Maharastra,Ulhasnagar,647938,Single\\n464,Martin Palmer,2025-01-14,martinpalmer@yahoomail.com,Female,India,Arunachal Pradesh,Itanagar,763472,Divorced\\n465,Chester Price,2023-05-24,chesterprice@ymail.com,Female,India,Rajasthan,Sikar,168703,Common Law\\n466,Benjamin Chapman,2023-07-14,benjaminchapman2395@gmail.com,Female,India,Dadra and Nagar Haveli,Silvassa,232333,Common Law\\n467,Kirk Case,2023-10-07,kirkcase8552@yahoomail.com,Male,India,Goa,Panjim,355499,Common Law\\n468,Brenden Gaines,2023-07-07,brendengaines9344@ymail.com,Male,United States,Arizona,Glendale,463563,Married\\n469,Ginger Dodson,2023-10-03,gingerdodson4832@yahoomail.com,Transgender,United States,Georgia,Atlanta,930414,Common Law\\n470,Kitra Blankenship,2023-09-15,kitrablankenship5441@yahoomail.com,Female,India,Uttarakhand,Dehradun,992918,Divorced\\n471,Shannon Copeland,2024-10-18,shannoncopeland@yahoomail.com,Male,India,Jammu and Kashmir,Srinagar,804896,Single\\n472,Haley Randolph,2024-10-08,haleyrandolph@ymail.com,Male,India,Goa,Panjim,123743,Married\\n473,Jelani Todd,2023-12-19,jelanitodd8452@yahoomail.com,Male,India,Sikkim,Gangtok,790502,Married\\n474,Dylan Smith,2024-09-24,dylansmith2811@gmail.com,Male,United States,Nebraska,Bellevue,779317,Common Law\\n475,Maggy Patel,2024-10-03,maggypatel@ymail.com,Male,India,Odisha,Raurkela Civil Township,848957,Married\\n476,Scarlett Campos,2025-01-17,scarlettcampos@ymail.com,Male,India,Daman and Diu,Daman,322551,Single\\n477,Dieter Davis,2024-07-18,dieterdavis@yahoomail.com,Male,United States,Maryland,Rockville,562451,Divorced\\n478,Blake Hanson,2024-01-05,blakehanson176@gmail.com,Female,United States,Missouri,Springfield,423950,Divorced\\n479,Lydia Glass,2023-12-31,lydiaglass@gmail.com,Female,India,Uttarakhand,Haridwar,205993,Married\\n480,Knox Tran,2023-05-22,knoxtran6338@yahoomail.com,Transgender,United States,Georgia,Augusta,821838,Divorced\\n481,Nissim Miller,2024-06-12,nissimmiller@ymail.com,Female,India,Daman and Diu,Daman,548427,Single\\n482,Jeanette Carroll,2024-09-24,jeanettecarroll5407@ymail.com,Female,India,Uttarakhand,Haridwar,641005,Single\\n483,Jelani Velazquez,2024-02-18,jelanivelazquez5928@gmail.com,Male,India,Punjab,Wazirabad,859660,Common Law\\n484,Erich Miles,2024-08-19,erichmiles8097@yahoomail.com,Transgender,United States,Illinois,Joliet,350856,Divorced\\n485,Hasad Lindsey,2025-01-28,hasadlindsey9058@gmail.com,Male,India,Assam,Guwahati,279585,Single\\n486,Jena Barron,2024-09-01,jenabarron8335@yahoomail.com,Transgender,United States,Idaho,Meridian,318616,Single\\n487,Zelenia Weaver,2023-04-12,zeleniaweaver8733@yahoomail.com,Transgender,India,Tripura,Agartala,930443,Common Law\\n488,Driscoll Shepherd,2024-07-23,driscollshepherd@ymail.com,Female,India,Kerala,Kollam,535278,Common Law\\n489,Gabriel Contreras,2024-09-16,gabrielcontreras@ymail.com,Female,United States,Indiana,Gary,495786,Single\\n490,Odette Hill,2024-10-31,odettehill@ymail.com,Female,India,Madhya Pradesh,Bhopal,605344,Married\\n491,Sara Armstrong,2024-10-27,saraarmstrong2557@gmail.com,Female,United States,Kentucky,Covington,551052,Married\\n492,Daquan Salazar,2024-11-21,daquansalazar2356@ymail.com,Female,India,Mizoram,Aizwal,469243,Divorced\\n493,Hilary Roberson,2023-06-03,hilaryroberson8886@yahoomail.com,Transgender,United States,Idaho,Pocatello,443442,Divorced\\n494,Germaine Woodard,2023-10-21,germainewoodard@gmail.com,Male,United States,California,San Jose,533818,Common Law\\n495,Jolene Moss,2024-03-07,jolenemoss@ymail.com,Transgender,United States,Illinois,Naperville,459673,Single\\n496,Scarlet Kennedy,2023-09-12,scarletkennedy2458@yahoomail.com,Transgender,United States,Massachusetts,Lowell,583656,Single\\n497,Erasmus Nieves,2025-01-17,erasmusnieves@yahoomail.com,Transgender,United States,Hawaii,Kailua,503268,Common Law\\n498,Barry Rhodes,2024-11-21,barryrhodes6474@gmail.com,Transgender,United States,Michigan,Sterling Heights,396663,Divorced\\n499,Pandora Garza,2024-05-17,pandoragarza@yahoomail.com,Female,United States,Alaska,College,948174,Divorced\\n500,Celeste Hernandez,2024-05-20,celestehernandez4644@yahoomail.com,Male,United States,Illinois,Springfield,964810,Common Law\\n'"
     ]
    }
   ],
   "source": [
    "dbutils.fs.head(\"/test/users_001.csv\")"
   ]
  },
  {
   "cell_type": "markdown",
   "metadata": {
    "application/vnd.databricks.v1+cell": {
     "cellMetadata": {},
     "inputWidgets": {},
     "nuid": "278acd16-aa71-41dd-8193-919bad0c4151",
     "showTitle": false,
     "title": ""
    }
   },
   "source": [
    "## Widget Utilities\n",
    "\n",
    "> Databricks notebook widgets are interactive elements that allows users to input values or make selection withing databricks notebook"
   ]
  },
  {
   "cell_type": "code",
   "execution_count": 0,
   "metadata": {
    "application/vnd.databricks.v1+cell": {
     "cellMetadata": {
      "byteLimit": 2048000,
      "rowLimit": 10000
     },
     "inputWidgets": {},
     "nuid": "299ca7bf-96cc-4332-9557-8792ba9e4bc2",
     "showTitle": false,
     "title": ""
    }
   },
   "outputs": [
    {
     "output_type": "display_data",
     "data": {
      "text/html": [
       "<div class = \"ansiout\"><b>dbutils.widgets</b> provides utilities for working with notebook widgets. You can create\n",
       "different types of widgets and get their bound value.\n",
       "\n",
       "For more info about a method, use <b>dbutils.widgets.help(\"methodName\")</b>.\n",
       "    <h3></h3><b>combobox(name: String, defaultValue: String, choices: Seq, label: String): void</b> -> Creates a combobox input widget with a given name, default value and choices<br /><b>dropdown(name: String, defaultValue: String, choices: Seq, label: String): void</b> -> Creates a dropdown input widget a with given name, default value and choices<br /><b>get(name: String): String</b> -> Retrieves current value of an input widget<br /><b>getArgument(name: String, optional: String): String</b> -> (DEPRECATED) Equivalent to get<br /><b>multiselect(name: String, defaultValue: String, choices: Seq, label: String): void</b> -> Creates a multiselect input widget with a given name, default value and choices<br /><b>remove(name: String): void</b> -> Removes an input widget from the notebook<br /><b>removeAll: void</b> -> Removes all widgets in the notebook<br /><b>text(name: String, defaultValue: String, label: String): void</b> -> Creates a text input widget with a given name and default value<br /><br /></div>"
      ]
     },
     "metadata": {
      "application/vnd.databricks.v1+output": {
       "addedWidgets": {},
       "arguments": {},
       "data": "<div class = \"ansiout\"><b>dbutils.widgets</b> provides utilities for working with notebook widgets. You can create\ndifferent types of widgets and get their bound value.\n\nFor more info about a method, use <b>dbutils.widgets.help(\"methodName\")</b>.\n    <h3></h3><b>combobox(name: String, defaultValue: String, choices: Seq, label: String): void</b> -> Creates a combobox input widget with a given name, default value and choices<br /><b>dropdown(name: String, defaultValue: String, choices: Seq, label: String): void</b> -> Creates a dropdown input widget a with given name, default value and choices<br /><b>get(name: String): String</b> -> Retrieves current value of an input widget<br /><b>getArgument(name: String, optional: String): String</b> -> (DEPRECATED) Equivalent to get<br /><b>multiselect(name: String, defaultValue: String, choices: Seq, label: String): void</b> -> Creates a multiselect input widget with a given name, default value and choices<br /><b>remove(name: String): void</b> -> Removes an input widget from the notebook<br /><b>removeAll: void</b> -> Removes all widgets in the notebook<br /><b>text(name: String, defaultValue: String, label: String): void</b> -> Creates a text input widget with a given name and default value<br /><br /></div>",
       "datasetInfos": [],
       "metadata": {},
       "removedWidgets": [],
       "textData": null,
       "type": "htmlSandbox"
      }
     },
     "output_type": "display_data"
    }
   ],
   "source": [
    "dbutils.widgets.help()"
   ]
  },
  {
   "cell_type": "markdown",
   "metadata": {
    "application/vnd.databricks.v1+cell": {
     "cellMetadata": {},
     "inputWidgets": {},
     "nuid": "8fd32907-3a3a-4514-862d-c46b90708bd1",
     "showTitle": false,
     "title": ""
    }
   },
   "source": [
    "### Combobox"
   ]
  },
  {
   "cell_type": "code",
   "execution_count": 0,
   "metadata": {
    "application/vnd.databricks.v1+cell": {
     "cellMetadata": {
      "byteLimit": 2048000,
      "rowLimit": 10000
     },
     "inputWidgets": {},
     "nuid": "c08afd35-0adf-4895-bbb2-c49b0e212b3f",
     "showTitle": false,
     "title": ""
    }
   },
   "outputs": [
    {
     "output_type": "stream",
     "name": "stdout",
     "output_type": "stream",
     "text": [
      "Top N Records: 10\n"
     ]
    }
   ],
   "source": [
    "dbutils.widgets.combobox(name=\"top_n_records\",\n",
    "                         defaultValue=\"5\",\n",
    "                         choices=[\"5\",\"10\",\"15\",\"20\"],\n",
    "                         label=\"Top N Records\")\n",
    "top_n_records = dbutils.widgets.get(\"top_n_records\")\n",
    "print(f\"Top N Records: {top_n_records}\")                        "
   ]
  },
  {
   "cell_type": "code",
   "execution_count": 0,
   "metadata": {
    "application/vnd.databricks.v1+cell": {
     "cellMetadata": {
      "byteLimit": 2048000,
      "rowLimit": 10000
     },
     "inputWidgets": {},
     "nuid": "b914389c-da68-4374-aca9-8f0116640c79",
     "showTitle": false,
     "title": ""
    }
   },
   "outputs": [],
   "source": [
    "dbutils.widgets.remove(\"top_n_records\")"
   ]
  },
  {
   "cell_type": "code",
   "execution_count": 0,
   "metadata": {
    "application/vnd.databricks.v1+cell": {
     "cellMetadata": {
      "byteLimit": 2048000,
      "rowLimit": 10000
     },
     "inputWidgets": {},
     "nuid": "6a892e43-aa97-4d56-859f-fce0cff9c097",
     "showTitle": false,
     "title": ""
    }
   },
   "outputs": [
    {
     "output_type": "stream",
     "name": "stdout",
     "output_type": "stream",
     "text": [
      "Hellp\n"
     ]
    }
   ],
   "source": [
    "print(\"Hellp\")"
   ]
  },
  {
   "cell_type": "code",
   "execution_count": 0,
   "metadata": {
    "application/vnd.databricks.v1+cell": {
     "cellMetadata": {
      "byteLimit": 2048000,
      "rowLimit": 10000
     },
     "inputWidgets": {},
     "nuid": "17fe70dc-5075-4914-bdec-f47848f3add3",
     "showTitle": false,
     "title": ""
    }
   },
   "outputs": [
    {
     "output_type": "stream",
     "name": "stdout",
     "output_type": "stream",
     "text": [
      "Environment type: Pre Production\n"
     ]
    }
   ],
   "source": [
    "dbutils.widgets.dropdown(name=\"environment\",\n",
    "                         defaultValue=\"Development\",\n",
    "                         choices=[\"Development\",\"Testing\",\"Production\",\"Pre Production\"],\n",
    "                         label=\"Environment type\")\n",
    "environment = dbutils.widgets.get(\"environment\")\n",
    "print(f\"Environment type: {environment}\")                               "
   ]
  },
  {
   "cell_type": "code",
   "execution_count": 0,
   "metadata": {
    "application/vnd.databricks.v1+cell": {
     "cellMetadata": {
      "byteLimit": 2048000,
      "rowLimit": 10000
     },
     "inputWidgets": {},
     "nuid": "5d5d24c2-1676-40de-a821-9831700bfc5e",
     "showTitle": false,
     "title": ""
    }
   },
   "outputs": [],
   "source": [
    "dbutils.widgets.multiselect(name=\"technology\", defaultValue=\"2G\", choices=[\"2G\",\"3G\",\"4G\"], label=\"Technology\")"
   ]
  },
  {
   "cell_type": "code",
   "execution_count": 0,
   "metadata": {
    "application/vnd.databricks.v1+cell": {
     "cellMetadata": {},
     "inputWidgets": {},
     "nuid": "58d2f501-fb1b-47a8-a33f-f4de475d431d",
     "showTitle": false,
     "title": ""
    }
   },
   "outputs": [],
   "source": []
  }
 ],
 "metadata": {
  "application/vnd.databricks.v1+notebook": {
   "dashboards": [],
   "environmentMetadata": null,
   "language": "python",
   "notebookMetadata": {
    "pythonIndentUnit": 4
   },
   "notebookName": "02. Databricks Utilities",
   "widgets": {
    "environment": {
     "currentValue": "Pre Production",
     "nuid": "4e189a43-4810-4cb5-822b-0236580ed735",
     "typedWidgetInfo": null,
     "widgetInfo": {
      "widgetType": "dropdown",
      "defaultValue": "Development",
      "label": "Environment type",
      "name": "environment",
      "options": {
       "widgetType": "dropdown",
       "autoCreated": null,
       "choices": [
        "Development",
        "Testing",
        "Production",
        "Pre Production"
       ]
      }
     }
    },
    "technology": {
     "currentValue": "2G",
     "nuid": "4efb7659-2a21-4075-994f-d499a1b79e38",
     "typedWidgetInfo": null,
     "widgetInfo": {
      "widgetType": "multiselect",
      "defaultValue": "2G",
      "label": "Technology",
      "name": "technology",
      "options": {
       "widgetType": "dropdown",
       "autoCreated": false,
       "choices": [
        "2G",
        "3G",
        "4G",
        "5G"
       ]
      }
     }
    }
   }
  }
 },
 "nbformat": 4,
 "nbformat_minor": 0
}
