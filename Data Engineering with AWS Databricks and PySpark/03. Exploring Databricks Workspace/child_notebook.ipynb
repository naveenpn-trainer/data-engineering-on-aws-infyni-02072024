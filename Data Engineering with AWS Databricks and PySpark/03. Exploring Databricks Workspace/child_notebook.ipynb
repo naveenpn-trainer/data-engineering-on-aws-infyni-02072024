{
 "cells": [
  {
   "cell_type": "code",
   "execution_count": 0,
   "metadata": {
    "application/vnd.databricks.v1+cell": {
     "cellMetadata": {
      "byteLimit": 2048000,
      "rowLimit": 10000
     },
     "inputWidgets": {},
     "nuid": "65317c89-c36c-45e0-8faf-f077f18b6d4e",
     "showTitle": false,
     "title": ""
    }
   },
   "outputs": [
    {
     "output_type": "stream",
     "name": "stdout",
     "output_type": "stream",
     "text": [
      "Child Notebook called\n"
     ]
    }
   ],
   "source": [
    "print(\"Child Notebook called\")\n"
   ]
  },
  {
   "cell_type": "code",
   "execution_count": 0,
   "metadata": {
    "application/vnd.databricks.v1+cell": {
     "cellMetadata": {
      "byteLimit": 2048000,
      "rowLimit": 10000
     },
     "inputWidgets": {},
     "nuid": "0dfb6662-145e-4305-83fb-5308f82ecddf",
     "showTitle": false,
     "title": ""
    }
   },
   "outputs": [
    {
     "output_type": "stream",
     "name": "stdout",
     "output_type": "stream",
     "text": [
      "Environment type: Development\n"
     ]
    }
   ],
   "source": [
    "dbutils.widgets.dropdown(name=\"environment\",\n",
    "                         defaultValue=\"Development\",\n",
    "                         choices=[\"Development\",\"Testing\",\"Production\",\"Pre Production\"],\n",
    "                         label=\"Environment type\")\n",
    "environment = dbutils.widgets.get(\"environment\")\n",
    "print(f\"Environment type: {environment}\")                               "
   ]
  },
  {
   "cell_type": "code",
   "execution_count": 0,
   "metadata": {
    "application/vnd.databricks.v1+cell": {
     "cellMetadata": {
      "byteLimit": 2048000,
      "rowLimit": 10000
     },
     "inputWidgets": {},
     "nuid": "4e57d572-ec7f-4a8a-90d3-d4eebd1e5819",
     "showTitle": false,
     "title": ""
    }
   },
   "outputs": [
    {
     "output_type": "stream",
     "name": "stdout",
     "output_type": "stream",
     "text": [
      "Environment type: c:/\n"
     ]
    }
   ],
   "source": [
    "dbutils.widgets.text(name=\"output_location\",\n",
    "                         defaultValue=\"c:/\",\n",
    "                         label=\"Output Location\")\n",
    "output_location = dbutils.widgets.get(\"output_location\")\n",
    "print(f\"Output Location: {output_location}\")                               "
   ]
  },
  {
   "cell_type": "code",
   "execution_count": 0,
   "metadata": {
    "application/vnd.databricks.v1+cell": {
     "cellMetadata": {},
     "inputWidgets": {},
     "nuid": "e1c21380-b674-4f21-a2cd-a3f27b531440",
     "showTitle": false,
     "title": ""
    }
   },
   "outputs": [],
   "source": [
    "dbutils.notebook.exit(f\"Output Location: {output_location}, Environment type: {environment}\")"
   ]
  }
 ],
 "metadata": {
  "application/vnd.databricks.v1+notebook": {
   "dashboards": [],
   "environmentMetadata": null,
   "language": "python",
   "notebookMetadata": {
    "pythonIndentUnit": 4
   },
   "notebookName": "child_notebook",
   "widgets": {
    "environment": {
     "currentValue": "Development",
     "nuid": "ef985791-ebd6-4e18-b161-7c85334432f5",
     "typedWidgetInfo": null,
     "widgetInfo": {
      "widgetType": "dropdown",
      "defaultValue": "Development",
      "label": "Environment type",
      "name": "environment",
      "options": {
       "widgetType": "dropdown",
       "autoCreated": null,
       "choices": [
        "Development",
        "Testing",
        "Production",
        "Pre Production"
       ]
      }
     }
    },
    "output_location": {
     "currentValue": "c:/",
     "nuid": "ce762f6a-016b-45be-ab0a-6cbaa314d130",
     "typedWidgetInfo": null,
     "widgetInfo": {
      "widgetType": "text",
      "defaultValue": "c:/",
      "label": "Output Location",
      "name": "output_location",
      "options": {
       "widgetType": "text",
       "autoCreated": null,
       "validationRegex": null
      }
     }
    }
   }
  }
 },
 "nbformat": 4,
 "nbformat_minor": 0
}
